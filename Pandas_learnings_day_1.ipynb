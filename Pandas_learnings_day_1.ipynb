{
  "nbformat": 4,
  "nbformat_minor": 0,
  "metadata": {
    "colab": {
      "name": "Pandas_learnings_day_1.ipynb",
      "provenance": [],
      "collapsed_sections": [],
      "authorship_tag": "ABX9TyPAD61hu6G2WkGT6yX1fWZg",
      "include_colab_link": true
    },
    "kernelspec": {
      "name": "python3",
      "display_name": "Python 3"
    },
    "language_info": {
      "name": "python"
    }
  },
  "cells": [
    {
      "cell_type": "markdown",
      "metadata": {
        "id": "view-in-github",
        "colab_type": "text"
      },
      "source": [
        "<a href=\"https://colab.research.google.com/github/venkatesh-manikumar/Python_learnings/blob/main/Pandas_learnings_day_1.ipynb\" target=\"_parent\"><img src=\"https://colab.research.google.com/assets/colab-badge.svg\" alt=\"Open In Colab\"/></a>"
      ]
    },
    {
      "cell_type": "code",
      "execution_count": 4,
      "metadata": {
        "id": "jvsRDJSR2QQZ"
      },
      "outputs": [],
      "source": [
        "import pandas as pd\n",
        "import numpy as np"
      ]
    },
    {
      "cell_type": "markdown",
      "source": [
        "### Creating a Pandas series"
      ],
      "metadata": {
        "id": "SI8VHty53yiG"
      }
    },
    {
      "cell_type": "code",
      "source": [
        "a = np.array([1,2,3,4,5])\n",
        "s = pd.Series(a)\n",
        "type(s)"
      ],
      "metadata": {
        "colab": {
          "base_uri": "https://localhost:8080/"
        },
        "id": "oV6ue9pp265e",
        "outputId": "8030d8b1-04fd-4552-ad64-f73e2eac1f69"
      },
      "execution_count": 10,
      "outputs": [
        {
          "output_type": "execute_result",
          "data": {
            "text/plain": [
              "pandas.core.series.Series"
            ]
          },
          "metadata": {},
          "execution_count": 10
        }
      ]
    },
    {
      "cell_type": "markdown",
      "source": [
        "### Length of series"
      ],
      "metadata": {
        "id": "bvtooe2d32aD"
      }
    },
    {
      "cell_type": "code",
      "source": [
        "len(s)"
      ],
      "metadata": {
        "colab": {
          "base_uri": "https://localhost:8080/"
        },
        "id": "sOQIsLg727tp",
        "outputId": "a6089df2-d5f3-43a1-ef6b-d71abcf65b4e"
      },
      "execution_count": 6,
      "outputs": [
        {
          "output_type": "execute_result",
          "data": {
            "text/plain": [
              "5"
            ]
          },
          "metadata": {},
          "execution_count": 6
        }
      ]
    },
    {
      "cell_type": "markdown",
      "source": [
        "### Series Indexing"
      ],
      "metadata": {
        "id": "55IY1Bvj37Jb"
      }
    },
    {
      "cell_type": "code",
      "source": [
        "dict_data = {1:'value1',2:'value2',3:'value3'}\n",
        "s = pd.Series(dict_data) # Dict keys are converting in to pandas index\n",
        "s"
      ],
      "metadata": {
        "colab": {
          "base_uri": "https://localhost:8080/"
        },
        "id": "BgE5S0Lm2-x6",
        "outputId": "6362f911-7242-43eb-d848-10cef3ecc834"
      },
      "execution_count": 11,
      "outputs": [
        {
          "output_type": "execute_result",
          "data": {
            "text/plain": [
              "1    value1\n",
              "2    value2\n",
              "3    value3\n",
              "dtype: object"
            ]
          },
          "metadata": {},
          "execution_count": 11
        }
      ]
    },
    {
      "cell_type": "code",
      "source": [
        "s1 = pd.Series(dict_data,index=[3,2,1])  # Ordering gets changed using index\n",
        "s1"
      ],
      "metadata": {
        "colab": {
          "base_uri": "https://localhost:8080/"
        },
        "id": "Sqo0ZNBJ3Bur",
        "outputId": "7ce63d68-746a-42cf-b373-be59ee615432"
      },
      "execution_count": 8,
      "outputs": [
        {
          "output_type": "execute_result",
          "data": {
            "text/plain": [
              "3    value3\n",
              "2    value2\n",
              "1    value1\n",
              "dtype: object"
            ]
          },
          "metadata": {},
          "execution_count": 8
        }
      ]
    },
    {
      "cell_type": "markdown",
      "source": [
        "### Series - Slicing"
      ],
      "metadata": {
        "id": "wh9KkrCm4D78"
      }
    },
    {
      "cell_type": "code",
      "source": [
        "print(s[:3])\n",
        "print(s[:2])"
      ],
      "metadata": {
        "colab": {
          "base_uri": "https://localhost:8080/"
        },
        "id": "19ZEZ9EK3DxL",
        "outputId": "9041e630-ae89-44fe-c953-5d4feb6468c1"
      },
      "execution_count": 9,
      "outputs": [
        {
          "output_type": "stream",
          "name": "stdout",
          "text": [
            "1    value1\n",
            "2    value2\n",
            "3    value3\n",
            "dtype: object\n",
            "1    value1\n",
            "2    value2\n",
            "dtype: object\n"
          ]
        }
      ]
    },
    {
      "cell_type": "markdown",
      "source": [
        ""
      ],
      "metadata": {
        "id": "f1VxhAQ24DQq"
      }
    }
  ]
}