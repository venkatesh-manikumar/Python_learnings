{
  "nbformat": 4,
  "nbformat_minor": 0,
  "metadata": {
    "colab": {
      "name": "Python_Programming3.ipynb",
      "provenance": [],
      "collapsed_sections": [],
      "authorship_tag": "ABX9TyM2FkNnxQpwXfgD8jHAFJ2I",
      "include_colab_link": true
    },
    "kernelspec": {
      "name": "python3",
      "display_name": "Python 3"
    },
    "language_info": {
      "name": "python"
    }
  },
  "cells": [
    {
      "cell_type": "markdown",
      "metadata": {
        "id": "view-in-github",
        "colab_type": "text"
      },
      "source": [
        "<a href=\"https://colab.research.google.com/github/venkatesh-manikumar/Python_learnings/blob/main/Python_Programming3.ipynb\" target=\"_parent\"><img src=\"https://colab.research.google.com/assets/colab-badge.svg\" alt=\"Open In Colab\"/></a>"
      ]
    },
    {
      "cell_type": "markdown",
      "source": [
        "### Global variables\n"
      ],
      "metadata": {
        "id": "ZCU_2yOr3X8W"
      }
    },
    {
      "cell_type": "code",
      "source": [
        "## GLOBAL VARIABLE\n",
        "c=100\n",
        "\n",
        "def function():\n",
        "  ## LOCAL VARIABLE\n",
        "  d=50\n",
        "  print(\"INSIDE  FUNCTION :\",d)\n",
        "\n",
        "function()\n",
        "print(\"OUTSIDE  FUNCTION :\",d)"
      ],
      "metadata": {
        "colab": {
          "base_uri": "https://localhost:8080/",
          "height": 227
        },
        "id": "RQkQiDxg3i1E",
        "outputId": "1af51190-2432-4403-b04f-2b26a07fb297"
      },
      "execution_count": null,
      "outputs": [
        {
          "output_type": "stream",
          "name": "stdout",
          "text": [
            "INSIDE  FUNCTION : 50\n"
          ]
        },
        {
          "output_type": "error",
          "ename": "NameError",
          "evalue": "ignored",
          "traceback": [
            "\u001b[0;31m---------------------------------------------------------------------------\u001b[0m",
            "\u001b[0;31mNameError\u001b[0m                                 Traceback (most recent call last)",
            "\u001b[0;32m<ipython-input-30-a4de5b6ca6a9>\u001b[0m in \u001b[0;36m<module>\u001b[0;34m()\u001b[0m\n\u001b[1;32m      8\u001b[0m \u001b[0;34m\u001b[0m\u001b[0m\n\u001b[1;32m      9\u001b[0m \u001b[0mfunction\u001b[0m\u001b[0;34m(\u001b[0m\u001b[0;34m)\u001b[0m\u001b[0;34m\u001b[0m\u001b[0;34m\u001b[0m\u001b[0m\n\u001b[0;32m---> 10\u001b[0;31m \u001b[0mprint\u001b[0m\u001b[0;34m(\u001b[0m\u001b[0;34m\"OUTSIDE  FUNCTION :\"\u001b[0m\u001b[0;34m,\u001b[0m\u001b[0md\u001b[0m\u001b[0;34m)\u001b[0m\u001b[0;34m\u001b[0m\u001b[0;34m\u001b[0m\u001b[0m\n\u001b[0m",
            "\u001b[0;31mNameError\u001b[0m: name 'd' is not defined"
          ]
        }
      ]
    },
    {
      "cell_type": "markdown",
      "source": [
        "### Inside a function , if global variable is used (just accessing existing value) , we can simply use the variable.\n",
        "\n",
        "### If we want to modify and preserve state of global variable , need to declare as \"global x\" , before accessing and modifying it."
      ],
      "metadata": {
        "id": "JMDLn_PS_3fT"
      }
    },
    {
      "cell_type": "code",
      "source": [
        "x = 20\n",
        "y=15\n",
        "\n",
        "def function3():\n",
        "  y =30\n",
        "  global x\n",
        "  x=5*x\n",
        "  print(\"INSIDE FUNCTION - LOCAL SCOPE IS HAVING PRIORITY \",y)\n",
        "  print(\"INSIDE FUNCTION - ACCESSING AND MODIFYING A GLOBAL VARIABLE \",x)\n",
        "\n",
        "\n",
        "function3()\n",
        "print(\"OUTSIDE FUNCTION - GLOBAL SCOPE IS HAVING PRIORITY AND PRESERVE CHANGES\",x)"
      ],
      "metadata": {
        "colab": {
          "base_uri": "https://localhost:8080/"
        },
        "id": "oYPs8uwX5DqX",
        "outputId": "20eec6f1-aeb8-4dff-8133-cb9180811220"
      },
      "execution_count": null,
      "outputs": [
        {
          "output_type": "stream",
          "name": "stdout",
          "text": [
            "INSIDE FUNCTION - LOCAL SCOPE IS HAVING PRIORITY  30\n",
            "INSIDE FUNCTION - ACCESSING AND MODIFYING A GLOBAL VARIABLE  100\n",
            "OUTSIDE FUNCTION - GLOBAL SCOPE IS HAVING PRIORITY AND PRESERVE CHANGES 100\n"
          ]
        }
      ]
    },
    {
      "cell_type": "markdown",
      "source": [
        "### NESTED INDEXING"
      ],
      "metadata": {
        "id": "WAIJres-Ai7s"
      }
    },
    {
      "cell_type": "code",
      "source": [
        "nested_list = [1,2,[3,4],[5.5,6.6],['seven','eight']]\n",
        "nested_list"
      ],
      "metadata": {
        "colab": {
          "base_uri": "https://localhost:8080/"
        },
        "id": "yLTf7D91AhwB",
        "outputId": "fa8c84f0-aeb1-4f6c-e4c1-47154c02729b"
      },
      "execution_count": null,
      "outputs": [
        {
          "output_type": "execute_result",
          "data": {
            "text/plain": [
              "[1, 2, [3, 4], [5.5, 6.6], ['seven', 'eight']]"
            ]
          },
          "metadata": {},
          "execution_count": 93
        }
      ]
    },
    {
      "cell_type": "code",
      "source": [
        "nested_list[3][0]"
      ],
      "metadata": {
        "colab": {
          "base_uri": "https://localhost:8080/"
        },
        "id": "K7HaoBH34Ewb",
        "outputId": "e9ada039-ac87-4760-8339-375bebff66d9"
      },
      "execution_count": null,
      "outputs": [
        {
          "output_type": "execute_result",
          "data": {
            "text/plain": [
              "5.5"
            ]
          },
          "metadata": {},
          "execution_count": 53
        }
      ]
    },
    {
      "cell_type": "code",
      "source": [
        "nested_list[-2][-1]"
      ],
      "metadata": {
        "colab": {
          "base_uri": "https://localhost:8080/"
        },
        "id": "fohtQM5vBlbY",
        "outputId": "f1e03c0e-e532-49d5-9ae3-7b6adc608ac7"
      },
      "execution_count": null,
      "outputs": [
        {
          "output_type": "execute_result",
          "data": {
            "text/plain": [
              "6.6"
            ]
          },
          "metadata": {},
          "execution_count": 54
        }
      ]
    },
    {
      "cell_type": "code",
      "source": [
        "nested_list.append(5)\n",
        "nested_list"
      ],
      "metadata": {
        "colab": {
          "base_uri": "https://localhost:8080/"
        },
        "id": "uQiIAQadCu8A",
        "outputId": "94a81c9d-d6fc-45db-c0cd-b5a4cfe003bd"
      },
      "execution_count": null,
      "outputs": [
        {
          "output_type": "execute_result",
          "data": {
            "text/plain": [
              "[1, 2, [3, 4], [5.5, 6.6], ['seven', 'eight'], 5]"
            ]
          },
          "metadata": {},
          "execution_count": 94
        }
      ]
    },
    {
      "cell_type": "code",
      "source": [
        "nested_list.extend(range(8,10,1))\n",
        "nested_list"
      ],
      "metadata": {
        "colab": {
          "base_uri": "https://localhost:8080/"
        },
        "id": "8M-7kqK9DsMK",
        "outputId": "ed133bf2-7051-4d05-e110-a39d70632b69"
      },
      "execution_count": null,
      "outputs": [
        {
          "output_type": "execute_result",
          "data": {
            "text/plain": [
              "[1, 2, [3, 4], [5.5, 6.6], ['seven', 'eight'], 5, 8, 9]"
            ]
          },
          "metadata": {},
          "execution_count": 95
        }
      ]
    },
    {
      "cell_type": "code",
      "source": [
        "nested_list.insert(-2,0)\n",
        "nested_list"
      ],
      "metadata": {
        "colab": {
          "base_uri": "https://localhost:8080/"
        },
        "id": "OkooZ8aWEvmP",
        "outputId": "ca33a243-e7fd-42a8-9f8d-03e0ccb5949b"
      },
      "execution_count": null,
      "outputs": [
        {
          "output_type": "execute_result",
          "data": {
            "text/plain": [
              "[1, 2, [3, 4], [5.5, 6.6], ['seven', 'eight'], 5, 0, 8, 9]"
            ]
          },
          "metadata": {},
          "execution_count": 96
        }
      ]
    },
    {
      "cell_type": "markdown",
      "source": [
        "### del nested_list[2] - used to delete contents in nested list"
      ],
      "metadata": {
        "id": "XK3Iae2qHR4o"
      }
    },
    {
      "cell_type": "code",
      "source": [
        "del nested_list[2]"
      ],
      "metadata": {
        "id": "XrhPBDSxF181"
      },
      "execution_count": null,
      "outputs": []
    },
    {
      "cell_type": "code",
      "source": [
        "nested_list"
      ],
      "metadata": {
        "colab": {
          "base_uri": "https://localhost:8080/"
        },
        "id": "fUWQn30fGsOF",
        "outputId": "a1998bbc-3d90-48d0-ee08-976d1868a1d2"
      },
      "execution_count": null,
      "outputs": [
        {
          "output_type": "execute_result",
          "data": {
            "text/plain": [
              "[1, 2, [5.5, 6.6], ['seven', 'eight'], 5, 0, 8, 9]"
            ]
          },
          "metadata": {},
          "execution_count": 102
        }
      ]
    },
    {
      "cell_type": "markdown",
      "source": [
        "### LIST CONCATENATION"
      ],
      "metadata": {
        "id": "ubFt0y39FjFD"
      }
    },
    {
      "cell_type": "code",
      "source": [
        "list_1=['S','A','M']\n",
        "list_2=['S','A','M']\n",
        "\n",
        "print(list_1+list_2)\n",
        "print(list_1*5)\n"
      ],
      "metadata": {
        "colab": {
          "base_uri": "https://localhost:8080/"
        },
        "id": "0TuYnygIFmFL",
        "outputId": "e269cd2d-39d1-4f92-f464-9860f7050b5f"
      },
      "execution_count": null,
      "outputs": [
        {
          "output_type": "stream",
          "name": "stdout",
          "text": [
            "['S', 'A', 'M', 'S', 'A', 'M']\n",
            "['S', 'A', 'M', 'S', 'A', 'M', 'S', 'A', 'M', 'S', 'A', 'M', 'S', 'A', 'M']\n"
          ]
        }
      ]
    },
    {
      "cell_type": "markdown",
      "source": [
        "### remove() and pop()"
      ],
      "metadata": {
        "id": "Y3-NzbvlJrzg"
      }
    },
    {
      "cell_type": "code",
      "source": [
        "data= 'DATASCIENCE'\n",
        "data_array=list(data)\n",
        "data_array"
      ],
      "metadata": {
        "colab": {
          "base_uri": "https://localhost:8080/"
        },
        "id": "WWhcYb1NINND",
        "outputId": "3b93fa6f-c7c0-407f-947f-697bbf629587"
      },
      "execution_count": null,
      "outputs": [
        {
          "output_type": "execute_result",
          "data": {
            "text/plain": [
              "['D', 'A', 'T', 'A', 'S', 'C', 'I', 'E', 'N', 'C', 'E']"
            ]
          },
          "metadata": {},
          "execution_count": 119
        }
      ]
    },
    {
      "cell_type": "code",
      "source": [
        "data_array.remove('E')\n",
        "data_array.pop()\n",
        "data_array"
      ],
      "metadata": {
        "colab": {
          "base_uri": "https://localhost:8080/"
        },
        "id": "kh8Epe7sI40I",
        "outputId": "da25dbee-6106-498e-febe-8a4393cc45fc"
      },
      "execution_count": null,
      "outputs": [
        {
          "output_type": "execute_result",
          "data": {
            "text/plain": [
              "['D', 'A', 'T', 'A', 'S', 'C', 'I', 'N', 'C']"
            ]
          },
          "metadata": {},
          "execution_count": 120
        }
      ]
    },
    {
      "cell_type": "code",
      "source": [
        "empty_list=list()\n",
        "\n",
        "for i in range(0,10):\n",
        "  empty_list.append(i*i)\n",
        "\n",
        "empty_list\n"
      ],
      "metadata": {
        "colab": {
          "base_uri": "https://localhost:8080/"
        },
        "id": "pM4X27WbKu1O",
        "outputId": "665cb58a-acb8-49d0-f3f5-975465a5f411"
      },
      "execution_count": null,
      "outputs": [
        {
          "output_type": "execute_result",
          "data": {
            "text/plain": [
              "[0, 1, 4, 9, 16, 25, 36, 49, 64, 81]"
            ]
          },
          "metadata": {},
          "execution_count": 124
        }
      ]
    },
    {
      "cell_type": "markdown",
      "source": [
        "### LIST COMPREHENSION IMPLEMENTATION OF SAME LOGIC"
      ],
      "metadata": {
        "id": "-CcFV-gVNm4e"
      }
    },
    {
      "cell_type": "code",
      "source": [
        "[i**2 for i in range(10)]"
      ],
      "metadata": {
        "colab": {
          "base_uri": "https://localhost:8080/"
        },
        "id": "lBLw6qNGMssr",
        "outputId": "9e13c114-e303-4317-9a13-422c23e1180d"
      },
      "execution_count": null,
      "outputs": [
        {
          "output_type": "execute_result",
          "data": {
            "text/plain": [
              "[0, 1, 4, 9, 16, 25, 36, 49, 64, 81]"
            ]
          },
          "metadata": {},
          "execution_count": 130
        }
      ]
    },
    {
      "cell_type": "code",
      "source": [
        "[i for i in range(100) if (i%2==0 and i%5==0) ]"
      ],
      "metadata": {
        "colab": {
          "base_uri": "https://localhost:8080/"
        },
        "id": "YBUAY8AmRhYB",
        "outputId": "4b24ba5d-8ccd-4d97-e8dd-916aa7efd859"
      },
      "execution_count": null,
      "outputs": [
        {
          "output_type": "execute_result",
          "data": {
            "text/plain": [
              "[0, 10, 20, 30, 40, 50, 60, 70, 80, 90]"
            ]
          },
          "metadata": {},
          "execution_count": 132
        }
      ]
    },
    {
      "cell_type": "code",
      "source": [
        "[\"EVEN\" if i%2==0 else \"ODD\" for i in range(10)]"
      ],
      "metadata": {
        "colab": {
          "base_uri": "https://localhost:8080/"
        },
        "id": "OKqHjrKfSKSi",
        "outputId": "c18e3766-714c-4294-a216-a65fb62729fc"
      },
      "execution_count": null,
      "outputs": [
        {
          "output_type": "execute_result",
          "data": {
            "text/plain": [
              "['EVEN', 'ODD', 'EVEN', 'ODD', 'EVEN', 'ODD', 'EVEN', 'ODD', 'EVEN', 'ODD']"
            ]
          },
          "metadata": {},
          "execution_count": 135
        }
      ]
    },
    {
      "cell_type": "markdown",
      "source": [
        "### ENUMERATE"
      ],
      "metadata": {
        "id": "TW4VSzu1TJxi"
      }
    },
    {
      "cell_type": "code",
      "source": [
        "x1=['Data','Functions','Stats']\n",
        "list(enumerate(x1,1))"
      ],
      "metadata": {
        "colab": {
          "base_uri": "https://localhost:8080/"
        },
        "id": "4ChTo05VTLZ7",
        "outputId": "e802a6e7-749a-4307-f123-6a756ef03e23"
      },
      "execution_count": null,
      "outputs": [
        {
          "output_type": "execute_result",
          "data": {
            "text/plain": [
              "[(1, 'Data'), (2, 'Functions'), (3, 'Stats')]"
            ]
          },
          "metadata": {},
          "execution_count": 140
        }
      ]
    },
    {
      "cell_type": "code",
      "source": [
        "list(enumerate(x1,50))"
      ],
      "metadata": {
        "colab": {
          "base_uri": "https://localhost:8080/"
        },
        "id": "MX4zmploTrq1",
        "outputId": "f6b060f7-b94d-447a-d423-ec866d28c018"
      },
      "execution_count": null,
      "outputs": [
        {
          "output_type": "execute_result",
          "data": {
            "text/plain": [
              "[(50, 'Data'), (51, 'Functions'), (52, 'Stats')]"
            ]
          },
          "metadata": {},
          "execution_count": 141
        }
      ]
    },
    {
      "cell_type": "markdown",
      "source": [
        "### TUPLE OPERATIONS"
      ],
      "metadata": {
        "id": "NUzIjKcfTywo"
      }
    },
    {
      "cell_type": "code",
      "source": [
        "tuple_data=3,5.5,'nine'\n",
        "type(tuple_data)"
      ],
      "metadata": {
        "colab": {
          "base_uri": "https://localhost:8080/"
        },
        "id": "5WOfSTOCTxEC",
        "outputId": "753a8a96-d390-4b48-aa85-ba7bff5e7de3"
      },
      "execution_count": null,
      "outputs": [
        {
          "output_type": "execute_result",
          "data": {
            "text/plain": [
              "tuple"
            ]
          },
          "metadata": {},
          "execution_count": 146
        }
      ]
    },
    {
      "cell_type": "markdown",
      "source": [
        "### TUPLE UNPACKING"
      ],
      "metadata": {
        "id": "ogE5xK3oUul5"
      }
    },
    {
      "cell_type": "code",
      "source": [
        "a,b,c =tuple_data\n",
        "print(a)\n",
        "print(b)\n",
        "print(c)"
      ],
      "metadata": {
        "colab": {
          "base_uri": "https://localhost:8080/"
        },
        "id": "GIPwBgcWUtMk",
        "outputId": "2aa40547-54d2-43e1-8a34-7d0eba93b61b"
      },
      "execution_count": null,
      "outputs": [
        {
          "output_type": "stream",
          "name": "stdout",
          "text": [
            "3\n",
            "5.5\n",
            "nine\n"
          ]
        }
      ]
    },
    {
      "cell_type": "markdown",
      "source": [
        "#### tuple1=('stringdata')\n",
        "#### print(type(tuple1)) --- Returns String\n",
        "\n",
        "#### tuple2=('stringdata','stringdata')\n",
        "#### print(type(tuple2)) --- Returns Tuple \n",
        "\n",
        "#### tuple2=('stringdata','stringdata',)\n",
        "#### print(type(tuple2)) --- Returns Tuple "
      ],
      "metadata": {
        "id": "uOQvKqh0VtEb"
      }
    },
    {
      "cell_type": "code",
      "source": [
        "tuple1=('stringdata')\n",
        "print(type(tuple1))\n",
        "\n",
        "tuple2=('stringdata','stringdata')\n",
        "print(type(tuple2))\n",
        "\n",
        "tuple3=('stringdata',)\n",
        "print(type(tuple2))\n"
      ],
      "metadata": {
        "colab": {
          "base_uri": "https://localhost:8080/"
        },
        "id": "HZgA2sg9VMCp",
        "outputId": "96e8c79d-9f97-41a8-c987-3e45fde2a80b"
      },
      "execution_count": null,
      "outputs": [
        {
          "output_type": "stream",
          "name": "stdout",
          "text": [
            "<class 'str'>\n",
            "<class 'tuple'>\n",
            "<class 'tuple'>\n"
          ]
        }
      ]
    },
    {
      "cell_type": "markdown",
      "source": [
        "### Changing a tuple - Exceptions"
      ],
      "metadata": {
        "id": "wIX25IyjYoH4"
      }
    },
    {
      "cell_type": "code",
      "source": [
        "tuple_data=(1,2,[3,4],[5.5,6.6],['seven','eight'])\n",
        "tuple_data"
      ],
      "metadata": {
        "colab": {
          "base_uri": "https://localhost:8080/"
        },
        "id": "owN7ftrvX8Op",
        "outputId": "b7fe0817-5d1a-45ee-bc36-e42770f6ec7a"
      },
      "execution_count": null,
      "outputs": [
        {
          "output_type": "execute_result",
          "data": {
            "text/plain": [
              "(1, 2, [3, 4], [5.5, 6.6], ['seven', 'eight'])"
            ]
          },
          "metadata": {},
          "execution_count": 172
        }
      ]
    },
    {
      "cell_type": "markdown",
      "source": [
        "### Reassigment is made as possible in Tuple , by having tuple(list[ ])\n",
        "\n"
      ],
      "metadata": {
        "id": "m5vNdY_schsm"
      }
    },
    {
      "cell_type": "code",
      "source": [
        "|tuple_data[2][0]=100  \n",
        "tuple_data"
      ],
      "metadata": {
        "colab": {
          "base_uri": "https://localhost:8080/"
        },
        "id": "jHT_CKy_YgNU",
        "outputId": "6d09b684-5466-4838-d884-50ccdc732fb1"
      },
      "execution_count": null,
      "outputs": [
        {
          "output_type": "execute_result",
          "data": {
            "text/plain": [
              "(1, 2, [100, 4], [5.5, 6.6], ['seven', 'eight'])"
            ]
          },
          "metadata": {},
          "execution_count": 173
        }
      ]
    },
    {
      "cell_type": "markdown",
      "source": [
        "### Tuple can be placed inside a set"
      ],
      "metadata": {
        "id": "WU1JSSodcmid"
      }
    },
    {
      "cell_type": "code",
      "source": [
        "my_set1= {1.0,\"Hi\",(2,5,8)} \n",
        "my_set1"
      ],
      "metadata": {
        "colab": {
          "base_uri": "https://localhost:8080/"
        },
        "id": "avdGqvkbZL6d",
        "outputId": "511092f5-a0a5-4b5c-b502-9659755b7bf4"
      },
      "execution_count": null,
      "outputs": [
        {
          "output_type": "execute_result",
          "data": {
            "text/plain": [
              "{(2, 5, 8), 1.0, 'Hi'}"
            ]
          },
          "metadata": {},
          "execution_count": 178
        }
      ]
    },
    {
      "cell_type": "markdown",
      "source": [
        "### List cannot be placed inside a set , throws a ERROR"
      ],
      "metadata": {
        "id": "511F6aEjc0uT"
      }
    },
    {
      "cell_type": "code",
      "source": [
        "my_set2= {1.0,\"Hi\",[2,5,8]} \n",
        "my_set2"
      ],
      "metadata": {
        "colab": {
          "base_uri": "https://localhost:8080/",
          "height": 190
        },
        "id": "G3WBkvA4ZmwT",
        "outputId": "53955073-e855-46c6-c6ff-6bb863a20ebd"
      },
      "execution_count": null,
      "outputs": [
        {
          "output_type": "error",
          "ename": "TypeError",
          "evalue": "ignored",
          "traceback": [
            "\u001b[0;31m---------------------------------------------------------------------------\u001b[0m",
            "\u001b[0;31mTypeError\u001b[0m                                 Traceback (most recent call last)",
            "\u001b[0;32m<ipython-input-176-48718d88556d>\u001b[0m in \u001b[0;36m<module>\u001b[0;34m()\u001b[0m\n\u001b[0;32m----> 1\u001b[0;31m \u001b[0mmy_set2\u001b[0m\u001b[0;34m=\u001b[0m \u001b[0;34m{\u001b[0m\u001b[0;36m1.0\u001b[0m\u001b[0;34m,\u001b[0m\u001b[0;34m\"Hi\"\u001b[0m\u001b[0;34m,\u001b[0m\u001b[0;34m[\u001b[0m\u001b[0;36m2\u001b[0m\u001b[0;34m,\u001b[0m\u001b[0;36m5\u001b[0m\u001b[0;34m,\u001b[0m\u001b[0;36m8\u001b[0m\u001b[0;34m]\u001b[0m\u001b[0;34m}\u001b[0m\u001b[0;34m\u001b[0m\u001b[0;34m\u001b[0m\u001b[0m\n\u001b[0m\u001b[1;32m      2\u001b[0m \u001b[0mmy_set2\u001b[0m\u001b[0;34m\u001b[0m\u001b[0;34m\u001b[0m\u001b[0m\n",
            "\u001b[0;31mTypeError\u001b[0m: unhashable type: 'list'"
          ]
        }
      ]
    },
    {
      "cell_type": "code",
      "source": [
        "my_set1={1,2,3,4,5}\n",
        "print(my_set1)\n",
        "my_set1.discard(3)\n",
        "print(my_set1)\n",
        "my_set1.remove(2)\n",
        "print(my_set1)\n",
        "\n",
        "my_set1.discard(100) ## Doesnot Throws an error if element not present in SET\n",
        "print(my_set1)\n",
        "\n",
        "my_set1.remove(100)\n",
        "print(my_set1) ## Throws an error if element not present in SET\n"
      ],
      "metadata": {
        "colab": {
          "base_uri": "https://localhost:8080/",
          "height": 301
        },
        "id": "Gy0PyYl-a7Zz",
        "outputId": "3183afd6-68af-41ae-8089-ea0fee15f572"
      },
      "execution_count": null,
      "outputs": [
        {
          "output_type": "stream",
          "name": "stdout",
          "text": [
            "{1, 2, 3, 4, 5}\n",
            "{1, 2, 4, 5}\n",
            "{1, 4, 5}\n",
            "{1, 4, 5}\n"
          ]
        },
        {
          "output_type": "error",
          "ename": "KeyError",
          "evalue": "ignored",
          "traceback": [
            "\u001b[0;31m---------------------------------------------------------------------------\u001b[0m",
            "\u001b[0;31mKeyError\u001b[0m                                  Traceback (most recent call last)",
            "\u001b[0;32m<ipython-input-187-a292a57c44ce>\u001b[0m in \u001b[0;36m<module>\u001b[0;34m()\u001b[0m\n\u001b[1;32m      9\u001b[0m \u001b[0mprint\u001b[0m\u001b[0;34m(\u001b[0m\u001b[0mmy_set1\u001b[0m\u001b[0;34m)\u001b[0m\u001b[0;34m\u001b[0m\u001b[0;34m\u001b[0m\u001b[0m\n\u001b[1;32m     10\u001b[0m \u001b[0;34m\u001b[0m\u001b[0m\n\u001b[0;32m---> 11\u001b[0;31m \u001b[0mmy_set1\u001b[0m\u001b[0;34m.\u001b[0m\u001b[0mremove\u001b[0m\u001b[0;34m(\u001b[0m\u001b[0;36m100\u001b[0m\u001b[0;34m)\u001b[0m\u001b[0;34m\u001b[0m\u001b[0;34m\u001b[0m\u001b[0m\n\u001b[0m\u001b[1;32m     12\u001b[0m \u001b[0mprint\u001b[0m\u001b[0;34m(\u001b[0m\u001b[0mmy_set1\u001b[0m\u001b[0;34m)\u001b[0m\u001b[0;34m\u001b[0m\u001b[0;34m\u001b[0m\u001b[0m\n",
            "\u001b[0;31mKeyError\u001b[0m: 100"
          ]
        }
      ]
    },
    {
      "cell_type": "markdown",
      "source": [
        "### Iterators"
      ],
      "metadata": {
        "id": "-wQicyS7dMFD"
      }
    },
    {
      "cell_type": "code",
      "source": [
        "list_data = [10,20,30,40,50]\n",
        "\n",
        "my_iterator= iter(list_data)\n",
        "\n",
        "while my_iterator:\n",
        "  try:\n",
        "    print(next(my_iterator))\n",
        "  except StopIteration:\n",
        "    break"
      ],
      "metadata": {
        "colab": {
          "base_uri": "https://localhost:8080/"
        },
        "id": "raN7ZML0dOOv",
        "outputId": "df5e77a3-f4de-4183-cbf2-8e5c87450806"
      },
      "execution_count": null,
      "outputs": [
        {
          "output_type": "stream",
          "name": "stdout",
          "text": [
            "10\n",
            "20\n",
            "30\n",
            "40\n",
            "50\n"
          ]
        }
      ]
    },
    {
      "cell_type": "markdown",
      "source": [
        "### GENERATORS"
      ],
      "metadata": {
        "id": "-i265ed5CbDG"
      }
    },
    {
      "cell_type": "code",
      "source": [
        "def generator_fun(n):\n",
        "  for i in range(n):\n",
        "    try:\n",
        "      yield i\n",
        "    except StopIteration:\n",
        "      break\n",
        "\n",
        "var1 = generator_fun(3)\n",
        "print(next(var1))\n",
        "print(next(var1))\n",
        "print(next(var1))\n",
        "print(next(var1))\n"
      ],
      "metadata": {
        "colab": {
          "base_uri": "https://localhost:8080/",
          "height": 252
        },
        "id": "AZ8mdwyn-ywO",
        "outputId": "8916e0c7-efd7-47f1-d84f-6d3e31f224ba"
      },
      "execution_count": 39,
      "outputs": [
        {
          "output_type": "stream",
          "name": "stdout",
          "text": [
            "0\n",
            "1\n",
            "2\n"
          ]
        },
        {
          "output_type": "error",
          "ename": "StopIteration",
          "evalue": "ignored",
          "traceback": [
            "\u001b[0;31m---------------------------------------------------------------------------\u001b[0m",
            "\u001b[0;31mStopIteration\u001b[0m                             Traceback (most recent call last)",
            "\u001b[0;32m<ipython-input-39-5888973114ad>\u001b[0m in \u001b[0;36m<module>\u001b[0;34m()\u001b[0m\n\u001b[1;32m     10\u001b[0m \u001b[0mprint\u001b[0m\u001b[0;34m(\u001b[0m\u001b[0mnext\u001b[0m\u001b[0;34m(\u001b[0m\u001b[0mvar1\u001b[0m\u001b[0;34m)\u001b[0m\u001b[0;34m)\u001b[0m\u001b[0;34m\u001b[0m\u001b[0;34m\u001b[0m\u001b[0m\n\u001b[1;32m     11\u001b[0m \u001b[0mprint\u001b[0m\u001b[0;34m(\u001b[0m\u001b[0mnext\u001b[0m\u001b[0;34m(\u001b[0m\u001b[0mvar1\u001b[0m\u001b[0;34m)\u001b[0m\u001b[0;34m)\u001b[0m\u001b[0;34m\u001b[0m\u001b[0;34m\u001b[0m\u001b[0m\n\u001b[0;32m---> 12\u001b[0;31m \u001b[0mprint\u001b[0m\u001b[0;34m(\u001b[0m\u001b[0mnext\u001b[0m\u001b[0;34m(\u001b[0m\u001b[0mvar1\u001b[0m\u001b[0;34m)\u001b[0m\u001b[0;34m)\u001b[0m\u001b[0;34m\u001b[0m\u001b[0;34m\u001b[0m\u001b[0m\n\u001b[0m",
            "\u001b[0;31mStopIteration\u001b[0m: "
          ]
        }
      ]
    },
    {
      "cell_type": "code",
      "source": [
        "string_data = 'DATASCIENCE'\n",
        "\n",
        "def generator_fun(n):\n",
        "  for i in range(-1,(len(string_data)*-1)-1,-1):\n",
        "      yield string_data[i]\n",
        "\n",
        "for i in generator_fun(string_data):\n",
        "  print(type(i))\n",
        "  print((i))\n",
        "  \n"
      ],
      "metadata": {
        "colab": {
          "base_uri": "https://localhost:8080/"
        },
        "id": "Rl2QBz0VGMBL",
        "outputId": "d91f27c5-e75c-4996-b065-26ac8cf8d262"
      },
      "execution_count": null,
      "outputs": [
        {
          "output_type": "stream",
          "name": "stdout",
          "text": [
            "<class 'str'>\n",
            "E\n",
            "<class 'str'>\n",
            "C\n",
            "<class 'str'>\n",
            "N\n",
            "<class 'str'>\n",
            "E\n",
            "<class 'str'>\n",
            "I\n",
            "<class 'str'>\n",
            "C\n",
            "<class 'str'>\n",
            "S\n",
            "<class 'str'>\n",
            "A\n",
            "<class 'str'>\n",
            "T\n",
            "<class 'str'>\n",
            "A\n",
            "<class 'str'>\n",
            "D\n"
          ]
        }
      ]
    },
    {
      "cell_type": "code",
      "source": [
        "string_data = 'SCIENCE'\n",
        "\n",
        "def generator_fun(n):\n",
        "  for i in range(-1,(len(string_data)*-1)-1,-1):\n",
        "      yield string_data[i]\n",
        "\n",
        "for i in generator_fun(string_data):\n",
        "  print(type(i))\n",
        "  print((i))  "
      ],
      "metadata": {
        "colab": {
          "base_uri": "https://localhost:8080/"
        },
        "id": "bsbbuxNTQvgi",
        "outputId": "c70a7016-6bdb-45dd-9e46-2995f6723724"
      },
      "execution_count": null,
      "outputs": [
        {
          "output_type": "stream",
          "name": "stdout",
          "text": [
            "<class 'str'>\n",
            "E\n",
            "<class 'str'>\n",
            "C\n",
            "<class 'str'>\n",
            "N\n",
            "<class 'str'>\n",
            "E\n",
            "<class 'str'>\n",
            "I\n",
            "<class 'str'>\n",
            "C\n",
            "<class 'str'>\n",
            "S\n"
          ]
        }
      ]
    },
    {
      "cell_type": "code",
      "source": [
        "def func_sum(l):\n",
        "  yield sum(i for i in l)\n",
        "\n",
        "def func_min(l):\n",
        "  yield min(i for i in l)\n",
        "\n",
        "def func_max(l):\n",
        "  yield max(i for i in l)\n",
        "\n",
        "def func_square(l):\n",
        "  yield (i*i for i in l)\n",
        "\n",
        "num_list=[1,2,3,4,5]\n",
        "\n",
        "#print(func_min(num_list))\n",
        "#print(func_square(num_list))\n",
        "\n",
        "sum(func_min(func_max(num_list)))\n",
        "\n",
        "min(func_sum(func_square(num_list)))\n"
      ],
      "metadata": {
        "colab": {
          "base_uri": "https://localhost:8080/",
          "height": 337
        },
        "id": "rIGy57ydRXL0",
        "outputId": "ad4f3dc5-f70f-4871-ee52-db054359647a"
      },
      "execution_count": null,
      "outputs": [
        {
          "output_type": "error",
          "ename": "TypeError",
          "evalue": "ignored",
          "traceback": [
            "\u001b[0;31m---------------------------------------------------------------------------\u001b[0m",
            "\u001b[0;31mTypeError\u001b[0m                                 Traceback (most recent call last)",
            "\u001b[0;32m<ipython-input-154-075325a67753>\u001b[0m in \u001b[0;36m<module>\u001b[0;34m()\u001b[0m\n\u001b[1;32m     18\u001b[0m \u001b[0msum\u001b[0m\u001b[0;34m(\u001b[0m\u001b[0mfunc_min\u001b[0m\u001b[0;34m(\u001b[0m\u001b[0mfunc_max\u001b[0m\u001b[0;34m(\u001b[0m\u001b[0mnum_list\u001b[0m\u001b[0;34m)\u001b[0m\u001b[0;34m)\u001b[0m\u001b[0;34m)\u001b[0m\u001b[0;34m\u001b[0m\u001b[0;34m\u001b[0m\u001b[0m\n\u001b[1;32m     19\u001b[0m \u001b[0;34m\u001b[0m\u001b[0m\n\u001b[0;32m---> 20\u001b[0;31m \u001b[0mmin\u001b[0m\u001b[0;34m(\u001b[0m\u001b[0mfunc_sum\u001b[0m\u001b[0;34m(\u001b[0m\u001b[0mfunc_square\u001b[0m\u001b[0;34m(\u001b[0m\u001b[0mnum_list\u001b[0m\u001b[0;34m)\u001b[0m\u001b[0;34m)\u001b[0m\u001b[0;34m)\u001b[0m\u001b[0;34m\u001b[0m\u001b[0;34m\u001b[0m\u001b[0m\n\u001b[0m",
            "\u001b[0;32m<ipython-input-154-075325a67753>\u001b[0m in \u001b[0;36mfunc_sum\u001b[0;34m(l)\u001b[0m\n\u001b[1;32m      1\u001b[0m \u001b[0;32mdef\u001b[0m \u001b[0mfunc_sum\u001b[0m\u001b[0;34m(\u001b[0m\u001b[0ml\u001b[0m\u001b[0;34m)\u001b[0m\u001b[0;34m:\u001b[0m\u001b[0;34m\u001b[0m\u001b[0;34m\u001b[0m\u001b[0m\n\u001b[0;32m----> 2\u001b[0;31m   \u001b[0;32myield\u001b[0m \u001b[0msum\u001b[0m\u001b[0;34m(\u001b[0m\u001b[0mi\u001b[0m \u001b[0;32mfor\u001b[0m \u001b[0mi\u001b[0m \u001b[0;32min\u001b[0m \u001b[0ml\u001b[0m\u001b[0;34m)\u001b[0m\u001b[0;34m\u001b[0m\u001b[0;34m\u001b[0m\u001b[0m\n\u001b[0m\u001b[1;32m      3\u001b[0m \u001b[0;34m\u001b[0m\u001b[0m\n\u001b[1;32m      4\u001b[0m \u001b[0;32mdef\u001b[0m \u001b[0mfunc_min\u001b[0m\u001b[0;34m(\u001b[0m\u001b[0ml\u001b[0m\u001b[0;34m)\u001b[0m\u001b[0;34m:\u001b[0m\u001b[0;34m\u001b[0m\u001b[0;34m\u001b[0m\u001b[0m\n\u001b[1;32m      5\u001b[0m   \u001b[0;32myield\u001b[0m \u001b[0mmin\u001b[0m\u001b[0;34m(\u001b[0m\u001b[0mi\u001b[0m \u001b[0;32mfor\u001b[0m \u001b[0mi\u001b[0m \u001b[0;32min\u001b[0m \u001b[0ml\u001b[0m\u001b[0;34m)\u001b[0m\u001b[0;34m\u001b[0m\u001b[0;34m\u001b[0m\u001b[0m\n",
            "\u001b[0;31mTypeError\u001b[0m: unsupported operand type(s) for +: 'int' and 'generator'"
          ]
        }
      ]
    },
    {
      "cell_type": "markdown",
      "source": [
        "### CLOSURES"
      ],
      "metadata": {
        "id": "xRm96CKceJ4K"
      }
    },
    {
      "cell_type": "code",
      "source": [
        "def outer_func(arg):\n",
        "  var3=5\n",
        "  def inner_func():\n",
        "    var1= arg*5 + var3\n",
        "    #print(var1)\n",
        "    return var1\n",
        "  return inner_func"
      ],
      "metadata": {
        "id": "zS79jX3JXNd6"
      },
      "execution_count": null,
      "outputs": []
    },
    {
      "cell_type": "code",
      "source": [
        "func_ret = outer_func(10)\n",
        "func_ret()"
      ],
      "metadata": {
        "colab": {
          "base_uri": "https://localhost:8080/"
        },
        "id": "OVtKM7oXT_QT",
        "outputId": "928cc299-0d6a-482f-a9a9-14fbed49f1f2"
      },
      "execution_count": null,
      "outputs": [
        {
          "output_type": "execute_result",
          "data": {
            "text/plain": [
              "55"
            ]
          },
          "metadata": {},
          "execution_count": 147
        }
      ]
    },
    {
      "cell_type": "markdown",
      "source": [
        "### DECORATORS"
      ],
      "metadata": {
        "id": "hYBSCFtheMm4"
      }
    },
    {
      "cell_type": "code",
      "source": [
        "def func1(i):\n",
        "  return (i**2)\n",
        "\n",
        "def func2(i):\n",
        "  return (i**3)\n",
        "\n",
        "def func3(f,n):\n",
        "  return f(n)\n",
        "\n",
        "func3(func1,10)"
      ],
      "metadata": {
        "colab": {
          "base_uri": "https://localhost:8080/"
        },
        "id": "3h3oxhOQeONl",
        "outputId": "61130aad-49e2-487f-bf55-259b8b038e0f"
      },
      "execution_count": null,
      "outputs": [
        {
          "output_type": "execute_result",
          "data": {
            "text/plain": [
              "100"
            ]
          },
          "metadata": {},
          "execution_count": 164
        }
      ]
    },
    {
      "cell_type": "code",
      "source": [
        "func3(func2,5)"
      ],
      "metadata": {
        "colab": {
          "base_uri": "https://localhost:8080/"
        },
        "id": "5VhwangFh1gw",
        "outputId": "b1ad68fb-27f7-4420-b72d-606c6c3b3bcd"
      },
      "execution_count": null,
      "outputs": [
        {
          "output_type": "execute_result",
          "data": {
            "text/plain": [
              "125"
            ]
          },
          "metadata": {},
          "execution_count": 165
        }
      ]
    },
    {
      "cell_type": "code",
      "source": [
        "\n",
        "def decorating_func(f):\n",
        "  def nested_func_1(a,b):\n",
        "    print(\"VALIDATION 1 - DIVIDE BY ZERO CHECK\",a,b)\n",
        "    if b==0:\n",
        "      print('DIVIDE BY ZERO CHECK - FAILS - CANNOT DIVIDE')\n",
        "      return\n",
        "    else:\n",
        "      print(\"DIVIDE BY ZERO CHECK PASSED\",a,b)\n",
        "      return nested_func_2(a,b)\n",
        "\n",
        "  def nested_func_2(a,b):\n",
        "    print(\"VALIDATION 2 - NEGATIVE VALUE CHECK\",a,b)\n",
        "    if a>0 and b>0:\n",
        "      print(\"NEGATIVE VALUE CHECK PASSED\",a,b)\n",
        "    else:\n",
        "      print(\"NEGATIVE VALUE CHECK FAILS\",a,b)\n",
        "      return\n",
        "    return f(a,b)\n",
        "\n",
        "  return nested_func_1\n",
        "\n",
        "@decorating_func\n",
        "def ordinary_func(a,b):\n",
        "  print(\"Inside ordinary function\")\n",
        "  return a/b\n",
        "\n",
        "ordinary_func(64,8)"
      ],
      "metadata": {
        "colab": {
          "base_uri": "https://localhost:8080/"
        },
        "id": "9Kk6S3mRkgdX",
        "outputId": "e2a27ac9-474f-4ae9-8454-78deff5cfa1d"
      },
      "execution_count": null,
      "outputs": [
        {
          "output_type": "stream",
          "name": "stdout",
          "text": [
            "VALIDATION 1 - DIVIDE BY ZERO CHECK 64 8\n",
            "DIVIDE BY ZERO CHECK PASSED 64 8\n",
            "VALIDATION 2 - NEGATIVE VALUE CHECK 64 8\n",
            "NEGATIVE VALUE CHECK PASSED 64 8\n",
            "Inside ordinary function\n"
          ]
        },
        {
          "output_type": "execute_result",
          "data": {
            "text/plain": [
              "8.0"
            ]
          },
          "metadata": {},
          "execution_count": 1
        }
      ]
    },
    {
      "cell_type": "markdown",
      "source": [
        "### MATRIX TRANSPOSE"
      ],
      "metadata": {
        "id": "4fSpRFPon2fh"
      }
    },
    {
      "cell_type": "code",
      "source": [
        "twoDMatrix = [[10, 20, 30],\n",
        "              [40, 50, 60],\n",
        "              [70, 80, 90]]\n",
        " \n",
        "print(len(twoDMatrix))\n",
        "for i in twoDMatrix:\n",
        "  print(i)\n",
        "# Generate transpose\n",
        "trans = [[i[j] for i in twoDMatrix] for j in range(len(twoDMatrix))]\n",
        " \n",
        "print(trans)"
      ],
      "metadata": {
        "colab": {
          "base_uri": "https://localhost:8080/"
        },
        "id": "2piZR47miu8X",
        "outputId": "1d7a5e59-89ac-4844-85bb-04a5624df9a7"
      },
      "execution_count": null,
      "outputs": [
        {
          "output_type": "stream",
          "name": "stdout",
          "text": [
            "3\n",
            "[10, 20, 30]\n",
            "[40, 50, 60]\n",
            "[70, 80, 90]\n",
            "[[10, 40, 70], [20, 50, 80], [30, 60, 90]]\n"
          ]
        }
      ]
    },
    {
      "cell_type": "code",
      "source": [
        "num_list=[[10,20],[30,40],[20,20]]\n",
        "\n",
        "num_list2=[10,20,30]\n",
        "\n",
        "sum(i for i in num_list2)\n"
      ],
      "metadata": {
        "colab": {
          "base_uri": "https://localhost:8080/"
        },
        "id": "VpwgDNpLn5eD",
        "outputId": "e20289a2-0a83-463d-da52-62ca1e3a6972"
      },
      "execution_count": null,
      "outputs": [
        {
          "output_type": "execute_result",
          "data": {
            "text/plain": [
              "60"
            ]
          },
          "metadata": {},
          "execution_count": 5
        }
      ]
    },
    {
      "cell_type": "code",
      "source": [
        "import math\n",
        "\n",
        "print(\"%.2f\" % 3.142)\n",
        "print(\"%.2f\".format(3.142))\n",
        "print(\"{:.2f}\".format(3.142))\n",
        "print(\"{n:.2f}\".format(n=3.142))"
      ],
      "metadata": {
        "id": "bRO4np6ljfRB",
        "colab": {
          "base_uri": "https://localhost:8080/"
        },
        "outputId": "9551da5b-7506-4f45-b150-2dbe998cf7b9"
      },
      "execution_count": 38,
      "outputs": [
        {
          "output_type": "stream",
          "name": "stdout",
          "text": [
            "3.14\n",
            "%.2f\n",
            "3.14\n",
            "3.14\n"
          ]
        }
      ]
    },
    {
      "cell_type": "code",
      "source": [
        "a = [[1,2],[3,4],[5,6],[7,8],[9,10]]\n",
        "\n",
        "r = (x for y in a for x in y if x%2 ==0)\n",
        "\n",
        "for i in r:\n",
        "  \n",
        "  print(i)\n",
        "\n",
        "\n",
        "\n"
      ],
      "metadata": {
        "colab": {
          "base_uri": "https://localhost:8080/"
        },
        "id": "nlLJqIzhriZa",
        "outputId": "e30c3438-4efa-4519-fa27-8492d39f1cda"
      },
      "execution_count": 13,
      "outputs": [
        {
          "output_type": "stream",
          "name": "stdout",
          "text": [
            "2\n",
            "4\n",
            "6\n",
            "8\n",
            "10\n"
          ]
        }
      ]
    },
    {
      "cell_type": "code",
      "source": [
        "def foo():\n",
        "  return 1/0\n",
        "# A \n",
        "try:\n",
        "  foo()\n",
        "except BaseException:\n",
        "  print(BaseException)"
      ],
      "metadata": {
        "colab": {
          "base_uri": "https://localhost:8080/"
        },
        "id": "b0A2acmxwjz8",
        "outputId": "48e5a69f-1c9a-4c73-e3a2-0c9e57d9a7d7"
      },
      "execution_count": 21,
      "outputs": [
        {
          "output_type": "stream",
          "name": "stdout",
          "text": [
            "<class 'BaseException'>\n"
          ]
        }
      ]
    },
    {
      "cell_type": "code",
      "source": [
        "# B\n",
        "try:\n",
        "  foo()\n",
        "except BaseException:\n",
        "  print(__error__)"
      ],
      "metadata": {
        "colab": {
          "base_uri": "https://localhost:8080/",
          "height": 397
        },
        "id": "KRbO6QBLwwwW",
        "outputId": "5d00868f-fd10-48d3-8110-693a47d39c01"
      },
      "execution_count": 22,
      "outputs": [
        {
          "output_type": "error",
          "ename": "NameError",
          "evalue": "ignored",
          "traceback": [
            "\u001b[0;31m---------------------------------------------------------------------------\u001b[0m",
            "\u001b[0;31mZeroDivisionError\u001b[0m                         Traceback (most recent call last)",
            "\u001b[0;32m<ipython-input-22-6c62e531aa43>\u001b[0m in \u001b[0;36m<module>\u001b[0;34m()\u001b[0m\n\u001b[1;32m      2\u001b[0m \u001b[0;32mtry\u001b[0m\u001b[0;34m:\u001b[0m\u001b[0;34m\u001b[0m\u001b[0;34m\u001b[0m\u001b[0m\n\u001b[0;32m----> 3\u001b[0;31m   \u001b[0mfoo\u001b[0m\u001b[0;34m(\u001b[0m\u001b[0;34m)\u001b[0m\u001b[0;34m\u001b[0m\u001b[0;34m\u001b[0m\u001b[0m\n\u001b[0m\u001b[1;32m      4\u001b[0m \u001b[0;32mexcept\u001b[0m \u001b[0mBaseException\u001b[0m\u001b[0;34m:\u001b[0m\u001b[0;34m\u001b[0m\u001b[0;34m\u001b[0m\u001b[0m\n",
            "\u001b[0;32m<ipython-input-21-6c292b98cd2b>\u001b[0m in \u001b[0;36mfoo\u001b[0;34m()\u001b[0m\n\u001b[1;32m      1\u001b[0m \u001b[0;32mdef\u001b[0m \u001b[0mfoo\u001b[0m\u001b[0;34m(\u001b[0m\u001b[0;34m)\u001b[0m\u001b[0;34m:\u001b[0m\u001b[0;34m\u001b[0m\u001b[0;34m\u001b[0m\u001b[0m\n\u001b[0;32m----> 2\u001b[0;31m   \u001b[0;32mreturn\u001b[0m \u001b[0;36m1\u001b[0m\u001b[0;34m/\u001b[0m\u001b[0;36m0\u001b[0m\u001b[0;34m\u001b[0m\u001b[0;34m\u001b[0m\u001b[0m\n\u001b[0m\u001b[1;32m      3\u001b[0m \u001b[0;31m# A\u001b[0m\u001b[0;34m\u001b[0m\u001b[0;34m\u001b[0m\u001b[0;34m\u001b[0m\u001b[0m\n",
            "\u001b[0;31mZeroDivisionError\u001b[0m: division by zero",
            "\nDuring handling of the above exception, another exception occurred:\n",
            "\u001b[0;31mNameError\u001b[0m                                 Traceback (most recent call last)",
            "\u001b[0;32m<ipython-input-22-6c62e531aa43>\u001b[0m in \u001b[0;36m<module>\u001b[0;34m()\u001b[0m\n\u001b[1;32m      3\u001b[0m   \u001b[0mfoo\u001b[0m\u001b[0;34m(\u001b[0m\u001b[0;34m)\u001b[0m\u001b[0;34m\u001b[0m\u001b[0;34m\u001b[0m\u001b[0m\n\u001b[1;32m      4\u001b[0m \u001b[0;32mexcept\u001b[0m \u001b[0mBaseException\u001b[0m\u001b[0;34m:\u001b[0m\u001b[0;34m\u001b[0m\u001b[0;34m\u001b[0m\u001b[0m\n\u001b[0;32m----> 5\u001b[0;31m   \u001b[0mprint\u001b[0m\u001b[0;34m(\u001b[0m\u001b[0m__error__\u001b[0m\u001b[0;34m)\u001b[0m\u001b[0;34m\u001b[0m\u001b[0;34m\u001b[0m\u001b[0m\n\u001b[0m",
            "\u001b[0;31mNameError\u001b[0m: name '__error__' is not defined"
          ]
        }
      ]
    },
    {
      "cell_type": "code",
      "source": [
        "# C\n",
        "\n",
        "try:\n",
        "  foo()\n",
        "except BaseException as variable:\n",
        "  print(variable)\n"
      ],
      "metadata": {
        "colab": {
          "base_uri": "https://localhost:8080/"
        },
        "id": "gFM2JRb1w3Dv",
        "outputId": "4683dcec-b1c4-4e92-afcd-e5155bbda10a"
      },
      "execution_count": 23,
      "outputs": [
        {
          "output_type": "stream",
          "name": "stdout",
          "text": [
            "division by zero\n"
          ]
        }
      ]
    },
    {
      "cell_type": "code",
      "source": [
        "# D \n",
        "\n",
        "try:\n",
        "  foo()\n",
        "except BaseException as variable:\n",
        "  print(variable)\n",
        "\n"
      ],
      "metadata": {
        "colab": {
          "base_uri": "https://localhost:8080/"
        },
        "id": "PsPvoP8Xw_em",
        "outputId": "8cb96cdb-8796-4ce2-842d-fb408a2073ad"
      },
      "execution_count": 24,
      "outputs": [
        {
          "output_type": "stream",
          "name": "stdout",
          "text": [
            "division by zero\n"
          ]
        }
      ]
    },
    {
      "cell_type": "code",
      "source": [
        "# E\n",
        "\n",
        "try:\n",
        "  foo()\n",
        "except BaseException:\n",
        "  print(this.exception)\n"
      ],
      "metadata": {
        "colab": {
          "base_uri": "https://localhost:8080/",
          "height": 397
        },
        "id": "K2IolWdRxE_X",
        "outputId": "bf89983c-13f3-4421-d070-30a826b4e3f0"
      },
      "execution_count": 25,
      "outputs": [
        {
          "output_type": "error",
          "ename": "NameError",
          "evalue": "ignored",
          "traceback": [
            "\u001b[0;31m---------------------------------------------------------------------------\u001b[0m",
            "\u001b[0;31mZeroDivisionError\u001b[0m                         Traceback (most recent call last)",
            "\u001b[0;32m<ipython-input-25-042c6bd76d26>\u001b[0m in \u001b[0;36m<module>\u001b[0;34m()\u001b[0m\n\u001b[1;32m      3\u001b[0m \u001b[0;32mtry\u001b[0m\u001b[0;34m:\u001b[0m\u001b[0;34m\u001b[0m\u001b[0;34m\u001b[0m\u001b[0m\n\u001b[0;32m----> 4\u001b[0;31m   \u001b[0mfoo\u001b[0m\u001b[0;34m(\u001b[0m\u001b[0;34m)\u001b[0m\u001b[0;34m\u001b[0m\u001b[0;34m\u001b[0m\u001b[0m\n\u001b[0m\u001b[1;32m      5\u001b[0m \u001b[0;32mexcept\u001b[0m \u001b[0mBaseException\u001b[0m\u001b[0;34m:\u001b[0m\u001b[0;34m\u001b[0m\u001b[0;34m\u001b[0m\u001b[0m\n",
            "\u001b[0;32m<ipython-input-21-6c292b98cd2b>\u001b[0m in \u001b[0;36mfoo\u001b[0;34m()\u001b[0m\n\u001b[1;32m      1\u001b[0m \u001b[0;32mdef\u001b[0m \u001b[0mfoo\u001b[0m\u001b[0;34m(\u001b[0m\u001b[0;34m)\u001b[0m\u001b[0;34m:\u001b[0m\u001b[0;34m\u001b[0m\u001b[0;34m\u001b[0m\u001b[0m\n\u001b[0;32m----> 2\u001b[0;31m   \u001b[0;32mreturn\u001b[0m \u001b[0;36m1\u001b[0m\u001b[0;34m/\u001b[0m\u001b[0;36m0\u001b[0m\u001b[0;34m\u001b[0m\u001b[0;34m\u001b[0m\u001b[0m\n\u001b[0m\u001b[1;32m      3\u001b[0m \u001b[0;31m# A\u001b[0m\u001b[0;34m\u001b[0m\u001b[0;34m\u001b[0m\u001b[0;34m\u001b[0m\u001b[0m\n",
            "\u001b[0;31mZeroDivisionError\u001b[0m: division by zero",
            "\nDuring handling of the above exception, another exception occurred:\n",
            "\u001b[0;31mNameError\u001b[0m                                 Traceback (most recent call last)",
            "\u001b[0;32m<ipython-input-25-042c6bd76d26>\u001b[0m in \u001b[0;36m<module>\u001b[0;34m()\u001b[0m\n\u001b[1;32m      4\u001b[0m   \u001b[0mfoo\u001b[0m\u001b[0;34m(\u001b[0m\u001b[0;34m)\u001b[0m\u001b[0;34m\u001b[0m\u001b[0;34m\u001b[0m\u001b[0m\n\u001b[1;32m      5\u001b[0m \u001b[0;32mexcept\u001b[0m \u001b[0mBaseException\u001b[0m\u001b[0;34m:\u001b[0m\u001b[0;34m\u001b[0m\u001b[0;34m\u001b[0m\u001b[0m\n\u001b[0;32m----> 6\u001b[0;31m   \u001b[0mprint\u001b[0m\u001b[0;34m(\u001b[0m\u001b[0mthis\u001b[0m\u001b[0;34m.\u001b[0m\u001b[0mexception\u001b[0m\u001b[0;34m)\u001b[0m\u001b[0;34m\u001b[0m\u001b[0;34m\u001b[0m\u001b[0m\n\u001b[0m",
            "\u001b[0;31mNameError\u001b[0m: name 'this' is not defined"
          ]
        }
      ]
    },
    {
      "cell_type": "code",
      "source": [
        "z=5\n",
        "x=\"456\"\n",
        "\n",
        "while z > -1:\n",
        "  print(\"y=\",y)\n",
        "  print(\"x=\",x)\n",
        "  y=x\n",
        "  if y in ('1','2','3') or len(y)>1:\n",
        "    break\n",
        "  x=x+y\n",
        "  print(\"y=\",y)\n",
        "  print(\"x=\",x)\n",
        "  if y in ('4','5','6'):\n",
        "    continue\n",
        "  z=z-1\n",
        "print(z)\n"
      ],
      "metadata": {
        "colab": {
          "base_uri": "https://localhost:8080/"
        },
        "id": "-rnNqLqXxXnX",
        "outputId": "1d79387a-2740-497a-e15f-23a615ef19a2"
      },
      "execution_count": 42,
      "outputs": [
        {
          "output_type": "stream",
          "name": "stdout",
          "text": [
            "y= 456\n",
            "x= 456\n",
            "5\n"
          ]
        }
      ]
    },
    {
      "cell_type": "code",
      "source": [
        "def f():\n",
        "  yield True\n",
        "\n",
        "try:\n",
        "  g=f()\n",
        "  h=next(g)\n",
        "  assert h is True\n",
        "  print(\"True\")\n",
        "  h=next(g)\n",
        "  print(\"True2\")\n",
        "  assert h is None\n",
        "  print(\"None\")\n",
        "except AssertionError:\n",
        "  print(\"Assertion failed\")\n",
        "except GeneratorExit:\n",
        "  print(\"Exit\")\n",
        "except StopIteration:\n",
        "  print(\"Stop\")\n"
      ],
      "metadata": {
        "colab": {
          "base_uri": "https://localhost:8080/"
        },
        "id": "whzEu_bLyEvY",
        "outputId": "605adf0f-7844-444a-8ced-211668cfbeab"
      },
      "execution_count": 44,
      "outputs": [
        {
          "output_type": "stream",
          "name": "stdout",
          "text": [
            "True\n",
            "Stop\n"
          ]
        }
      ]
    },
    {
      "cell_type": "code",
      "source": [
        "i=150\n",
        "j=300\n",
        "\n",
        "if((True == False) and (False in (False,))) == True:\n",
        "  print(i)\n",
        "elif(True == False) in (False,) == False:\n",
        "  print((True == False) in (False,))\n",
        "  print(j)\n",
        "else:\n",
        "  print((True == False) in (False,))\n",
        "  print(\"No arithmetical operator proceeded\")"
      ],
      "metadata": {
        "colab": {
          "base_uri": "https://localhost:8080/"
        },
        "id": "QdujejsYzCQi",
        "outputId": "38487e72-1ac8-46d1-81ba-eba68418affc"
      },
      "execution_count": 50,
      "outputs": [
        {
          "output_type": "stream",
          "name": "stdout",
          "text": [
            "True\n",
            "No arithmetical operator proceeded\n"
          ]
        }
      ]
    },
    {
      "cell_type": "code",
      "source": [
        "lst = [-1,-4,2,5,-3]\n",
        "\n",
        "sorted(lst)\n",
        "sorted(lst,key=abs)\n",
        "#sort(lst)\n",
        "#sort(lst,key=abs)\n",
        "\n",
        "#[x[1] for x in sorted([(abs(x),x) for x in lst])]\n",
        "\n",
        "[(abs(x),x) for x in lst]"
      ],
      "metadata": {
        "colab": {
          "base_uri": "https://localhost:8080/"
        },
        "id": "Ds7AF-1rzjpe",
        "outputId": "bfc8e28a-6193-4861-fe45-4582e663ebab"
      },
      "execution_count": 51,
      "outputs": [
        {
          "output_type": "execute_result",
          "data": {
            "text/plain": [
              "[(1, -1), (4, -4), (2, 2), (5, 5), (3, -3)]"
            ]
          },
          "metadata": {},
          "execution_count": 51
        }
      ]
    },
    {
      "cell_type": "code",
      "source": [
        "data = [1,2,3,4,5,6]\n",
        "\n",
        "def f1(x):\n",
        "  return 3*x\n",
        "\n",
        "def f2(x):\n",
        "  try:\n",
        "    return x>3\n",
        "  except:\n",
        "    return 0\n",
        "\n",
        "result = list(map(f1,list(filter(f2,data))))\n",
        "result"
      ],
      "metadata": {
        "colab": {
          "base_uri": "https://localhost:8080/"
        },
        "id": "H28QfUGfqi0A",
        "outputId": "05b12828-eea8-49aa-8468-23aaa9853e65"
      },
      "execution_count": 52,
      "outputs": [
        {
          "output_type": "execute_result",
          "data": {
            "text/plain": [
              "[12, 15, 18]"
            ]
          },
          "metadata": {},
          "execution_count": 52
        }
      ]
    },
    {
      "cell_type": "code",
      "source": [
        "data = [1,2,3,4,5,6]\n",
        "list(map(lambda r:r*3, filter(lambda f: f>3 or 0 , data)))\n"
      ],
      "metadata": {
        "colab": {
          "base_uri": "https://localhost:8080/"
        },
        "id": "rdWZ-CPCqoTb",
        "outputId": "0f0f48d5-d810-4767-bbed-b1623e2a4262"
      },
      "execution_count": 20,
      "outputs": [
        {
          "output_type": "execute_result",
          "data": {
            "text/plain": [
              "[12, 15, 18]"
            ]
          },
          "metadata": {},
          "execution_count": 20
        }
      ]
    },
    {
      "cell_type": "code",
      "source": [
        "method = \"METHODS\"\n",
        "\n",
        "def x(methods):\n",
        "  method = str.swapcase(methods)\n",
        "  print(\"STEP 2\",method)\n",
        "  #print((\"%(method)s\" % locals() ))\n",
        "  print(locals())\n",
        "  print((\"%(methods)s\" % locals() ))\n",
        "\n",
        "methods = str.swapcase(method[:-1])\n",
        "\n",
        "print(\"STEP 1\",methods)\n",
        "x(methods)\n",
        "\n"
      ],
      "metadata": {
        "colab": {
          "base_uri": "https://localhost:8080/"
        },
        "id": "NwtaFtX0u38z",
        "outputId": "bf9a17b8-2ccb-4c95-b34c-86bd3e4a9ce1"
      },
      "execution_count": 69,
      "outputs": [
        {
          "output_type": "stream",
          "name": "stdout",
          "text": [
            "STEP 1 method\n",
            "STEP 2 METHOD\n",
            "{'methods': 'method', 'method': 'METHOD'}\n",
            "method\n"
          ]
        }
      ]
    }
  ]
}