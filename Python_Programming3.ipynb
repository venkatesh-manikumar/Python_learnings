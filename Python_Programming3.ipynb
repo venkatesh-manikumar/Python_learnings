{
  "nbformat": 4,
  "nbformat_minor": 0,
  "metadata": {
    "colab": {
      "name": "Python_Programming3.ipynb",
      "provenance": [],
      "collapsed_sections": [],
      "authorship_tag": "ABX9TyPyO/T/nkzQk5x8EpGjt8h+",
      "include_colab_link": true
    },
    "kernelspec": {
      "name": "python3",
      "display_name": "Python 3"
    },
    "language_info": {
      "name": "python"
    }
  },
  "cells": [
    {
      "cell_type": "markdown",
      "metadata": {
        "id": "view-in-github",
        "colab_type": "text"
      },
      "source": [
        "<a href=\"https://colab.research.google.com/github/venkatesh-manikumar/Python_learnings/blob/main/Python_Programming3.ipynb\" target=\"_parent\"><img src=\"https://colab.research.google.com/assets/colab-badge.svg\" alt=\"Open In Colab\"/></a>"
      ]
    },
    {
      "cell_type": "markdown",
      "source": [
        "### Global variables\n"
      ],
      "metadata": {
        "id": "ZCU_2yOr3X8W"
      }
    },
    {
      "cell_type": "code",
      "source": [
        "## GLOBAL VARIABLE\n",
        "c=100\n",
        "\n",
        "def function():\n",
        "  ## LOCAL VARIABLE\n",
        "  d=50\n",
        "  print(\"INSIDE  FUNCTION :\",d)\n",
        "\n",
        "function()\n",
        "print(\"OUTSIDE  FUNCTION :\",d)"
      ],
      "metadata": {
        "colab": {
          "base_uri": "https://localhost:8080/",
          "height": 227
        },
        "id": "RQkQiDxg3i1E",
        "outputId": "1af51190-2432-4403-b04f-2b26a07fb297"
      },
      "execution_count": null,
      "outputs": [
        {
          "output_type": "stream",
          "name": "stdout",
          "text": [
            "INSIDE  FUNCTION : 50\n"
          ]
        },
        {
          "output_type": "error",
          "ename": "NameError",
          "evalue": "ignored",
          "traceback": [
            "\u001b[0;31m---------------------------------------------------------------------------\u001b[0m",
            "\u001b[0;31mNameError\u001b[0m                                 Traceback (most recent call last)",
            "\u001b[0;32m<ipython-input-30-a4de5b6ca6a9>\u001b[0m in \u001b[0;36m<module>\u001b[0;34m()\u001b[0m\n\u001b[1;32m      8\u001b[0m \u001b[0;34m\u001b[0m\u001b[0m\n\u001b[1;32m      9\u001b[0m \u001b[0mfunction\u001b[0m\u001b[0;34m(\u001b[0m\u001b[0;34m)\u001b[0m\u001b[0;34m\u001b[0m\u001b[0;34m\u001b[0m\u001b[0m\n\u001b[0;32m---> 10\u001b[0;31m \u001b[0mprint\u001b[0m\u001b[0;34m(\u001b[0m\u001b[0;34m\"OUTSIDE  FUNCTION :\"\u001b[0m\u001b[0;34m,\u001b[0m\u001b[0md\u001b[0m\u001b[0;34m)\u001b[0m\u001b[0;34m\u001b[0m\u001b[0;34m\u001b[0m\u001b[0m\n\u001b[0m",
            "\u001b[0;31mNameError\u001b[0m: name 'd' is not defined"
          ]
        }
      ]
    },
    {
      "cell_type": "markdown",
      "source": [
        "### Inside a function , if global variable is used (just accessing existing value) , we can simply use the variable.\n",
        "\n",
        "### If we want to modify and preserve state of global variable , need to declare as \"global x\" , before accessing and modifying it."
      ],
      "metadata": {
        "id": "JMDLn_PS_3fT"
      }
    },
    {
      "cell_type": "code",
      "source": [
        "x = 20\n",
        "y=15\n",
        "\n",
        "def function3():\n",
        "  y =30\n",
        "  global x\n",
        "  x=5*x\n",
        "  print(\"INSIDE FUNCTION - LOCAL SCOPE IS HAVING PRIORITY \",y)\n",
        "  print(\"INSIDE FUNCTION - ACCESSING AND MODIFYING A GLOBAL VARIABLE \",x)\n",
        "\n",
        "\n",
        "function3()\n",
        "print(\"OUTSIDE FUNCTION - GLOBAL SCOPE IS HAVING PRIORITY AND PRESERVE CHANGES\",x)"
      ],
      "metadata": {
        "colab": {
          "base_uri": "https://localhost:8080/"
        },
        "id": "oYPs8uwX5DqX",
        "outputId": "20eec6f1-aeb8-4dff-8133-cb9180811220"
      },
      "execution_count": null,
      "outputs": [
        {
          "output_type": "stream",
          "name": "stdout",
          "text": [
            "INSIDE FUNCTION - LOCAL SCOPE IS HAVING PRIORITY  30\n",
            "INSIDE FUNCTION - ACCESSING AND MODIFYING A GLOBAL VARIABLE  100\n",
            "OUTSIDE FUNCTION - GLOBAL SCOPE IS HAVING PRIORITY AND PRESERVE CHANGES 100\n"
          ]
        }
      ]
    },
    {
      "cell_type": "markdown",
      "source": [
        "### NESTED INDEXING"
      ],
      "metadata": {
        "id": "WAIJres-Ai7s"
      }
    },
    {
      "cell_type": "code",
      "source": [
        "nested_list = [1,2,[3,4],[5.5,6.6],['seven','eight']]\n",
        "nested_list"
      ],
      "metadata": {
        "colab": {
          "base_uri": "https://localhost:8080/"
        },
        "id": "yLTf7D91AhwB",
        "outputId": "fa8c84f0-aeb1-4f6c-e4c1-47154c02729b"
      },
      "execution_count": null,
      "outputs": [
        {
          "output_type": "execute_result",
          "data": {
            "text/plain": [
              "[1, 2, [3, 4], [5.5, 6.6], ['seven', 'eight']]"
            ]
          },
          "metadata": {},
          "execution_count": 93
        }
      ]
    },
    {
      "cell_type": "code",
      "source": [
        "nested_list[3][0]"
      ],
      "metadata": {
        "colab": {
          "base_uri": "https://localhost:8080/"
        },
        "id": "K7HaoBH34Ewb",
        "outputId": "e9ada039-ac87-4760-8339-375bebff66d9"
      },
      "execution_count": null,
      "outputs": [
        {
          "output_type": "execute_result",
          "data": {
            "text/plain": [
              "5.5"
            ]
          },
          "metadata": {},
          "execution_count": 53
        }
      ]
    },
    {
      "cell_type": "code",
      "source": [
        "nested_list[-2][-1]"
      ],
      "metadata": {
        "colab": {
          "base_uri": "https://localhost:8080/"
        },
        "id": "fohtQM5vBlbY",
        "outputId": "f1e03c0e-e532-49d5-9ae3-7b6adc608ac7"
      },
      "execution_count": null,
      "outputs": [
        {
          "output_type": "execute_result",
          "data": {
            "text/plain": [
              "6.6"
            ]
          },
          "metadata": {},
          "execution_count": 54
        }
      ]
    },
    {
      "cell_type": "code",
      "source": [
        "nested_list.append(5)\n",
        "nested_list"
      ],
      "metadata": {
        "colab": {
          "base_uri": "https://localhost:8080/"
        },
        "id": "uQiIAQadCu8A",
        "outputId": "94a81c9d-d6fc-45db-c0cd-b5a4cfe003bd"
      },
      "execution_count": null,
      "outputs": [
        {
          "output_type": "execute_result",
          "data": {
            "text/plain": [
              "[1, 2, [3, 4], [5.5, 6.6], ['seven', 'eight'], 5]"
            ]
          },
          "metadata": {},
          "execution_count": 94
        }
      ]
    },
    {
      "cell_type": "code",
      "source": [
        "nested_list.extend(range(8,10,1))\n",
        "nested_list"
      ],
      "metadata": {
        "colab": {
          "base_uri": "https://localhost:8080/"
        },
        "id": "8M-7kqK9DsMK",
        "outputId": "ed133bf2-7051-4d05-e110-a39d70632b69"
      },
      "execution_count": null,
      "outputs": [
        {
          "output_type": "execute_result",
          "data": {
            "text/plain": [
              "[1, 2, [3, 4], [5.5, 6.6], ['seven', 'eight'], 5, 8, 9]"
            ]
          },
          "metadata": {},
          "execution_count": 95
        }
      ]
    },
    {
      "cell_type": "code",
      "source": [
        "nested_list.insert(-2,0)\n",
        "nested_list"
      ],
      "metadata": {
        "colab": {
          "base_uri": "https://localhost:8080/"
        },
        "id": "OkooZ8aWEvmP",
        "outputId": "ca33a243-e7fd-42a8-9f8d-03e0ccb5949b"
      },
      "execution_count": null,
      "outputs": [
        {
          "output_type": "execute_result",
          "data": {
            "text/plain": [
              "[1, 2, [3, 4], [5.5, 6.6], ['seven', 'eight'], 5, 0, 8, 9]"
            ]
          },
          "metadata": {},
          "execution_count": 96
        }
      ]
    },
    {
      "cell_type": "markdown",
      "source": [
        "### del nested_list[2] - used to delete contents in nested list"
      ],
      "metadata": {
        "id": "XK3Iae2qHR4o"
      }
    },
    {
      "cell_type": "code",
      "source": [
        "del nested_list[2]"
      ],
      "metadata": {
        "id": "XrhPBDSxF181"
      },
      "execution_count": null,
      "outputs": []
    },
    {
      "cell_type": "code",
      "source": [
        "nested_list"
      ],
      "metadata": {
        "colab": {
          "base_uri": "https://localhost:8080/"
        },
        "id": "fUWQn30fGsOF",
        "outputId": "a1998bbc-3d90-48d0-ee08-976d1868a1d2"
      },
      "execution_count": null,
      "outputs": [
        {
          "output_type": "execute_result",
          "data": {
            "text/plain": [
              "[1, 2, [5.5, 6.6], ['seven', 'eight'], 5, 0, 8, 9]"
            ]
          },
          "metadata": {},
          "execution_count": 102
        }
      ]
    },
    {
      "cell_type": "markdown",
      "source": [
        "### LIST CONCATENATION"
      ],
      "metadata": {
        "id": "ubFt0y39FjFD"
      }
    },
    {
      "cell_type": "code",
      "source": [
        "list_1=['S','A','M']\n",
        "list_2=['S','A','M']\n",
        "\n",
        "print(list_1+list_2)\n",
        "print(list_1*5)\n"
      ],
      "metadata": {
        "colab": {
          "base_uri": "https://localhost:8080/"
        },
        "id": "0TuYnygIFmFL",
        "outputId": "e269cd2d-39d1-4f92-f464-9860f7050b5f"
      },
      "execution_count": null,
      "outputs": [
        {
          "output_type": "stream",
          "name": "stdout",
          "text": [
            "['S', 'A', 'M', 'S', 'A', 'M']\n",
            "['S', 'A', 'M', 'S', 'A', 'M', 'S', 'A', 'M', 'S', 'A', 'M', 'S', 'A', 'M']\n"
          ]
        }
      ]
    },
    {
      "cell_type": "markdown",
      "source": [
        "### remove() and pop()"
      ],
      "metadata": {
        "id": "Y3-NzbvlJrzg"
      }
    },
    {
      "cell_type": "code",
      "source": [
        "data= 'DATASCIENCE'\n",
        "data_array=list(data)\n",
        "data_array"
      ],
      "metadata": {
        "colab": {
          "base_uri": "https://localhost:8080/"
        },
        "id": "WWhcYb1NINND",
        "outputId": "3b93fa6f-c7c0-407f-947f-697bbf629587"
      },
      "execution_count": null,
      "outputs": [
        {
          "output_type": "execute_result",
          "data": {
            "text/plain": [
              "['D', 'A', 'T', 'A', 'S', 'C', 'I', 'E', 'N', 'C', 'E']"
            ]
          },
          "metadata": {},
          "execution_count": 119
        }
      ]
    },
    {
      "cell_type": "code",
      "source": [
        "data_array.remove('E')\n",
        "data_array.pop()\n",
        "data_array"
      ],
      "metadata": {
        "colab": {
          "base_uri": "https://localhost:8080/"
        },
        "id": "kh8Epe7sI40I",
        "outputId": "da25dbee-6106-498e-febe-8a4393cc45fc"
      },
      "execution_count": null,
      "outputs": [
        {
          "output_type": "execute_result",
          "data": {
            "text/plain": [
              "['D', 'A', 'T', 'A', 'S', 'C', 'I', 'N', 'C']"
            ]
          },
          "metadata": {},
          "execution_count": 120
        }
      ]
    },
    {
      "cell_type": "code",
      "source": [
        "empty_list=list()\n",
        "\n",
        "for i in range(0,10):\n",
        "  empty_list.append(i*i)\n",
        "\n",
        "empty_list\n"
      ],
      "metadata": {
        "colab": {
          "base_uri": "https://localhost:8080/"
        },
        "id": "pM4X27WbKu1O",
        "outputId": "665cb58a-acb8-49d0-f3f5-975465a5f411"
      },
      "execution_count": null,
      "outputs": [
        {
          "output_type": "execute_result",
          "data": {
            "text/plain": [
              "[0, 1, 4, 9, 16, 25, 36, 49, 64, 81]"
            ]
          },
          "metadata": {},
          "execution_count": 124
        }
      ]
    },
    {
      "cell_type": "markdown",
      "source": [
        "### LIST COMPREHENSION IMPLEMENTATION OF SAME LOGIC"
      ],
      "metadata": {
        "id": "-CcFV-gVNm4e"
      }
    },
    {
      "cell_type": "code",
      "source": [
        "[i**2 for i in range(10)]"
      ],
      "metadata": {
        "colab": {
          "base_uri": "https://localhost:8080/"
        },
        "id": "lBLw6qNGMssr",
        "outputId": "9e13c114-e303-4317-9a13-422c23e1180d"
      },
      "execution_count": null,
      "outputs": [
        {
          "output_type": "execute_result",
          "data": {
            "text/plain": [
              "[0, 1, 4, 9, 16, 25, 36, 49, 64, 81]"
            ]
          },
          "metadata": {},
          "execution_count": 130
        }
      ]
    },
    {
      "cell_type": "code",
      "source": [
        "[i for i in range(100) if (i%2==0 and i%5==0) ]"
      ],
      "metadata": {
        "colab": {
          "base_uri": "https://localhost:8080/"
        },
        "id": "YBUAY8AmRhYB",
        "outputId": "4b24ba5d-8ccd-4d97-e8dd-916aa7efd859"
      },
      "execution_count": null,
      "outputs": [
        {
          "output_type": "execute_result",
          "data": {
            "text/plain": [
              "[0, 10, 20, 30, 40, 50, 60, 70, 80, 90]"
            ]
          },
          "metadata": {},
          "execution_count": 132
        }
      ]
    },
    {
      "cell_type": "code",
      "source": [
        "[\"EVEN\" if i%2==0 else \"ODD\" for i in range(10)]"
      ],
      "metadata": {
        "colab": {
          "base_uri": "https://localhost:8080/"
        },
        "id": "OKqHjrKfSKSi",
        "outputId": "c18e3766-714c-4294-a216-a65fb62729fc"
      },
      "execution_count": null,
      "outputs": [
        {
          "output_type": "execute_result",
          "data": {
            "text/plain": [
              "['EVEN', 'ODD', 'EVEN', 'ODD', 'EVEN', 'ODD', 'EVEN', 'ODD', 'EVEN', 'ODD']"
            ]
          },
          "metadata": {},
          "execution_count": 135
        }
      ]
    },
    {
      "cell_type": "markdown",
      "source": [
        "### ENUMERATE"
      ],
      "metadata": {
        "id": "TW4VSzu1TJxi"
      }
    },
    {
      "cell_type": "code",
      "source": [
        "x1=['Data','Functions','Stats']\n",
        "list(enumerate(x1,1))"
      ],
      "metadata": {
        "colab": {
          "base_uri": "https://localhost:8080/"
        },
        "id": "4ChTo05VTLZ7",
        "outputId": "e802a6e7-749a-4307-f123-6a756ef03e23"
      },
      "execution_count": null,
      "outputs": [
        {
          "output_type": "execute_result",
          "data": {
            "text/plain": [
              "[(1, 'Data'), (2, 'Functions'), (3, 'Stats')]"
            ]
          },
          "metadata": {},
          "execution_count": 140
        }
      ]
    },
    {
      "cell_type": "code",
      "source": [
        "list(enumerate(x1,50))"
      ],
      "metadata": {
        "colab": {
          "base_uri": "https://localhost:8080/"
        },
        "id": "MX4zmploTrq1",
        "outputId": "f6b060f7-b94d-447a-d423-ec866d28c018"
      },
      "execution_count": null,
      "outputs": [
        {
          "output_type": "execute_result",
          "data": {
            "text/plain": [
              "[(50, 'Data'), (51, 'Functions'), (52, 'Stats')]"
            ]
          },
          "metadata": {},
          "execution_count": 141
        }
      ]
    },
    {
      "cell_type": "markdown",
      "source": [
        "### TUPLE OPERATIONS"
      ],
      "metadata": {
        "id": "NUzIjKcfTywo"
      }
    },
    {
      "cell_type": "code",
      "source": [
        "tuple_data=3,5.5,'nine'\n",
        "type(tuple_data)"
      ],
      "metadata": {
        "colab": {
          "base_uri": "https://localhost:8080/"
        },
        "id": "5WOfSTOCTxEC",
        "outputId": "753a8a96-d390-4b48-aa85-ba7bff5e7de3"
      },
      "execution_count": null,
      "outputs": [
        {
          "output_type": "execute_result",
          "data": {
            "text/plain": [
              "tuple"
            ]
          },
          "metadata": {},
          "execution_count": 146
        }
      ]
    },
    {
      "cell_type": "markdown",
      "source": [
        "### TUPLE UNPACKING"
      ],
      "metadata": {
        "id": "ogE5xK3oUul5"
      }
    },
    {
      "cell_type": "code",
      "source": [
        "a,b,c =tuple_data\n",
        "print(a)\n",
        "print(b)\n",
        "print(c)"
      ],
      "metadata": {
        "colab": {
          "base_uri": "https://localhost:8080/"
        },
        "id": "GIPwBgcWUtMk",
        "outputId": "2aa40547-54d2-43e1-8a34-7d0eba93b61b"
      },
      "execution_count": null,
      "outputs": [
        {
          "output_type": "stream",
          "name": "stdout",
          "text": [
            "3\n",
            "5.5\n",
            "nine\n"
          ]
        }
      ]
    },
    {
      "cell_type": "markdown",
      "source": [
        "#### tuple1=('stringdata')\n",
        "#### print(type(tuple1)) --- Returns String\n",
        "\n",
        "#### tuple2=('stringdata','stringdata')\n",
        "#### print(type(tuple2)) --- Returns Tuple \n",
        "\n",
        "#### tuple2=('stringdata','stringdata',)\n",
        "#### print(type(tuple2)) --- Returns Tuple "
      ],
      "metadata": {
        "id": "uOQvKqh0VtEb"
      }
    },
    {
      "cell_type": "code",
      "source": [
        "tuple1=('stringdata')\n",
        "print(type(tuple1))\n",
        "\n",
        "tuple2=('stringdata','stringdata')\n",
        "print(type(tuple2))\n",
        "\n",
        "tuple3=('stringdata',)\n",
        "print(type(tuple2))\n"
      ],
      "metadata": {
        "colab": {
          "base_uri": "https://localhost:8080/"
        },
        "id": "HZgA2sg9VMCp",
        "outputId": "96e8c79d-9f97-41a8-c987-3e45fde2a80b"
      },
      "execution_count": null,
      "outputs": [
        {
          "output_type": "stream",
          "name": "stdout",
          "text": [
            "<class 'str'>\n",
            "<class 'tuple'>\n",
            "<class 'tuple'>\n"
          ]
        }
      ]
    },
    {
      "cell_type": "markdown",
      "source": [
        "### Changing a tuple - Exceptions"
      ],
      "metadata": {
        "id": "wIX25IyjYoH4"
      }
    },
    {
      "cell_type": "code",
      "source": [
        "tuple_data=(1,2,[3,4],[5.5,6.6],['seven','eight'])\n",
        "tuple_data"
      ],
      "metadata": {
        "colab": {
          "base_uri": "https://localhost:8080/"
        },
        "id": "owN7ftrvX8Op",
        "outputId": "b7fe0817-5d1a-45ee-bc36-e42770f6ec7a"
      },
      "execution_count": null,
      "outputs": [
        {
          "output_type": "execute_result",
          "data": {
            "text/plain": [
              "(1, 2, [3, 4], [5.5, 6.6], ['seven', 'eight'])"
            ]
          },
          "metadata": {},
          "execution_count": 172
        }
      ]
    },
    {
      "cell_type": "markdown",
      "source": [
        "### Reassigment is made as possible in Tuple , by having tuple(list[ ])"
      ],
      "metadata": {
        "id": "m5vNdY_schsm"
      }
    },
    {
      "cell_type": "code",
      "source": [
        "|tuple_data[2][0]=100  \n",
        "tuple_data"
      ],
      "metadata": {
        "colab": {
          "base_uri": "https://localhost:8080/"
        },
        "id": "jHT_CKy_YgNU",
        "outputId": "6d09b684-5466-4838-d884-50ccdc732fb1"
      },
      "execution_count": null,
      "outputs": [
        {
          "output_type": "execute_result",
          "data": {
            "text/plain": [
              "(1, 2, [100, 4], [5.5, 6.6], ['seven', 'eight'])"
            ]
          },
          "metadata": {},
          "execution_count": 173
        }
      ]
    },
    {
      "cell_type": "markdown",
      "source": [
        "### Tuple can be placed inside a set"
      ],
      "metadata": {
        "id": "WU1JSSodcmid"
      }
    },
    {
      "cell_type": "code",
      "source": [
        "my_set1= {1.0,\"Hi\",(2,5,8)} \n",
        "my_set1"
      ],
      "metadata": {
        "colab": {
          "base_uri": "https://localhost:8080/"
        },
        "id": "avdGqvkbZL6d",
        "outputId": "511092f5-a0a5-4b5c-b502-9659755b7bf4"
      },
      "execution_count": null,
      "outputs": [
        {
          "output_type": "execute_result",
          "data": {
            "text/plain": [
              "{(2, 5, 8), 1.0, 'Hi'}"
            ]
          },
          "metadata": {},
          "execution_count": 178
        }
      ]
    },
    {
      "cell_type": "markdown",
      "source": [
        "### List cannot be placed inside a set , throws a ERROR"
      ],
      "metadata": {
        "id": "511F6aEjc0uT"
      }
    },
    {
      "cell_type": "code",
      "source": [
        "my_set2= {1.0,\"Hi\",[2,5,8]} \n",
        "my_set2"
      ],
      "metadata": {
        "colab": {
          "base_uri": "https://localhost:8080/",
          "height": 190
        },
        "id": "G3WBkvA4ZmwT",
        "outputId": "53955073-e855-46c6-c6ff-6bb863a20ebd"
      },
      "execution_count": null,
      "outputs": [
        {
          "output_type": "error",
          "ename": "TypeError",
          "evalue": "ignored",
          "traceback": [
            "\u001b[0;31m---------------------------------------------------------------------------\u001b[0m",
            "\u001b[0;31mTypeError\u001b[0m                                 Traceback (most recent call last)",
            "\u001b[0;32m<ipython-input-176-48718d88556d>\u001b[0m in \u001b[0;36m<module>\u001b[0;34m()\u001b[0m\n\u001b[0;32m----> 1\u001b[0;31m \u001b[0mmy_set2\u001b[0m\u001b[0;34m=\u001b[0m \u001b[0;34m{\u001b[0m\u001b[0;36m1.0\u001b[0m\u001b[0;34m,\u001b[0m\u001b[0;34m\"Hi\"\u001b[0m\u001b[0;34m,\u001b[0m\u001b[0;34m[\u001b[0m\u001b[0;36m2\u001b[0m\u001b[0;34m,\u001b[0m\u001b[0;36m5\u001b[0m\u001b[0;34m,\u001b[0m\u001b[0;36m8\u001b[0m\u001b[0;34m]\u001b[0m\u001b[0;34m}\u001b[0m\u001b[0;34m\u001b[0m\u001b[0;34m\u001b[0m\u001b[0m\n\u001b[0m\u001b[1;32m      2\u001b[0m \u001b[0mmy_set2\u001b[0m\u001b[0;34m\u001b[0m\u001b[0;34m\u001b[0m\u001b[0m\n",
            "\u001b[0;31mTypeError\u001b[0m: unhashable type: 'list'"
          ]
        }
      ]
    },
    {
      "cell_type": "code",
      "source": [
        "my_set1={1,2,3,4,5}\n",
        "print(my_set1)\n",
        "my_set1.discard(3)\n",
        "print(my_set1)\n",
        "my_set1.remove(2)\n",
        "print(my_set1)\n",
        "\n",
        "my_set1.discard(100) ## Doesnot Throws an error if element not present in SET\n",
        "print(my_set1)\n",
        "\n",
        "my_set1.remove(100)\n",
        "print(my_set1) ## Throws an error if element not present in SET\n"
      ],
      "metadata": {
        "colab": {
          "base_uri": "https://localhost:8080/",
          "height": 301
        },
        "id": "Gy0PyYl-a7Zz",
        "outputId": "3183afd6-68af-41ae-8089-ea0fee15f572"
      },
      "execution_count": null,
      "outputs": [
        {
          "output_type": "stream",
          "name": "stdout",
          "text": [
            "{1, 2, 3, 4, 5}\n",
            "{1, 2, 4, 5}\n",
            "{1, 4, 5}\n",
            "{1, 4, 5}\n"
          ]
        },
        {
          "output_type": "error",
          "ename": "KeyError",
          "evalue": "ignored",
          "traceback": [
            "\u001b[0;31m---------------------------------------------------------------------------\u001b[0m",
            "\u001b[0;31mKeyError\u001b[0m                                  Traceback (most recent call last)",
            "\u001b[0;32m<ipython-input-187-a292a57c44ce>\u001b[0m in \u001b[0;36m<module>\u001b[0;34m()\u001b[0m\n\u001b[1;32m      9\u001b[0m \u001b[0mprint\u001b[0m\u001b[0;34m(\u001b[0m\u001b[0mmy_set1\u001b[0m\u001b[0;34m)\u001b[0m\u001b[0;34m\u001b[0m\u001b[0;34m\u001b[0m\u001b[0m\n\u001b[1;32m     10\u001b[0m \u001b[0;34m\u001b[0m\u001b[0m\n\u001b[0;32m---> 11\u001b[0;31m \u001b[0mmy_set1\u001b[0m\u001b[0;34m.\u001b[0m\u001b[0mremove\u001b[0m\u001b[0;34m(\u001b[0m\u001b[0;36m100\u001b[0m\u001b[0;34m)\u001b[0m\u001b[0;34m\u001b[0m\u001b[0;34m\u001b[0m\u001b[0m\n\u001b[0m\u001b[1;32m     12\u001b[0m \u001b[0mprint\u001b[0m\u001b[0;34m(\u001b[0m\u001b[0mmy_set1\u001b[0m\u001b[0;34m)\u001b[0m\u001b[0;34m\u001b[0m\u001b[0;34m\u001b[0m\u001b[0m\n",
            "\u001b[0;31mKeyError\u001b[0m: 100"
          ]
        }
      ]
    },
    {
      "cell_type": "markdown",
      "source": [
        "### Iterators"
      ],
      "metadata": {
        "id": "-wQicyS7dMFD"
      }
    },
    {
      "cell_type": "code",
      "source": [
        "list_data = [10,20,30,40,50]\n",
        "\n",
        "my_iterator= iter(list_data)\n",
        "\n",
        "while my_iterator:\n",
        "  try:\n",
        "    print(next(my_iterator))\n",
        "  except StopIteration:\n",
        "    break"
      ],
      "metadata": {
        "colab": {
          "base_uri": "https://localhost:8080/"
        },
        "id": "raN7ZML0dOOv",
        "outputId": "df5e77a3-f4de-4183-cbf2-8e5c87450806"
      },
      "execution_count": 15,
      "outputs": [
        {
          "output_type": "stream",
          "name": "stdout",
          "text": [
            "10\n",
            "20\n",
            "30\n",
            "40\n",
            "50\n"
          ]
        }
      ]
    },
    {
      "cell_type": "markdown",
      "source": [
        "### GENERATORS"
      ],
      "metadata": {
        "id": "-i265ed5CbDG"
      }
    },
    {
      "cell_type": "code",
      "source": [
        "def generator_fun(n):\n",
        "  for i in range(n):\n",
        "    try:\n",
        "      yield i\n",
        "    except StopIteration:\n",
        "      break\n",
        "\n",
        "var1 = generator_fun(3)\n",
        "print(next(var1))\n",
        "print(next(var1))\n",
        "print(next(var1))\n",
        "print(next(var1))\n"
      ],
      "metadata": {
        "colab": {
          "base_uri": "https://localhost:8080/",
          "height": 264
        },
        "id": "AZ8mdwyn-ywO",
        "outputId": "56ad846c-7e0a-4728-91fe-a060d5e73a8d"
      },
      "execution_count": 60,
      "outputs": [
        {
          "output_type": "stream",
          "name": "stdout",
          "text": [
            "0\n",
            "1\n",
            "2\n"
          ]
        },
        {
          "output_type": "error",
          "ename": "StopIteration",
          "evalue": "ignored",
          "traceback": [
            "\u001b[0;31m---------------------------------------------------------------------------\u001b[0m",
            "\u001b[0;31mStopIteration\u001b[0m                             Traceback (most recent call last)",
            "\u001b[0;32m<ipython-input-60-5888973114ad>\u001b[0m in \u001b[0;36m<module>\u001b[0;34m()\u001b[0m\n\u001b[1;32m     10\u001b[0m \u001b[0mprint\u001b[0m\u001b[0;34m(\u001b[0m\u001b[0mnext\u001b[0m\u001b[0;34m(\u001b[0m\u001b[0mvar1\u001b[0m\u001b[0;34m)\u001b[0m\u001b[0;34m)\u001b[0m\u001b[0;34m\u001b[0m\u001b[0;34m\u001b[0m\u001b[0m\n\u001b[1;32m     11\u001b[0m \u001b[0mprint\u001b[0m\u001b[0;34m(\u001b[0m\u001b[0mnext\u001b[0m\u001b[0;34m(\u001b[0m\u001b[0mvar1\u001b[0m\u001b[0;34m)\u001b[0m\u001b[0;34m)\u001b[0m\u001b[0;34m\u001b[0m\u001b[0;34m\u001b[0m\u001b[0m\n\u001b[0;32m---> 12\u001b[0;31m \u001b[0mprint\u001b[0m\u001b[0;34m(\u001b[0m\u001b[0mnext\u001b[0m\u001b[0;34m(\u001b[0m\u001b[0mvar1\u001b[0m\u001b[0;34m)\u001b[0m\u001b[0;34m)\u001b[0m\u001b[0;34m\u001b[0m\u001b[0;34m\u001b[0m\u001b[0m\n\u001b[0m",
            "\u001b[0;31mStopIteration\u001b[0m: "
          ]
        }
      ]
    },
    {
      "cell_type": "code",
      "source": [
        "string_data = 'DATASCIENCE'\n",
        "\n",
        "def generator_fun(n):\n",
        "  for i in range(-1,(len(string_data)*-1)-1,-1):\n",
        "      yield string_data[i]\n",
        "\n",
        "for i in generator_fun(string_data):\n",
        "  print(type(i))\n",
        "  print((i))\n",
        "  \n"
      ],
      "metadata": {
        "colab": {
          "base_uri": "https://localhost:8080/"
        },
        "id": "Rl2QBz0VGMBL",
        "outputId": "d91f27c5-e75c-4996-b065-26ac8cf8d262"
      },
      "execution_count": 64,
      "outputs": [
        {
          "output_type": "stream",
          "name": "stdout",
          "text": [
            "<class 'str'>\n",
            "E\n",
            "<class 'str'>\n",
            "C\n",
            "<class 'str'>\n",
            "N\n",
            "<class 'str'>\n",
            "E\n",
            "<class 'str'>\n",
            "I\n",
            "<class 'str'>\n",
            "C\n",
            "<class 'str'>\n",
            "S\n",
            "<class 'str'>\n",
            "A\n",
            "<class 'str'>\n",
            "T\n",
            "<class 'str'>\n",
            "A\n",
            "<class 'str'>\n",
            "D\n"
          ]
        }
      ]
    },
    {
      "cell_type": "code",
      "source": [
        "string_data = 'SCIENCE'\n",
        "\n",
        "def generator_fun(n):\n",
        "  for i in range(-1,(len(string_data)*-1)-1,-1):\n",
        "      yield string_data[i]\n",
        "\n",
        "for i in generator_fun(string_data):\n",
        "  print(type(i))\n",
        "  print((i))  "
      ],
      "metadata": {
        "colab": {
          "base_uri": "https://localhost:8080/"
        },
        "id": "bsbbuxNTQvgi",
        "outputId": "c70a7016-6bdb-45dd-9e46-2995f6723724"
      },
      "execution_count": 150,
      "outputs": [
        {
          "output_type": "stream",
          "name": "stdout",
          "text": [
            "<class 'str'>\n",
            "E\n",
            "<class 'str'>\n",
            "C\n",
            "<class 'str'>\n",
            "N\n",
            "<class 'str'>\n",
            "E\n",
            "<class 'str'>\n",
            "I\n",
            "<class 'str'>\n",
            "C\n",
            "<class 'str'>\n",
            "S\n"
          ]
        }
      ]
    },
    {
      "cell_type": "code",
      "source": [
        "def func_sum(l):\n",
        "  yield sum(i for i in l)\n",
        "\n",
        "def func_min(l):\n",
        "  yield min(i for i in l)\n",
        "\n",
        "def func_max(l):\n",
        "  yield max(i for i in l)\n",
        "\n",
        "def func_square(l):\n",
        "  yield (i*i for i in l)\n",
        "\n",
        "num_list=[1,2,3,4,5]\n",
        "\n",
        "#print(func_min(num_list))\n",
        "#print(func_square(num_list))\n",
        "\n",
        "sum(func_min(func_max(num_list)))\n",
        "\n",
        "min(func_sum(func_square(num_list)))\n"
      ],
      "metadata": {
        "colab": {
          "base_uri": "https://localhost:8080/",
          "height": 337
        },
        "id": "rIGy57ydRXL0",
        "outputId": "ad4f3dc5-f70f-4871-ee52-db054359647a"
      },
      "execution_count": 154,
      "outputs": [
        {
          "output_type": "error",
          "ename": "TypeError",
          "evalue": "ignored",
          "traceback": [
            "\u001b[0;31m---------------------------------------------------------------------------\u001b[0m",
            "\u001b[0;31mTypeError\u001b[0m                                 Traceback (most recent call last)",
            "\u001b[0;32m<ipython-input-154-075325a67753>\u001b[0m in \u001b[0;36m<module>\u001b[0;34m()\u001b[0m\n\u001b[1;32m     18\u001b[0m \u001b[0msum\u001b[0m\u001b[0;34m(\u001b[0m\u001b[0mfunc_min\u001b[0m\u001b[0;34m(\u001b[0m\u001b[0mfunc_max\u001b[0m\u001b[0;34m(\u001b[0m\u001b[0mnum_list\u001b[0m\u001b[0;34m)\u001b[0m\u001b[0;34m)\u001b[0m\u001b[0;34m)\u001b[0m\u001b[0;34m\u001b[0m\u001b[0;34m\u001b[0m\u001b[0m\n\u001b[1;32m     19\u001b[0m \u001b[0;34m\u001b[0m\u001b[0m\n\u001b[0;32m---> 20\u001b[0;31m \u001b[0mmin\u001b[0m\u001b[0;34m(\u001b[0m\u001b[0mfunc_sum\u001b[0m\u001b[0;34m(\u001b[0m\u001b[0mfunc_square\u001b[0m\u001b[0;34m(\u001b[0m\u001b[0mnum_list\u001b[0m\u001b[0;34m)\u001b[0m\u001b[0;34m)\u001b[0m\u001b[0;34m)\u001b[0m\u001b[0;34m\u001b[0m\u001b[0;34m\u001b[0m\u001b[0m\n\u001b[0m",
            "\u001b[0;32m<ipython-input-154-075325a67753>\u001b[0m in \u001b[0;36mfunc_sum\u001b[0;34m(l)\u001b[0m\n\u001b[1;32m      1\u001b[0m \u001b[0;32mdef\u001b[0m \u001b[0mfunc_sum\u001b[0m\u001b[0;34m(\u001b[0m\u001b[0ml\u001b[0m\u001b[0;34m)\u001b[0m\u001b[0;34m:\u001b[0m\u001b[0;34m\u001b[0m\u001b[0;34m\u001b[0m\u001b[0m\n\u001b[0;32m----> 2\u001b[0;31m   \u001b[0;32myield\u001b[0m \u001b[0msum\u001b[0m\u001b[0;34m(\u001b[0m\u001b[0mi\u001b[0m \u001b[0;32mfor\u001b[0m \u001b[0mi\u001b[0m \u001b[0;32min\u001b[0m \u001b[0ml\u001b[0m\u001b[0;34m)\u001b[0m\u001b[0;34m\u001b[0m\u001b[0;34m\u001b[0m\u001b[0m\n\u001b[0m\u001b[1;32m      3\u001b[0m \u001b[0;34m\u001b[0m\u001b[0m\n\u001b[1;32m      4\u001b[0m \u001b[0;32mdef\u001b[0m \u001b[0mfunc_min\u001b[0m\u001b[0;34m(\u001b[0m\u001b[0ml\u001b[0m\u001b[0;34m)\u001b[0m\u001b[0;34m:\u001b[0m\u001b[0;34m\u001b[0m\u001b[0;34m\u001b[0m\u001b[0m\n\u001b[1;32m      5\u001b[0m   \u001b[0;32myield\u001b[0m \u001b[0mmin\u001b[0m\u001b[0;34m(\u001b[0m\u001b[0mi\u001b[0m \u001b[0;32mfor\u001b[0m \u001b[0mi\u001b[0m \u001b[0;32min\u001b[0m \u001b[0ml\u001b[0m\u001b[0;34m)\u001b[0m\u001b[0;34m\u001b[0m\u001b[0;34m\u001b[0m\u001b[0m\n",
            "\u001b[0;31mTypeError\u001b[0m: unsupported operand type(s) for +: 'int' and 'generator'"
          ]
        }
      ]
    },
    {
      "cell_type": "markdown",
      "source": [
        "### CLOSURES"
      ],
      "metadata": {
        "id": "xRm96CKceJ4K"
      }
    },
    {
      "cell_type": "code",
      "source": [
        "def outer_func(arg):\n",
        "  var3=5\n",
        "  def inner_func():\n",
        "    var1= arg*5 + var3\n",
        "    #print(var1)\n",
        "    return var1\n",
        "  return inner_func"
      ],
      "metadata": {
        "id": "zS79jX3JXNd6"
      },
      "execution_count": 146,
      "outputs": []
    },
    {
      "cell_type": "code",
      "source": [
        "func_ret = outer_func(10)\n",
        "func_ret()"
      ],
      "metadata": {
        "colab": {
          "base_uri": "https://localhost:8080/"
        },
        "id": "OVtKM7oXT_QT",
        "outputId": "928cc299-0d6a-482f-a9a9-14fbed49f1f2"
      },
      "execution_count": 147,
      "outputs": [
        {
          "output_type": "execute_result",
          "data": {
            "text/plain": [
              "55"
            ]
          },
          "metadata": {},
          "execution_count": 147
        }
      ]
    },
    {
      "cell_type": "markdown",
      "source": [
        "### DECORATORS"
      ],
      "metadata": {
        "id": "hYBSCFtheMm4"
      }
    },
    {
      "cell_type": "code",
      "source": [
        "def func1(i):\n",
        "  return (i**2)\n",
        "\n",
        "def func2(i):\n",
        "  return (i**3)\n",
        "\n",
        "def func3(f,n):\n",
        "  return f(n)\n",
        "\n",
        "func3(func1,10)"
      ],
      "metadata": {
        "colab": {
          "base_uri": "https://localhost:8080/"
        },
        "id": "3h3oxhOQeONl",
        "outputId": "61130aad-49e2-487f-bf55-259b8b038e0f"
      },
      "execution_count": 164,
      "outputs": [
        {
          "output_type": "execute_result",
          "data": {
            "text/plain": [
              "100"
            ]
          },
          "metadata": {},
          "execution_count": 164
        }
      ]
    },
    {
      "cell_type": "code",
      "source": [
        "func3(func2,5)"
      ],
      "metadata": {
        "colab": {
          "base_uri": "https://localhost:8080/"
        },
        "id": "5VhwangFh1gw",
        "outputId": "b1ad68fb-27f7-4420-b72d-606c6c3b3bcd"
      },
      "execution_count": 165,
      "outputs": [
        {
          "output_type": "execute_result",
          "data": {
            "text/plain": [
              "125"
            ]
          },
          "metadata": {},
          "execution_count": 165
        }
      ]
    },
    {
      "cell_type": "code",
      "source": [
        "\n",
        "def decorating_func(f):\n",
        "  def nested_func_1(a,b):\n",
        "    print(\"VALIDATION 1 - DIVIDE BY ZERO CHECK\",a,b)\n",
        "    if b==0:\n",
        "      print('DIVIDE BY ZERO CHECK - FAILS - CANNOT DIVIDE')\n",
        "      return\n",
        "    else:\n",
        "      print(\"DIVIDE BY ZERO CHECK PASSED\",a,b)\n",
        "      return nested_func_2(a,b)\n",
        "\n",
        "  def nested_func_2(a,b):\n",
        "    print(\"VALIDATION 2 - NEGATIVE VALUE CHECK\",a,b)\n",
        "    if a>0 and b>0:\n",
        "      print(\"NEGATIVE VALUE CHECK PASSED\",a,b)\n",
        "    else:\n",
        "      print(\"NEGATIVE VALUE CHECK FAILS\",a,b)\n",
        "      return\n",
        "    return f(a,b)\n",
        "\n",
        "  return nested_func_1\n",
        "\n",
        "@decorating_func\n",
        "def ordinary_func(a,b):\n",
        "  print(\"Inside ordinary function\")\n",
        "  return a/b\n",
        "\n",
        "ordinary_func(64,8)"
      ],
      "metadata": {
        "colab": {
          "base_uri": "https://localhost:8080/"
        },
        "id": "9Kk6S3mRkgdX",
        "outputId": "a4485aaf-0522-497a-db4b-71df2c74ba5a"
      },
      "execution_count": 190,
      "outputs": [
        {
          "output_type": "stream",
          "name": "stdout",
          "text": [
            "VALIDATION 1 - DIVIDE BY ZERO CHECK 64 8\n",
            "DIVIDE BY ZERO CHECK PASSED 64 8\n",
            "VALIDATION 2 - NEGATIVE VALUE CHECK 64 8\n",
            "NEGATIVE VALUE CHECK PASSED 64 8\n",
            "Inside ordinary function\n"
          ]
        },
        {
          "output_type": "execute_result",
          "data": {
            "text/plain": [
              "8.0"
            ]
          },
          "metadata": {},
          "execution_count": 190
        }
      ]
    }
  ]
}