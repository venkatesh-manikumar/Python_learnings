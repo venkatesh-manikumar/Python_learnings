{
  "nbformat": 4,
  "nbformat_minor": 0,
  "metadata": {
    "colab": {
      "name": "NumPy_learnings_day_1.ipynb",
      "provenance": [],
      "authorship_tag": "ABX9TyPKcOp51L0XUaITKxsJIvar",
      "include_colab_link": true
    },
    "kernelspec": {
      "name": "python3",
      "display_name": "Python 3"
    },
    "language_info": {
      "name": "python"
    }
  },
  "cells": [
    {
      "cell_type": "markdown",
      "metadata": {
        "id": "view-in-github",
        "colab_type": "text"
      },
      "source": [
        "<a href=\"https://colab.research.google.com/github/venkatesh-manikumar/Python_learnings/blob/main/NumPy_learnings_day_1.ipynb\" target=\"_parent\"><img src=\"https://colab.research.google.com/assets/colab-badge.svg\" alt=\"Open In Colab\"/></a>"
      ]
    },
    {
      "cell_type": "code",
      "execution_count": null,
      "metadata": {
        "id": "4Pv-JmbH504b",
        "colab": {
          "base_uri": "https://localhost:8080/",
          "height": 35
        },
        "outputId": "9f6d646a-f419-48fc-dc1b-67c89c326b4e"
      },
      "outputs": [
        {
          "output_type": "execute_result",
          "data": {
            "application/vnd.google.colaboratory.intrinsic+json": {
              "type": "string"
            },
            "text/plain": [
              "'1.21.5'"
            ]
          },
          "metadata": {},
          "execution_count": 3
        }
      ],
      "source": [
        "import numpy as np\n",
        "np.__version__"
      ]
    },
    {
      "cell_type": "markdown",
      "source": [
        "### One Dimensional array"
      ],
      "metadata": {
        "id": "pLD1bePpDuqk"
      }
    },
    {
      "cell_type": "code",
      "source": [
        "array_1 = np.array([1,2,3,4,5])\n",
        "array_1"
      ],
      "metadata": {
        "colab": {
          "base_uri": "https://localhost:8080/"
        },
        "id": "6poYCtebDz6i",
        "outputId": "44e0181b-500b-4a19-f7bf-88644ea3ee8a"
      },
      "execution_count": null,
      "outputs": [
        {
          "output_type": "execute_result",
          "data": {
            "text/plain": [
              "array([1, 2, 3, 4, 5])"
            ]
          },
          "metadata": {},
          "execution_count": 4
        }
      ]
    },
    {
      "cell_type": "code",
      "source": [
        "array_1.shape"
      ],
      "metadata": {
        "colab": {
          "base_uri": "https://localhost:8080/"
        },
        "id": "UYS7b8gSEELO",
        "outputId": "016467f0-2753-4305-915b-beab1f6622fa"
      },
      "execution_count": null,
      "outputs": [
        {
          "output_type": "execute_result",
          "data": {
            "text/plain": [
              "(5,)"
            ]
          },
          "metadata": {},
          "execution_count": 5
        }
      ]
    },
    {
      "cell_type": "code",
      "source": [
        "array_1.ndim"
      ],
      "metadata": {
        "colab": {
          "base_uri": "https://localhost:8080/"
        },
        "id": "YJqCP7SbEK5B",
        "outputId": "5175001d-d58e-432c-dddd-558bd779cc5a"
      },
      "execution_count": null,
      "outputs": [
        {
          "output_type": "execute_result",
          "data": {
            "text/plain": [
              "1"
            ]
          },
          "metadata": {},
          "execution_count": 6
        }
      ]
    },
    {
      "cell_type": "markdown",
      "source": [
        "### Two Dimensional array"
      ],
      "metadata": {
        "id": "wh86zAirD0-I"
      }
    },
    {
      "cell_type": "code",
      "source": [
        "array = np.array([  [1,2,3,4,5],\n",
        "                    [10,20,30,40,50]  ])\n",
        "array"
      ],
      "metadata": {
        "colab": {
          "base_uri": "https://localhost:8080/"
        },
        "id": "UCsF0wQ7CjfD",
        "outputId": "a4230b7a-f979-409c-eff1-7e9b77c4accd"
      },
      "execution_count": null,
      "outputs": [
        {
          "output_type": "execute_result",
          "data": {
            "text/plain": [
              "array([[ 1,  2,  3,  4,  5],\n",
              "       [10, 20, 30, 40, 50]])"
            ]
          },
          "metadata": {},
          "execution_count": 7
        }
      ]
    },
    {
      "cell_type": "code",
      "source": [
        "array.shape"
      ],
      "metadata": {
        "colab": {
          "base_uri": "https://localhost:8080/"
        },
        "id": "AGtN0K7mCuxs",
        "outputId": "a772e384-1ad6-4dfd-b768-69c0738b16a7"
      },
      "execution_count": null,
      "outputs": [
        {
          "output_type": "execute_result",
          "data": {
            "text/plain": [
              "(2, 5)"
            ]
          },
          "metadata": {},
          "execution_count": 8
        }
      ]
    },
    {
      "cell_type": "code",
      "source": [
        "array.ndim"
      ],
      "metadata": {
        "colab": {
          "base_uri": "https://localhost:8080/"
        },
        "id": "OjO71CY4DHi7",
        "outputId": "0b4c8419-37c8-4db7-b9f8-3d915a44a45c"
      },
      "execution_count": null,
      "outputs": [
        {
          "output_type": "execute_result",
          "data": {
            "text/plain": [
              "2"
            ]
          },
          "metadata": {},
          "execution_count": 9
        }
      ]
    },
    {
      "cell_type": "code",
      "source": [
        "print(\"array[0][0] =>\",array[0][0])\n",
        "print(\"array[0][0] =>\",array[0][1])\n",
        "print(\"array[0][0] =>\",array[0][2])"
      ],
      "metadata": {
        "colab": {
          "base_uri": "https://localhost:8080/"
        },
        "id": "KtV5WTB0DUXF",
        "outputId": "f8e6f3af-ef75-4440-9b63-76289edba02d"
      },
      "execution_count": null,
      "outputs": [
        {
          "output_type": "stream",
          "name": "stdout",
          "text": [
            "array[0][0] => 1\n",
            "array[0][0] => 2\n",
            "array[0][0] => 3\n"
          ]
        }
      ]
    },
    {
      "cell_type": "markdown",
      "source": [
        "### Usage of dtype"
      ],
      "metadata": {
        "id": "eVX58SJNGK-d"
      }
    },
    {
      "cell_type": "code",
      "source": [
        "array_float = np.array([  [1 , 2, 3, 4, 5],\n",
        "                          [10,20,30,40,50]  ], dtype = int)\n",
        "\n",
        "array_float"
      ],
      "metadata": {
        "colab": {
          "base_uri": "https://localhost:8080/"
        },
        "id": "5fjC0yY5EfZI",
        "outputId": "50a48d58-acb9-4684-8fc6-3b165e1a579f"
      },
      "execution_count": null,
      "outputs": [
        {
          "output_type": "execute_result",
          "data": {
            "text/plain": [
              "array([[ 1,  2,  3,  4,  5],\n",
              "       [10, 20, 30, 40, 50]])"
            ]
          },
          "metadata": {},
          "execution_count": 17
        }
      ]
    },
    {
      "cell_type": "code",
      "source": [
        "reshaped_array = array_float.reshape(5,2)\n",
        "reshaped_array"
      ],
      "metadata": {
        "colab": {
          "base_uri": "https://localhost:8080/"
        },
        "id": "1qGBAVeEFKuo",
        "outputId": "ba53e846-17e3-4c99-d1a2-02a22be358a9"
      },
      "execution_count": null,
      "outputs": [
        {
          "output_type": "execute_result",
          "data": {
            "text/plain": [
              "array([[ 1,  2],\n",
              "       [ 3,  4],\n",
              "       [ 5, 10],\n",
              "       [20, 30],\n",
              "       [40, 50]])"
            ]
          },
          "metadata": {},
          "execution_count": 19
        }
      ]
    },
    {
      "cell_type": "markdown",
      "source": [
        "### Arrays are expected to be in same rows and cols to perform operation , it is not matrix multiplication"
      ],
      "metadata": {
        "id": "3rC1ylOoFh2n"
      }
    },
    {
      "cell_type": "code",
      "source": [
        "array_float * array_float"
      ],
      "metadata": {
        "colab": {
          "base_uri": "https://localhost:8080/"
        },
        "id": "AL4IA6UdG-60",
        "outputId": "8ef2dbfa-f407-4273-bfcc-6f34cc314858"
      },
      "execution_count": null,
      "outputs": [
        {
          "output_type": "execute_result",
          "data": {
            "text/plain": [
              "array([[   1,    4,    9,   16,   25],\n",
              "       [ 100,  400,  900, 1600, 2500]])"
            ]
          },
          "metadata": {},
          "execution_count": 20
        }
      ]
    },
    {
      "cell_type": "markdown",
      "source": [
        "### Creating array of zeros and ones"
      ],
      "metadata": {
        "id": "V2nbs6C0FwiV"
      }
    },
    {
      "cell_type": "code",
      "source": [
        "np.zeros([3,3],dtype=int)\n",
        "np.ones([3,3],dtype=int)"
      ],
      "metadata": {
        "colab": {
          "base_uri": "https://localhost:8080/"
        },
        "id": "WAZCEfzUG4Yc",
        "outputId": "5fb31d89-99a0-4953-bb95-fbbb510d0949"
      },
      "execution_count": null,
      "outputs": [
        {
          "output_type": "execute_result",
          "data": {
            "text/plain": [
              "array([[1, 1, 1],\n",
              "       [1, 1, 1],\n",
              "       [1, 1, 1]])"
            ]
          },
          "metadata": {},
          "execution_count": 21
        }
      ]
    },
    {
      "cell_type": "markdown",
      "source": [
        "### Creating array from existing data asarray()"
      ],
      "metadata": {
        "id": "XBSHl46GL22P"
      }
    },
    {
      "cell_type": "code",
      "source": [
        "x1 = ([0,0],[1,1],[2,2])\n",
        "a1 = np.asarray(x1,dtype = int) # asarray()\n",
        "type(a1)"
      ],
      "metadata": {
        "colab": {
          "base_uri": "https://localhost:8080/"
        },
        "id": "ScEppYjfLG2F",
        "outputId": "0f7d1331-8e93-4548-d71f-c30d1c280ba4"
      },
      "execution_count": null,
      "outputs": [
        {
          "output_type": "execute_result",
          "data": {
            "text/plain": [
              "numpy.ndarray"
            ]
          },
          "metadata": {},
          "execution_count": 23
        }
      ]
    },
    {
      "cell_type": "code",
      "source": [
        "a2 = np.array(x1,dtype = int) # array()\n",
        "type(a2)"
      ],
      "metadata": {
        "colab": {
          "base_uri": "https://localhost:8080/"
        },
        "id": "05zBfxTWLleh",
        "outputId": "fe291040-d33a-4140-8b89-2038c4ffaadf"
      },
      "execution_count": null,
      "outputs": [
        {
          "output_type": "execute_result",
          "data": {
            "text/plain": [
              "numpy.ndarray"
            ]
          },
          "metadata": {},
          "execution_count": 24
        }
      ]
    },
    {
      "cell_type": "markdown",
      "source": [
        "### Array from numerical ranges \n",
        "np.arange(start ,stop,step)"
      ],
      "metadata": {
        "id": "wcb_mQjML8M2"
      }
    },
    {
      "cell_type": "code",
      "source": [
        "np.arange(0,20,3)"
      ],
      "metadata": {
        "colab": {
          "base_uri": "https://localhost:8080/"
        },
        "id": "FAYOHCN4L0b9",
        "outputId": "6fa2c8d4-ec6c-4cfe-ebb5-63d88332045b"
      },
      "execution_count": null,
      "outputs": [
        {
          "output_type": "execute_result",
          "data": {
            "text/plain": [
              "array([ 0,  3,  6,  9, 12, 15, 18])"
            ]
          },
          "metadata": {},
          "execution_count": 25
        }
      ]
    },
    {
      "cell_type": "code",
      "source": [
        "np.linspace(1,10,4) # Eqaually dividing range by 3rd argument"
      ],
      "metadata": {
        "colab": {
          "base_uri": "https://localhost:8080/"
        },
        "id": "6jJNnve9MTzB",
        "outputId": "65bcfb10-eda5-49e9-ddba-11b241b9daf4"
      },
      "execution_count": null,
      "outputs": [
        {
          "output_type": "execute_result",
          "data": {
            "text/plain": [
              "array([ 1.,  4.,  7., 10.])"
            ]
          },
          "metadata": {},
          "execution_count": 60
        }
      ]
    },
    {
      "cell_type": "code",
      "source": [
        "a = np.linspace(1,10,4,retstep=True,dtype=float)\n",
        "print(a)\n",
        "print('STEP SIZE =>',a[1])"
      ],
      "metadata": {
        "colab": {
          "base_uri": "https://localhost:8080/"
        },
        "id": "p8muPqcJGJ9e",
        "outputId": "1ca4aa77-1ffe-46a1-e84b-b4d37a51c932"
      },
      "execution_count": null,
      "outputs": [
        {
          "output_type": "stream",
          "name": "stdout",
          "text": [
            "(array([ 1.,  4.,  7., 10.]), 3.0)\n",
            "STEP SIZE => 3.0\n"
          ]
        }
      ]
    },
    {
      "cell_type": "markdown",
      "source": [
        "#### Slicing"
      ],
      "metadata": {
        "id": "QgBpj60eMumx"
      }
    },
    {
      "cell_type": "code",
      "source": [
        "list1= np.arange(10)\n",
        "res = slice(2,9,2)\n",
        "type(res)"
      ],
      "metadata": {
        "colab": {
          "base_uri": "https://localhost:8080/"
        },
        "id": "3WotqXQkMwbs",
        "outputId": "4023e5d0-8a94-4cc4-f57e-ce8e00c336a8"
      },
      "execution_count": null,
      "outputs": [
        {
          "output_type": "execute_result",
          "data": {
            "text/plain": [
              "slice"
            ]
          },
          "metadata": {},
          "execution_count": 35
        }
      ]
    },
    {
      "cell_type": "code",
      "source": [
        "list1\n"
      ],
      "metadata": {
        "colab": {
          "base_uri": "https://localhost:8080/"
        },
        "id": "PoAKJclWN2ik",
        "outputId": "ca254ff7-a614-4eb6-a045-52638c228981"
      },
      "execution_count": null,
      "outputs": [
        {
          "output_type": "execute_result",
          "data": {
            "text/plain": [
              "array([0, 1, 2, 3, 4, 5, 6, 7, 8, 9])"
            ]
          },
          "metadata": {},
          "execution_count": 36
        }
      ]
    },
    {
      "cell_type": "code",
      "source": [
        "list1[res]"
      ],
      "metadata": {
        "colab": {
          "base_uri": "https://localhost:8080/"
        },
        "id": "9JsdmhoCNxl3",
        "outputId": "24e71caf-19d5-479d-ee00-990af160ec75"
      },
      "execution_count": null,
      "outputs": [
        {
          "output_type": "execute_result",
          "data": {
            "text/plain": [
              "array([2, 4, 6, 8])"
            ]
          },
          "metadata": {},
          "execution_count": 32
        }
      ]
    },
    {
      "cell_type": "code",
      "source": [
        "list1[2:9:2] # Similar funcionality like Slicing"
      ],
      "metadata": {
        "colab": {
          "base_uri": "https://localhost:8080/"
        },
        "id": "OBJgDmGoOB7L",
        "outputId": "729b955c-bc96-4ace-abdd-d156044bd074"
      },
      "execution_count": null,
      "outputs": [
        {
          "output_type": "execute_result",
          "data": {
            "text/plain": [
              "array([2, 4, 6, 8])"
            ]
          },
          "metadata": {},
          "execution_count": 33
        }
      ]
    },
    {
      "cell_type": "code",
      "source": [
        "array7 = np.array([ [ [1,2,3,4,5],\n",
        "                      [4,5,6,7,8] ] ,\n",
        "                   \n",
        "                    [ [1,3,5,7,9],\n",
        "                      [4,4,4,4,5] ]  ,\n",
        "                   \n",
        "                    [ [1,3,5,7,9],\n",
        "                      [4,4,4,4,5] ]    ]  )\n",
        "print(array7.shape) # 3 - 2D array\n",
        "print(array7.ndim)\n",
        "print(array7)\n",
        "print(array7[0])\n",
        "print(array7[0][0])\n",
        "len(array7[0][0])\n",
        "print(array7[0][1])\n"
      ],
      "metadata": {
        "colab": {
          "base_uri": "https://localhost:8080/"
        },
        "id": "n75MY8rkPWPJ",
        "outputId": "259e957e-1e39-48c7-f7cf-13d999bfe87f"
      },
      "execution_count": null,
      "outputs": [
        {
          "output_type": "stream",
          "name": "stdout",
          "text": [
            "(3, 2, 5)\n",
            "3\n",
            "[[[1 2 3 4 5]\n",
            "  [4 5 6 7 8]]\n",
            "\n",
            " [[1 3 5 7 9]\n",
            "  [4 4 4 4 5]]\n",
            "\n",
            " [[1 3 5 7 9]\n",
            "  [4 4 4 4 5]]]\n",
            "[[1 2 3 4 5]\n",
            " [4 5 6 7 8]]\n",
            "[1 2 3 4 5]\n",
            "[4 5 6 7 8]\n"
          ]
        }
      ]
    },
    {
      "cell_type": "markdown",
      "source": [
        "### Integer Indexing"
      ],
      "metadata": {
        "id": "7q5OfpTbZmYq"
      }
    },
    {
      "cell_type": "code",
      "source": [
        "a = np.array([ [1,2] ,\n",
        "               [3,4] , \n",
        "               [5,6]])\n",
        "b = a [ [0,1,2] , [0,0,0] ] # a [  [rows],[cols]  ]\n",
        "\n",
        "# a[0][0] = 1\n",
        "# a[1][0] = 3\n",
        "# a[2][0] = 5"
      ],
      "metadata": {
        "id": "2IaoF-_iZpF4"
      },
      "execution_count": null,
      "outputs": []
    },
    {
      "cell_type": "code",
      "source": [
        "a"
      ],
      "metadata": {
        "colab": {
          "base_uri": "https://localhost:8080/"
        },
        "id": "jfc8QJRzabZa",
        "outputId": "8a570dde-8d41-4a45-8940-b49ea5ba1dd8"
      },
      "execution_count": null,
      "outputs": [
        {
          "output_type": "execute_result",
          "data": {
            "text/plain": [
              "array([[1, 2],\n",
              "       [3, 4],\n",
              "       [5, 6]])"
            ]
          },
          "metadata": {},
          "execution_count": 44
        }
      ]
    },
    {
      "cell_type": "code",
      "source": [
        "b"
      ],
      "metadata": {
        "colab": {
          "base_uri": "https://localhost:8080/"
        },
        "id": "GfSCavxIafsU",
        "outputId": "2da47ac7-7187-46d3-e4fa-9b6dcf5749f9"
      },
      "execution_count": null,
      "outputs": [
        {
          "output_type": "execute_result",
          "data": {
            "text/plain": [
              "array([1, 3, 5])"
            ]
          },
          "metadata": {},
          "execution_count": 46
        }
      ]
    },
    {
      "cell_type": "code",
      "source": [
        "b = a [ [0,1] , [0,1] ] # hardcode rows + hardcode cols\n",
        "b"
      ],
      "metadata": {
        "colab": {
          "base_uri": "https://localhost:8080/"
        },
        "id": "gba4cDpGbPgJ",
        "outputId": "33161dd6-4e07-48de-8ec7-2b74acdd4e19"
      },
      "execution_count": null,
      "outputs": [
        {
          "output_type": "execute_result",
          "data": {
            "text/plain": [
              "array([1, 4])"
            ]
          },
          "metadata": {},
          "execution_count": 47
        }
      ]
    },
    {
      "cell_type": "code",
      "source": [
        "data = np.array( [ [0,1,2],[3,4,5],[6,7,8],[9,10,11]])\n",
        "data.shape\n",
        "data.ndim\n",
        "\n",
        "data[ 1:4,1:3] # slice + slice"
      ],
      "metadata": {
        "colab": {
          "base_uri": "https://localhost:8080/"
        },
        "id": "iAz_dOCabaVM",
        "outputId": "dccc78c1-7833-453d-cd37-58fe6c1498b6"
      },
      "execution_count": null,
      "outputs": [
        {
          "output_type": "execute_result",
          "data": {
            "text/plain": [
              "array([[ 4,  5],\n",
              "       [ 7,  8],\n",
              "       [10, 11]])"
            ]
          },
          "metadata": {},
          "execution_count": 48
        }
      ]
    },
    {
      "cell_type": "code",
      "source": [
        "data[1:4 , [1,2]] # slice + hardcode cols"
      ],
      "metadata": {
        "colab": {
          "base_uri": "https://localhost:8080/"
        },
        "id": "N58LbNDUd47m",
        "outputId": "30082b05-f364-4aa2-9549-748e4738bd57"
      },
      "execution_count": null,
      "outputs": [
        {
          "output_type": "execute_result",
          "data": {
            "text/plain": [
              "array([[ 4,  5],\n",
              "       [ 7,  8],\n",
              "       [10, 11]])"
            ]
          },
          "metadata": {},
          "execution_count": 49
        }
      ]
    },
    {
      "cell_type": "code",
      "source": [
        "data[~np.isnan(data)] # result will be flattened , if np.nan() is applied"
      ],
      "metadata": {
        "colab": {
          "base_uri": "https://localhost:8080/"
        },
        "id": "un-rzJIkkJKG",
        "outputId": "6c0931af-de54-43b7-9152-8c26996bc131"
      },
      "execution_count": null,
      "outputs": [
        {
          "output_type": "execute_result",
          "data": {
            "text/plain": [
              "array([ 0,  1,  2,  3,  4,  5,  6,  7,  8,  9, 10, 11])"
            ]
          },
          "metadata": {},
          "execution_count": 50
        }
      ]
    },
    {
      "cell_type": "markdown",
      "source": [
        "## NUMPY Operations"
      ],
      "metadata": {
        "id": "phu7kXHgE9O1"
      }
    },
    {
      "cell_type": "code",
      "source": [
        "x =  np.array ( [[0,1,2] , [3,4,5] , [6,7,8]] )\n",
        "y =  np.array ( [[0,1,2] , [3,4,5] , [6,7,8]] )\n",
        "\n",
        "x+y"
      ],
      "metadata": {
        "colab": {
          "base_uri": "https://localhost:8080/"
        },
        "id": "g8jd3dYJE-o4",
        "outputId": "96d60f59-2953-4f58-c0f1-bd6ba09d42b8"
      },
      "execution_count": null,
      "outputs": [
        {
          "output_type": "execute_result",
          "data": {
            "text/plain": [
              "array([[ 0,  2,  4],\n",
              "       [ 6,  8, 10],\n",
              "       [12, 14, 16]])"
            ]
          },
          "metadata": {},
          "execution_count": 51
        }
      ]
    },
    {
      "cell_type": "markdown",
      "source": [
        "## Broadcasting \n",
        "\n",
        "scalar y=5 is added with Numpy array x"
      ],
      "metadata": {
        "id": "Nf7fTMgpFv3V"
      }
    },
    {
      "cell_type": "code",
      "source": [
        "x =  np.array ( [[0,1,2] , [3,4,5] , [6,7,8]] )\n",
        "y=5\n",
        "\n",
        "x + y"
      ],
      "metadata": {
        "colab": {
          "base_uri": "https://localhost:8080/"
        },
        "id": "hKcRmXW8FqAs",
        "outputId": "101ed80c-f247-440b-d3d2-5a09339c65ee"
      },
      "execution_count": null,
      "outputs": [
        {
          "output_type": "execute_result",
          "data": {
            "text/plain": [
              "array([[ 5,  6,  7],\n",
              "       [ 8,  9, 10],\n",
              "       [11, 12, 13]])"
            ]
          },
          "metadata": {},
          "execution_count": 52
        }
      ]
    },
    {
      "cell_type": "code",
      "source": [
        "x * y"
      ],
      "metadata": {
        "colab": {
          "base_uri": "https://localhost:8080/"
        },
        "id": "SqjpGWMYGHqS",
        "outputId": "c49218af-cc48-47c0-fa99-e3cfcb7709ea"
      },
      "execution_count": null,
      "outputs": [
        {
          "output_type": "execute_result",
          "data": {
            "text/plain": [
              "array([[ 0,  5, 10],\n",
              "       [15, 20, 25],\n",
              "       [30, 35, 40]])"
            ]
          },
          "metadata": {},
          "execution_count": 53
        }
      ]
    },
    {
      "cell_type": "code",
      "source": [
        "x - y "
      ],
      "metadata": {
        "colab": {
          "base_uri": "https://localhost:8080/"
        },
        "id": "-H5Sl_x1GMjf",
        "outputId": "ad34d256-6426-4797-8e15-b6887fd61f9c"
      },
      "execution_count": null,
      "outputs": [
        {
          "output_type": "execute_result",
          "data": {
            "text/plain": [
              "array([[-5, -4, -3],\n",
              "       [-2, -1,  0],\n",
              "       [ 1,  2,  3]])"
            ]
          },
          "metadata": {},
          "execution_count": 54
        }
      ]
    },
    {
      "cell_type": "code",
      "source": [
        "a = np.array ( [[10,1,2] , [3,4,5] , [6,7,np.NAN]] )\n",
        "b = np.array ( [[10,1,2] , [3,4,5] , [6,7,8]] )\n",
        "\n",
        "a + b \n",
        "a - b\n",
        "a * b\n",
        "a / b\n",
        "a % b\n",
        "\n",
        "#a[np.nan_to_num]\n",
        "\n"
      ],
      "metadata": {
        "colab": {
          "base_uri": "https://localhost:8080/"
        },
        "id": "VBt3ha3jHze3",
        "outputId": "64740695-b079-4f74-bc0e-5fc6862cc82e"
      },
      "execution_count": null,
      "outputs": [
        {
          "output_type": "stream",
          "name": "stderr",
          "text": [
            "/usr/local/lib/python3.7/dist-packages/ipykernel_launcher.py:8: RuntimeWarning: invalid value encountered in remainder\n",
            "  \n"
          ]
        },
        {
          "output_type": "execute_result",
          "data": {
            "text/plain": [
              "array([[ 0.,  0.,  0.],\n",
              "       [ 0.,  0.,  0.],\n",
              "       [ 0.,  0., nan]])"
            ]
          },
          "metadata": {},
          "execution_count": 55
        }
      ]
    },
    {
      "cell_type": "markdown",
      "source": [
        "## Filtering NAN"
      ],
      "metadata": {
        "id": "yPUP36aVLtV9"
      }
    },
    {
      "cell_type": "code",
      "source": [
        "a[~np.isnan(a)] # flattens the array\n",
        "\n",
        "np.nan_to_num(a,nan = 0) # Does not Flatten , repalce NAN with "
      ],
      "metadata": {
        "colab": {
          "base_uri": "https://localhost:8080/"
        },
        "id": "Y7rH___FLxPw",
        "outputId": "ac464b2f-7845-4126-c88a-2890965f9a87"
      },
      "execution_count": null,
      "outputs": [
        {
          "output_type": "execute_result",
          "data": {
            "text/plain": [
              "array([[10.,  1.,  2.],\n",
              "       [ 3.,  4.,  5.],\n",
              "       [ 6.,  7.,  0.]])"
            ]
          },
          "metadata": {},
          "execution_count": 59
        }
      ]
    },
    {
      "cell_type": "markdown",
      "source": [
        "## Transpose "
      ],
      "metadata": {
        "id": "2wxo5yUlJpC6"
      }
    },
    {
      "cell_type": "code",
      "source": [
        "a.T"
      ],
      "metadata": {
        "colab": {
          "base_uri": "https://localhost:8080/"
        },
        "id": "y1sTuhbzJfDY",
        "outputId": "8251b33b-fd22-48bb-de78-0051275b8b71"
      },
      "execution_count": null,
      "outputs": [
        {
          "output_type": "execute_result",
          "data": {
            "text/plain": [
              "array([[10.,  3.,  6.],\n",
              "       [ 1.,  4.,  7.],\n",
              "       [ 2.,  5., nan]])"
            ]
          },
          "metadata": {},
          "execution_count": 61
        }
      ]
    },
    {
      "cell_type": "markdown",
      "source": [
        "## Flatten\n",
        " Converts 2D to 1D"
      ],
      "metadata": {
        "id": "kf76jN1XJ10V"
      }
    },
    {
      "cell_type": "code",
      "source": [
        "a.flatten()"
      ],
      "metadata": {
        "colab": {
          "base_uri": "https://localhost:8080/"
        },
        "id": "KLn2IcUhJ3L5",
        "outputId": "5a2f9ca3-238c-4205-8806-b89928c02bfa"
      },
      "execution_count": null,
      "outputs": [
        {
          "output_type": "execute_result",
          "data": {
            "text/plain": [
              "array([10.,  1.,  2.,  3.,  4.,  5.,  6.,  7., nan])"
            ]
          },
          "metadata": {},
          "execution_count": 62
        }
      ]
    },
    {
      "cell_type": "markdown",
      "source": [
        "## Concatenate"
      ],
      "metadata": {
        "id": "3DO-TlcLJ_7m"
      }
    },
    {
      "cell_type": "code",
      "source": [
        "np.concatenate((a,b),axis=0)"
      ],
      "metadata": {
        "colab": {
          "base_uri": "https://localhost:8080/"
        },
        "id": "ZEijKfMIKB5O",
        "outputId": "c43cb0cb-751d-4559-e13d-6226b2b33790"
      },
      "execution_count": null,
      "outputs": [
        {
          "output_type": "execute_result",
          "data": {
            "text/plain": [
              "array([[10.,  1.,  2.],\n",
              "       [ 3.,  4.,  5.],\n",
              "       [ 6.,  7., nan],\n",
              "       [10.,  1.,  2.],\n",
              "       [ 3.,  4.,  5.],\n",
              "       [ 6.,  7.,  8.]])"
            ]
          },
          "metadata": {},
          "execution_count": 63
        }
      ]
    },
    {
      "cell_type": "code",
      "source": [
        "np.concatenate((a,b),axis=1)"
      ],
      "metadata": {
        "colab": {
          "base_uri": "https://localhost:8080/"
        },
        "id": "S8BV-JsxUKSA",
        "outputId": "1ba80abb-0094-47da-c104-40ca968b0114"
      },
      "execution_count": null,
      "outputs": [
        {
          "output_type": "execute_result",
          "data": {
            "text/plain": [
              "array([[10,  1,  2, 10,  1,  2],\n",
              "       [ 3,  4,  5,  3,  4,  5],\n",
              "       [ 6,  7,  8,  6,  7,  8]])"
            ]
          },
          "metadata": {},
          "execution_count": 105
        }
      ]
    },
    {
      "cell_type": "markdown",
      "source": [
        "## Stack"
      ],
      "metadata": {
        "id": "vNVaBDujKkGF"
      }
    },
    {
      "cell_type": "code",
      "source": [
        "x =  np.array ([10,1,2])\n",
        "y =  np.array ([10,1,2])\n",
        "z =  np.array ([10,1,2])\n",
        "\n",
        "print(*x)\n",
        "print(*y)\n",
        "\n",
        "print(np.stack((x,y,z),axis =0))\n",
        "print(np.stack((x,y,z),axis =1))"
      ],
      "metadata": {
        "colab": {
          "base_uri": "https://localhost:8080/"
        },
        "id": "EsMCxN85KlT0",
        "outputId": "352dbf67-ba23-4e1a-892a-9394065aa91f"
      },
      "execution_count": null,
      "outputs": [
        {
          "output_type": "stream",
          "name": "stdout",
          "text": [
            "10 1 2\n",
            "10 1 2\n",
            "[[10  1  2]\n",
            " [10  1  2]\n",
            " [10  1  2]]\n",
            "[[10 10 10]\n",
            " [ 1  1  1]\n",
            " [ 2  2  2]]\n"
          ]
        }
      ]
    },
    {
      "cell_type": "code",
      "source": [
        "\n",
        "a = np.array ( [[10,1,2] , [3,4,5] , [6,7,8]] )\n",
        "b = np.array ( [[10,1,2] , [3,4,5] , [6,7,8]] )\n",
        "\n",
        "print(*a)\n",
        "print(*b)\n",
        "\n",
        "print(np.stack((a,b),axis =0))\n",
        "print(np.stack((a,b),axis =0).shape)\n",
        "print(np.stack((a,b),axis =1))"
      ],
      "metadata": {
        "colab": {
          "base_uri": "https://localhost:8080/"
        },
        "id": "EELhvaGTUTK_",
        "outputId": "9f7b6ea9-6694-4a40-fcd9-3cafff00cbdf"
      },
      "execution_count": null,
      "outputs": [
        {
          "output_type": "stream",
          "name": "stdout",
          "text": [
            "[10  1  2] [3 4 5] [6 7 8]\n",
            "[10  1  2] [3 4 5] [6 7 8]\n",
            "[[[10  1  2]\n",
            "  [ 3  4  5]\n",
            "  [ 6  7  8]]\n",
            "\n",
            " [[10  1  2]\n",
            "  [ 3  4  5]\n",
            "  [ 6  7  8]]]\n",
            "(2, 3, 3)\n",
            "[[[10  1  2]\n",
            "  [10  1  2]]\n",
            "\n",
            " [[ 3  4  5]\n",
            "  [ 3  4  5]]\n",
            "\n",
            " [[ 6  7  8]\n",
            "  [ 6  7  8]]]\n"
          ]
        }
      ]
    },
    {
      "cell_type": "code",
      "source": [
        "np.stack((a,b),axis =0)"
      ],
      "metadata": {
        "colab": {
          "base_uri": "https://localhost:8080/"
        },
        "id": "2zLk0kjtO0ga",
        "outputId": "44b6ddd8-a32f-4b47-a83a-558099367da8"
      },
      "execution_count": null,
      "outputs": [
        {
          "output_type": "execute_result",
          "data": {
            "text/plain": [
              "array([[[10,  1,  2],\n",
              "        [ 3,  4,  5],\n",
              "        [ 6,  7,  8]],\n",
              "\n",
              "       [[10,  1,  2],\n",
              "        [ 3,  4,  5],\n",
              "        [ 6,  7,  8]]])"
            ]
          },
          "metadata": {},
          "execution_count": 69
        }
      ]
    },
    {
      "cell_type": "code",
      "source": [
        "np.vstack((x,y))"
      ],
      "metadata": {
        "colab": {
          "base_uri": "https://localhost:8080/"
        },
        "id": "gEAfY9zaQPQj",
        "outputId": "597b4da8-0d78-43f0-c8fe-a9ba2d3801e7"
      },
      "execution_count": null,
      "outputs": [
        {
          "output_type": "execute_result",
          "data": {
            "text/plain": [
              "array([[10,  1,  2],\n",
              "       [10,  1,  2]])"
            ]
          },
          "metadata": {},
          "execution_count": 77
        }
      ]
    },
    {
      "cell_type": "code",
      "source": [
        "np.vstack((a,b))"
      ],
      "metadata": {
        "colab": {
          "base_uri": "https://localhost:8080/"
        },
        "id": "Hdi95fP3NCC_",
        "outputId": "76b572c7-b8cb-4ee2-d648-44f34c6a101c"
      },
      "execution_count": null,
      "outputs": [
        {
          "output_type": "execute_result",
          "data": {
            "text/plain": [
              "array([[10,  1,  2],\n",
              "       [ 3,  4,  5],\n",
              "       [ 6,  7,  8],\n",
              "       [10,  1,  2],\n",
              "       [ 3,  4,  5],\n",
              "       [ 6,  7,  8]])"
            ]
          },
          "metadata": {},
          "execution_count": 84
        }
      ]
    },
    {
      "cell_type": "code",
      "source": [
        "np.hstack((x,y)) # Flattens array"
      ],
      "metadata": {
        "colab": {
          "base_uri": "https://localhost:8080/"
        },
        "id": "u_EdjWb5QlYV",
        "outputId": "f1d77c12-9b45-4d8d-f8b1-2315e6f7ec95"
      },
      "execution_count": null,
      "outputs": [
        {
          "output_type": "execute_result",
          "data": {
            "text/plain": [
              "array([10,  1,  2, 10,  1,  2])"
            ]
          },
          "metadata": {},
          "execution_count": 78
        }
      ]
    },
    {
      "cell_type": "code",
      "source": [
        "np.hstack((a,b))"
      ],
      "metadata": {
        "colab": {
          "base_uri": "https://localhost:8080/"
        },
        "id": "WMyZHIcPMiy4",
        "outputId": "34a9d62c-2e99-4c1f-eae4-8c0db08505e2"
      },
      "execution_count": null,
      "outputs": [
        {
          "output_type": "execute_result",
          "data": {
            "text/plain": [
              "array([[10,  1,  2, 10,  1,  2],\n",
              "       [ 3,  4,  5,  3,  4,  5],\n",
              "       [ 6,  7,  8,  6,  7,  8]])"
            ]
          },
          "metadata": {},
          "execution_count": 82
        }
      ]
    },
    {
      "cell_type": "markdown",
      "source": [
        "### Split the array in to n parts , \n",
        "returns list(array)"
      ],
      "metadata": {
        "id": "kDRXvnsiNFZT"
      }
    },
    {
      "cell_type": "code",
      "source": [
        "m = np.arange(10)\n",
        "print(np.split(m,2))\n"
      ],
      "metadata": {
        "colab": {
          "base_uri": "https://localhost:8080/"
        },
        "id": "usfERNMQRMZs",
        "outputId": "f151b1c3-3054-4adb-d508-4a87133c106e"
      },
      "execution_count": null,
      "outputs": [
        {
          "output_type": "stream",
          "name": "stdout",
          "text": [
            "[array([0, 1, 2, 3, 4]), array([5, 6, 7, 8, 9])]\n"
          ]
        }
      ]
    },
    {
      "cell_type": "markdown",
      "source": [
        "## Difference between hstack() ,vstack() , append() ?\n",
        "hstack() == append(axis=1)"
      ],
      "metadata": {
        "id": "V49AMF0LL-Z-"
      }
    },
    {
      "cell_type": "code",
      "source": [
        "print(np.append(m, [1,2,3],axis =0))\n",
        "print(np.append(a , [[1,2,3],[4,5,6],[7,8,9]],axis =0))\n",
        "print(np.append(a , [[1,2,3],[4,5,6],[7,8,9]],axis =1))"
      ],
      "metadata": {
        "colab": {
          "base_uri": "https://localhost:8080/"
        },
        "id": "9CHvBToJRmiA",
        "outputId": "1b84beb7-c136-4c12-da2f-260893ede132"
      },
      "execution_count": null,
      "outputs": [
        {
          "output_type": "stream",
          "name": "stdout",
          "text": [
            "[0 1 2 3 4 5 6 7 8 9 1 2 3]\n",
            "[[10  1  2]\n",
            " [ 3  4  5]\n",
            " [ 6  7  8]\n",
            " [ 1  2  3]\n",
            " [ 4  5  6]\n",
            " [ 7  8  9]]\n",
            "[[10  1  2  1  2  3]\n",
            " [ 3  4  5  4  5  6]\n",
            " [ 6  7  8  7  8  9]]\n"
          ]
        }
      ]
    },
    {
      "cell_type": "markdown",
      "source": [
        "### Inserting data along axis=0 (rows) , axis=1 (cols)"
      ],
      "metadata": {
        "id": "16wMGzhxN3w2"
      }
    },
    {
      "cell_type": "code",
      "source": [
        "z = np.array([[10,1,2] , [3,4,5] , [6,7,8]])\n",
        "z"
      ],
      "metadata": {
        "colab": {
          "base_uri": "https://localhost:8080/"
        },
        "id": "6Gz4EZhhSIfy",
        "outputId": "b2ec8ac7-0214-4580-d325-ba0a96ad60c9"
      },
      "execution_count": null,
      "outputs": [
        {
          "output_type": "execute_result",
          "data": {
            "text/plain": [
              "array([[10,  1,  2],\n",
              "       [ 3,  4,  5],\n",
              "       [ 6,  7,  8]])"
            ]
          },
          "metadata": {},
          "execution_count": 86
        }
      ]
    },
    {
      "cell_type": "code",
      "source": [
        "np.insert(z,0,[22,22,22],axis=1)"
      ],
      "metadata": {
        "colab": {
          "base_uri": "https://localhost:8080/"
        },
        "id": "V4zG3qvAaqVW",
        "outputId": "457a3e8b-e8ac-4c1b-e493-445ed918efc6"
      },
      "execution_count": null,
      "outputs": [
        {
          "output_type": "execute_result",
          "data": {
            "text/plain": [
              "array([[22, 10,  1,  2],\n",
              "       [22,  3,  4,  5],\n",
              "       [22,  6,  7,  8]])"
            ]
          },
          "metadata": {},
          "execution_count": 87
        }
      ]
    },
    {
      "cell_type": "code",
      "source": [
        "np.insert(z,0,[22,22,22],axis=0)"
      ],
      "metadata": {
        "colab": {
          "base_uri": "https://localhost:8080/"
        },
        "id": "pOlB_OayNr18",
        "outputId": "e5b95159-8b04-4bf1-eaf2-eb2780c66d19"
      },
      "execution_count": null,
      "outputs": [
        {
          "output_type": "execute_result",
          "data": {
            "text/plain": [
              "array([[22, 22, 22],\n",
              "       [10,  1,  2],\n",
              "       [ 3,  4,  5],\n",
              "       [ 6,  7,  8]])"
            ]
          },
          "metadata": {},
          "execution_count": 88
        }
      ]
    },
    {
      "cell_type": "markdown",
      "source": [
        "### Deleting data along axis=0 (rows) , axis=1 (cols)"
      ],
      "metadata": {
        "id": "e3c1XSr-OCfu"
      }
    },
    {
      "cell_type": "code",
      "source": [
        "z"
      ],
      "metadata": {
        "colab": {
          "base_uri": "https://localhost:8080/"
        },
        "id": "S37KSKEGbwTj",
        "outputId": "5f47859f-38ee-4e39-d32f-75fab42aa4a8"
      },
      "execution_count": null,
      "outputs": [
        {
          "output_type": "execute_result",
          "data": {
            "text/plain": [
              "array([[10,  1,  2],\n",
              "       [ 3,  4,  5],\n",
              "       [ 6,  7,  8]])"
            ]
          },
          "metadata": {},
          "execution_count": 145
        }
      ]
    },
    {
      "cell_type": "code",
      "source": [
        "np.delete(z,1,axis=1)"
      ],
      "metadata": {
        "colab": {
          "base_uri": "https://localhost:8080/"
        },
        "id": "IpTzG-qAbZPk",
        "outputId": "8d86d11c-8908-4693-c72f-70c9dacd4f9f"
      },
      "execution_count": null,
      "outputs": [
        {
          "output_type": "execute_result",
          "data": {
            "text/plain": [
              "array([[10,  2],\n",
              "       [ 3,  5],\n",
              "       [ 6,  8]])"
            ]
          },
          "metadata": {},
          "execution_count": 146
        }
      ]
    },
    {
      "cell_type": "markdown",
      "source": [
        "### Unique elements"
      ],
      "metadata": {
        "id": "WwH2KBvaOLen"
      }
    },
    {
      "cell_type": "code",
      "source": [
        "array = [1,1,1,1,2,2]\n",
        "np.unique(array)"
      ],
      "metadata": {
        "colab": {
          "base_uri": "https://localhost:8080/"
        },
        "id": "9a_LdocFeHfs",
        "outputId": "b63dd413-c93a-4159-f1ab-c20d379aebf0"
      },
      "execution_count": null,
      "outputs": [
        {
          "output_type": "execute_result",
          "data": {
            "text/plain": [
              "array([1, 2])"
            ]
          },
          "metadata": {},
          "execution_count": 89
        }
      ]
    },
    {
      "cell_type": "code",
      "source": [
        "x1 = np.arange(9).reshape((3, 3))\n",
        "x2 = np.arange(3)\n",
        "print(*x1)\n",
        "print(*x2)\n",
        "x1 + x2"
      ],
      "metadata": {
        "colab": {
          "base_uri": "https://localhost:8080/"
        },
        "id": "ARD3PEIkeZ4C",
        "outputId": "214193b9-b75c-4eb0-a548-e8ab7bbd54b8"
      },
      "execution_count": null,
      "outputs": [
        {
          "output_type": "stream",
          "name": "stdout",
          "text": [
            "[0 1 2] [3 4 5] [6 7 8]\n",
            "0 1 2\n"
          ]
        },
        {
          "output_type": "execute_result",
          "data": {
            "text/plain": [
              "array([[ 0,  2,  4],\n",
              "       [ 3,  5,  7],\n",
              "       [ 6,  8, 10]])"
            ]
          },
          "metadata": {},
          "execution_count": 90
        }
      ]
    },
    {
      "cell_type": "code",
      "source": [
        "np.add(x1,x2)"
      ],
      "metadata": {
        "colab": {
          "base_uri": "https://localhost:8080/"
        },
        "id": "0egWdYRLe2Po",
        "outputId": "27a28e95-7151-43a4-dfb6-bd8e782a231e"
      },
      "execution_count": null,
      "outputs": [
        {
          "output_type": "execute_result",
          "data": {
            "text/plain": [
              "array([[ 0,  2,  4],\n",
              "       [ 3,  5,  7],\n",
              "       [ 6,  8, 10]])"
            ]
          },
          "metadata": {},
          "execution_count": 91
        }
      ]
    },
    {
      "cell_type": "code",
      "source": [
        "np.subtract(x1,x2)"
      ],
      "metadata": {
        "colab": {
          "base_uri": "https://localhost:8080/"
        },
        "id": "2UUBTM9zeckC",
        "outputId": "cda78c8e-e2cb-4194-8123-0fa20be07473"
      },
      "execution_count": null,
      "outputs": [
        {
          "output_type": "execute_result",
          "data": {
            "text/plain": [
              "array([[0, 0, 0],\n",
              "       [3, 3, 3],\n",
              "       [6, 6, 6]])"
            ]
          },
          "metadata": {},
          "execution_count": 92
        }
      ]
    },
    {
      "cell_type": "code",
      "source": [
        "np.multiply(x1,x2)"
      ],
      "metadata": {
        "colab": {
          "base_uri": "https://localhost:8080/"
        },
        "id": "7eDAmbqdfESq",
        "outputId": "141f3b15-1346-4891-8800-226c496a69c6"
      },
      "execution_count": null,
      "outputs": [
        {
          "output_type": "execute_result",
          "data": {
            "text/plain": [
              "array([[ 0,  1,  4],\n",
              "       [ 0,  4, 10],\n",
              "       [ 0,  7, 16]])"
            ]
          },
          "metadata": {},
          "execution_count": 93
        }
      ]
    },
    {
      "cell_type": "code",
      "source": [
        "np.divide(x1,x2)"
      ],
      "metadata": {
        "colab": {
          "base_uri": "https://localhost:8080/"
        },
        "id": "a_NeI0ZIfIhz",
        "outputId": "577f9923-19a3-457b-c605-d195cc762af8"
      },
      "execution_count": null,
      "outputs": [
        {
          "output_type": "stream",
          "name": "stderr",
          "text": [
            "/usr/local/lib/python3.7/dist-packages/ipykernel_launcher.py:1: RuntimeWarning: divide by zero encountered in true_divide\n",
            "  \"\"\"Entry point for launching an IPython kernel.\n",
            "/usr/local/lib/python3.7/dist-packages/ipykernel_launcher.py:1: RuntimeWarning: invalid value encountered in true_divide\n",
            "  \"\"\"Entry point for launching an IPython kernel.\n"
          ]
        },
        {
          "output_type": "execute_result",
          "data": {
            "text/plain": [
              "array([[nan, 1. , 1. ],\n",
              "       [inf, 4. , 2.5],\n",
              "       [inf, 7. , 4. ]])"
            ]
          },
          "metadata": {},
          "execution_count": 94
        }
      ]
    },
    {
      "cell_type": "code",
      "source": [
        "np.power(x1,2)"
      ],
      "metadata": {
        "colab": {
          "base_uri": "https://localhost:8080/"
        },
        "id": "G6HnhCQ0fkl2",
        "outputId": "17de09b1-2de1-43ac-90ba-c57132c75973"
      },
      "execution_count": null,
      "outputs": [
        {
          "output_type": "execute_result",
          "data": {
            "text/plain": [
              "array([[ 0,  1,  4],\n",
              "       [ 9, 16, 25],\n",
              "       [36, 49, 64]])"
            ]
          },
          "metadata": {},
          "execution_count": 95
        }
      ]
    },
    {
      "cell_type": "code",
      "source": [
        "x1 = np.arange(16).reshape((4,4))\n",
        "x1"
      ],
      "metadata": {
        "colab": {
          "base_uri": "https://localhost:8080/"
        },
        "id": "oR0c-BqxgMyP",
        "outputId": "4543e623-744e-44dc-ada7-c15b173df3a1"
      },
      "execution_count": null,
      "outputs": [
        {
          "output_type": "execute_result",
          "data": {
            "text/plain": [
              "array([[ 0,  1,  2,  3],\n",
              "       [ 4,  5,  6,  7],\n",
              "       [ 8,  9, 10, 11],\n",
              "       [12, 13, 14, 15]])"
            ]
          },
          "metadata": {},
          "execution_count": 96
        }
      ]
    },
    {
      "cell_type": "code",
      "source": [
        "np.percentile(x1,50,axis=0)"
      ],
      "metadata": {
        "colab": {
          "base_uri": "https://localhost:8080/"
        },
        "id": "g9rRYRIIf-6W",
        "outputId": "b84f1f5e-2ede-416c-a601-4fe5b3819d04"
      },
      "execution_count": null,
      "outputs": [
        {
          "output_type": "execute_result",
          "data": {
            "text/plain": [
              "array([6., 7., 8., 9.])"
            ]
          },
          "metadata": {},
          "execution_count": 170
        }
      ]
    },
    {
      "cell_type": "code",
      "source": [
        "np.percentile(x1,50,axis=1)"
      ],
      "metadata": {
        "colab": {
          "base_uri": "https://localhost:8080/"
        },
        "id": "KVhKPR2qgJPy",
        "outputId": "e615ac85-801f-4e26-d28c-bde26ed06004"
      },
      "execution_count": null,
      "outputs": [
        {
          "output_type": "execute_result",
          "data": {
            "text/plain": [
              "array([ 1.5,  5.5,  9.5, 13.5])"
            ]
          },
          "metadata": {},
          "execution_count": 171
        }
      ]
    },
    {
      "cell_type": "code",
      "source": [
        "np.mean(x1,axis=0)"
      ],
      "metadata": {
        "colab": {
          "base_uri": "https://localhost:8080/"
        },
        "id": "OZ3MFroRh18Z",
        "outputId": "82bdf83e-48a0-42aa-d668-d1c9deb35dc4"
      },
      "execution_count": null,
      "outputs": [
        {
          "output_type": "execute_result",
          "data": {
            "text/plain": [
              "array([6., 7., 8., 9.])"
            ]
          },
          "metadata": {},
          "execution_count": 175
        }
      ]
    },
    {
      "cell_type": "code",
      "source": [
        "np.median(x1,axis=0)"
      ],
      "metadata": {
        "colab": {
          "base_uri": "https://localhost:8080/"
        },
        "id": "3bTaYzjoh57e",
        "outputId": "735f8be2-8893-4b8f-add2-66d0f212e6e0"
      },
      "execution_count": null,
      "outputs": [
        {
          "output_type": "execute_result",
          "data": {
            "text/plain": [
              "array([6., 7., 8., 9.])"
            ]
          },
          "metadata": {},
          "execution_count": 176
        }
      ]
    },
    {
      "cell_type": "code",
      "source": [
        "np.std(x1)"
      ],
      "metadata": {
        "colab": {
          "base_uri": "https://localhost:8080/"
        },
        "id": "VZdoKsd_h90k",
        "outputId": "cf85f06b-68ba-49c4-fdf3-a1aefb76f405"
      },
      "execution_count": null,
      "outputs": [
        {
          "output_type": "execute_result",
          "data": {
            "text/plain": [
              "4.6097722286464435"
            ]
          },
          "metadata": {},
          "execution_count": 174
        }
      ]
    },
    {
      "cell_type": "code",
      "source": [
        "np.sum(x1)"
      ],
      "metadata": {
        "colab": {
          "base_uri": "https://localhost:8080/"
        },
        "id": "SyEunu3cOdeo",
        "outputId": "064e38a5-0393-4918-dc98-f34885c1211b"
      },
      "execution_count": null,
      "outputs": [
        {
          "output_type": "execute_result",
          "data": {
            "text/plain": [
              "120"
            ]
          },
          "metadata": {},
          "execution_count": 97
        }
      ]
    },
    {
      "cell_type": "markdown",
      "source": [
        "### Data access"
      ],
      "metadata": {
        "id": "mmY9XimmPV2d"
      }
    },
    {
      "cell_type": "code",
      "source": [
        "np.zeros((5,4,3))  # 5 represents there were 5 2D arrays"
      ],
      "metadata": {
        "colab": {
          "base_uri": "https://localhost:8080/"
        },
        "id": "LUanvckk7T7k",
        "outputId": "4c225392-0a04-4df1-ba18-4c0e9b0c0dad"
      },
      "execution_count": null,
      "outputs": [
        {
          "output_type": "execute_result",
          "data": {
            "text/plain": [
              "array([[[0., 0., 0.],\n",
              "        [0., 0., 0.],\n",
              "        [0., 0., 0.],\n",
              "        [0., 0., 0.]],\n",
              "\n",
              "       [[0., 0., 0.],\n",
              "        [0., 0., 0.],\n",
              "        [0., 0., 0.],\n",
              "        [0., 0., 0.]],\n",
              "\n",
              "       [[0., 0., 0.],\n",
              "        [0., 0., 0.],\n",
              "        [0., 0., 0.],\n",
              "        [0., 0., 0.]],\n",
              "\n",
              "       [[0., 0., 0.],\n",
              "        [0., 0., 0.],\n",
              "        [0., 0., 0.],\n",
              "        [0., 0., 0.]],\n",
              "\n",
              "       [[0., 0., 0.],\n",
              "        [0., 0., 0.],\n",
              "        [0., 0., 0.],\n",
              "        [0., 0., 0.]]])"
            ]
          },
          "metadata": {},
          "execution_count": 26
        }
      ]
    },
    {
      "cell_type": "code",
      "source": [
        "my_vector = np.array(list(range(1,15)))\n",
        "my_vector\n",
        "my_vector[:5]"
      ],
      "metadata": {
        "colab": {
          "base_uri": "https://localhost:8080/"
        },
        "id": "fXncqrmw7IMu",
        "outputId": "f7dde672-da6b-4b09-c7a4-50fb1ea8558f"
      },
      "execution_count": null,
      "outputs": [
        {
          "output_type": "execute_result",
          "data": {
            "text/plain": [
              "array([1, 2, 3, 4, 5])"
            ]
          },
          "metadata": {},
          "execution_count": 35
        }
      ]
    },
    {
      "cell_type": "code",
      "source": [
        "my_array = np.arange(35).reshape(7,5)\n",
        "my_array"
      ],
      "metadata": {
        "colab": {
          "base_uri": "https://localhost:8080/"
        },
        "id": "hDfHOcgg9iWu",
        "outputId": "a1868a21-fe95-4247-f8be-01ab5a945a86"
      },
      "execution_count": null,
      "outputs": [
        {
          "output_type": "execute_result",
          "data": {
            "text/plain": [
              "array([[ 0,  1,  2,  3,  4],\n",
              "       [ 5,  6,  7,  8,  9],\n",
              "       [10, 11, 12, 13, 14],\n",
              "       [15, 16, 17, 18, 19],\n",
              "       [20, 21, 22, 23, 24],\n",
              "       [25, 26, 27, 28, 29],\n",
              "       [30, 31, 32, 33, 34]])"
            ]
          },
          "metadata": {},
          "execution_count": 42
        }
      ]
    },
    {
      "cell_type": "code",
      "source": [
        "my_array [-1]"
      ],
      "metadata": {
        "colab": {
          "base_uri": "https://localhost:8080/"
        },
        "id": "jUWqM_Oa9r-J",
        "outputId": "7ad58da9-4c00-418f-f28c-34aafc17d15f"
      },
      "execution_count": null,
      "outputs": [
        {
          "output_type": "execute_result",
          "data": {
            "text/plain": [
              "array([30, 31, 32, 33, 34])"
            ]
          },
          "metadata": {},
          "execution_count": 43
        }
      ]
    },
    {
      "cell_type": "code",
      "source": [
        "my_array[5][2]"
      ],
      "metadata": {
        "colab": {
          "base_uri": "https://localhost:8080/"
        },
        "id": "uUGssf_w-Cli",
        "outputId": "73b5148f-ab42-4f52-cc9f-bdd9ea202943"
      },
      "execution_count": null,
      "outputs": [
        {
          "output_type": "execute_result",
          "data": {
            "text/plain": [
              "27"
            ]
          },
          "metadata": {},
          "execution_count": 44
        }
      ]
    },
    {
      "cell_type": "code",
      "source": [
        "my_array[5,2]"
      ],
      "metadata": {
        "colab": {
          "base_uri": "https://localhost:8080/"
        },
        "id": "QBdOD6UI-F9i",
        "outputId": "f86f3942-2d65-44ae-a54e-c34b24f0e03a"
      },
      "execution_count": null,
      "outputs": [
        {
          "output_type": "execute_result",
          "data": {
            "text/plain": [
              "27"
            ]
          },
          "metadata": {},
          "execution_count": 46
        }
      ]
    },
    {
      "cell_type": "code",
      "source": [
        "my_3d_array = np.arange(70).reshape(2,7,5)\n",
        "my_3d_array"
      ],
      "metadata": {
        "colab": {
          "base_uri": "https://localhost:8080/"
        },
        "id": "V3NcZu35-WAS",
        "outputId": "400ac167-a366-4825-f938-b1bc61ac5c54"
      },
      "execution_count": null,
      "outputs": [
        {
          "output_type": "execute_result",
          "data": {
            "text/plain": [
              "array([[[ 0,  1,  2,  3,  4],\n",
              "        [ 5,  6,  7,  8,  9],\n",
              "        [10, 11, 12, 13, 14],\n",
              "        [15, 16, 17, 18, 19],\n",
              "        [20, 21, 22, 23, 24],\n",
              "        [25, 26, 27, 28, 29],\n",
              "        [30, 31, 32, 33, 34]],\n",
              "\n",
              "       [[35, 36, 37, 38, 39],\n",
              "        [40, 41, 42, 43, 44],\n",
              "        [45, 46, 47, 48, 49],\n",
              "        [50, 51, 52, 53, 54],\n",
              "        [55, 56, 57, 58, 59],\n",
              "        [60, 61, 62, 63, 64],\n",
              "        [65, 66, 67, 68, 69]]])"
            ]
          },
          "metadata": {},
          "execution_count": 48
        }
      ]
    },
    {
      "cell_type": "code",
      "source": [
        "my_3d_array [1] [2] [3]"
      ],
      "metadata": {
        "colab": {
          "base_uri": "https://localhost:8080/"
        },
        "id": "F3tZOovk-qV7",
        "outputId": "02355ea7-8a97-429f-8370-d6e6e5ac5982"
      },
      "execution_count": null,
      "outputs": [
        {
          "output_type": "execute_result",
          "data": {
            "text/plain": [
              "48"
            ]
          },
          "metadata": {},
          "execution_count": 49
        }
      ]
    },
    {
      "cell_type": "code",
      "source": [
        "my_3d_array [1,2,3]"
      ],
      "metadata": {
        "colab": {
          "base_uri": "https://localhost:8080/"
        },
        "id": "eiHW1Hxz-yJq",
        "outputId": "4a0383c6-3323-4fad-fb08-8b655bbf2790"
      },
      "execution_count": null,
      "outputs": [
        {
          "output_type": "execute_result",
          "data": {
            "text/plain": [
              "48"
            ]
          },
          "metadata": {},
          "execution_count": 50
        }
      ]
    },
    {
      "cell_type": "markdown",
      "source": [
        "### Boolean Mask Arrays - Numpy"
      ],
      "metadata": {
        "id": "yF30WCLt-9zZ"
      }
    },
    {
      "cell_type": "code",
      "source": [
        "my_array = np.array([17,18,19,20,-22])\n",
        "\n",
        "#zero_mod_2_mask = (my_array%2 ==0)\n",
        "zero_mod_2_mask = 0 ==  (my_array%2)\n",
        "\n",
        "zero_mod_2_mask"
      ],
      "metadata": {
        "colab": {
          "base_uri": "https://localhost:8080/"
        },
        "id": "WQFIbDu-_ATR",
        "outputId": "48fcbcbc-8d19-4bd4-8325-80fdb423a9a1"
      },
      "execution_count": null,
      "outputs": [
        {
          "output_type": "execute_result",
          "data": {
            "text/plain": [
              "array([False,  True, False,  True,  True])"
            ]
          },
          "metadata": {},
          "execution_count": 87
        }
      ]
    },
    {
      "cell_type": "code",
      "source": [
        "my_array[zero_mod_2_mask]"
      ],
      "metadata": {
        "colab": {
          "base_uri": "https://localhost:8080/"
        },
        "id": "EqVulTu9_puP",
        "outputId": "dbac8548-0fd9-4dba-8a38-0942db14a886"
      },
      "execution_count": null,
      "outputs": [
        {
          "output_type": "execute_result",
          "data": {
            "text/plain": [
              "array([18, 20])"
            ]
          },
          "metadata": {},
          "execution_count": 82
        }
      ]
    },
    {
      "cell_type": "code",
      "source": [
        "my_array[my_array > 18]"
      ],
      "metadata": {
        "colab": {
          "base_uri": "https://localhost:8080/"
        },
        "id": "zOOLvrOuBjwc",
        "outputId": "2beb458a-8857-4884-8ecb-f8ead1d57962"
      },
      "execution_count": null,
      "outputs": [
        {
          "output_type": "execute_result",
          "data": {
            "text/plain": [
              "array([19, 20])"
            ]
          },
          "metadata": {},
          "execution_count": 83
        }
      ]
    },
    {
      "cell_type": "code",
      "source": [
        "my_array # my_array remains unchanged"
      ],
      "metadata": {
        "colab": {
          "base_uri": "https://localhost:8080/"
        },
        "id": "LvZ2P4IXBqTQ",
        "outputId": "fb831a04-8f9b-4701-90c3-bee4f094d225"
      },
      "execution_count": null,
      "outputs": [
        {
          "output_type": "execute_result",
          "data": {
            "text/plain": [
              "array([17, 18, 19, 20])"
            ]
          },
          "metadata": {},
          "execution_count": 84
        }
      ]
    },
    {
      "cell_type": "markdown",
      "source": [
        "### Boolean Masking Multiple conditions"
      ],
      "metadata": {
        "id": "flrjsKHDCoAU"
      }
    },
    {
      "cell_type": "code",
      "source": [
        "positive_test = my_array > 0\n",
        "mod_test = (my_array%2 ==0)\n",
        "\n",
        "combined_mask = np.logical_and(positive_test,mod_test)\n",
        "my_array"
      ],
      "metadata": {
        "colab": {
          "base_uri": "https://localhost:8080/"
        },
        "id": "OldmslwXB5Hm",
        "outputId": "d2603cc6-8f2f-4f73-c8fe-8c5b2e162957"
      },
      "execution_count": null,
      "outputs": [
        {
          "output_type": "execute_result",
          "data": {
            "text/plain": [
              "array([ 17,  18,  19,  20, -22])"
            ]
          },
          "metadata": {},
          "execution_count": 90
        }
      ]
    },
    {
      "cell_type": "code",
      "source": [
        "my_array[combined_mask]"
      ],
      "metadata": {
        "colab": {
          "base_uri": "https://localhost:8080/"
        },
        "id": "0BWLiBjKCfGA",
        "outputId": "8c9f798b-85b7-4926-e931-d80aef01f705"
      },
      "execution_count": null,
      "outputs": [
        {
          "output_type": "execute_result",
          "data": {
            "text/plain": [
              "array([18, 20])"
            ]
          },
          "metadata": {},
          "execution_count": 91
        }
      ]
    },
    {
      "cell_type": "code",
      "source": [
        "combined_mask_or = np.logical_or(positive_test,mod_test)\n",
        "my_array[combined_mask_or]"
      ],
      "metadata": {
        "colab": {
          "base_uri": "https://localhost:8080/"
        },
        "id": "V0v7McdaC4jb",
        "outputId": "52d0f4b9-6833-4ec3-f111-08ce44f435a6"
      },
      "execution_count": null,
      "outputs": [
        {
          "output_type": "execute_result",
          "data": {
            "text/plain": [
              "array([ 17,  18,  19,  20, -22])"
            ]
          },
          "metadata": {},
          "execution_count": 95
        }
      ]
    },
    {
      "cell_type": "markdown",
      "source": [
        "## Broadcasting Numpy"
      ],
      "metadata": {
        "id": "LQ6YscNdEHCz"
      }
    },
    {
      "cell_type": "code",
      "source": [
        "my_array = np.array([17,18,19,20,-22])\n",
        "\n",
        "my_array*2"
      ],
      "metadata": {
        "colab": {
          "base_uri": "https://localhost:8080/"
        },
        "id": "lEUwJCEcEKeM",
        "outputId": "7f8ab870-6228-4e93-eecf-8fc21ee08284"
      },
      "execution_count": null,
      "outputs": [
        {
          "output_type": "execute_result",
          "data": {
            "text/plain": [
              "array([ 34,  36,  38,  40, -44])"
            ]
          },
          "metadata": {},
          "execution_count": 97
        }
      ]
    },
    {
      "cell_type": "code",
      "source": [
        "left_array = np.arange(0,4).reshape(2,2)\n",
        "right_array = np.arange(5,9).reshape(2,2)\n",
        "print(left_array)\n",
        "print(right_array)"
      ],
      "metadata": {
        "colab": {
          "base_uri": "https://localhost:8080/"
        },
        "id": "HLMKb2tJEUN3",
        "outputId": "c7915687-5448-42a9-8294-1a96ffa79d27"
      },
      "execution_count": null,
      "outputs": [
        {
          "output_type": "stream",
          "name": "stdout",
          "text": [
            "[[0 1]\n",
            " [2 3]]\n",
            "[[5 6]\n",
            " [7 8]]\n"
          ]
        }
      ]
    },
    {
      "cell_type": "code",
      "source": [
        "np.dot(left_array,right_array) # Matrix multiplication"
      ],
      "metadata": {
        "colab": {
          "base_uri": "https://localhost:8080/"
        },
        "id": "D9IM7vUZFN_Y",
        "outputId": "95ba31ae-d2ed-4c8a-ada2-c23197873a11"
      },
      "execution_count": null,
      "outputs": [
        {
          "output_type": "execute_result",
          "data": {
            "text/plain": [
              "array([[ 7,  8],\n",
              "       [31, 36]])"
            ]
          },
          "metadata": {},
          "execution_count": 102
        }
      ]
    },
    {
      "cell_type": "code",
      "source": [
        "np.matmul(left_array,right_array) # Matrix multiplication"
      ],
      "metadata": {
        "colab": {
          "base_uri": "https://localhost:8080/"
        },
        "id": "uB0htggzFUag",
        "outputId": "982c0957-364c-4a69-9874-068157ef7fca"
      },
      "execution_count": null,
      "outputs": [
        {
          "output_type": "execute_result",
          "data": {
            "text/plain": [
              "array([[ 7,  8],\n",
              "       [31, 36]])"
            ]
          },
          "metadata": {},
          "execution_count": 104
        }
      ]
    },
    {
      "cell_type": "code",
      "source": [
        "left_array.sum() # sum of all number in a matrix\n",
        "right_array.sum()"
      ],
      "metadata": {
        "colab": {
          "base_uri": "https://localhost:8080/"
        },
        "id": "14ObCSLSFhSQ",
        "outputId": "75ffc29c-9847-4fcc-f51e-a0416127273e"
      },
      "execution_count": null,
      "outputs": [
        {
          "output_type": "execute_result",
          "data": {
            "text/plain": [
              "26"
            ]
          },
          "metadata": {},
          "execution_count": 106
        }
      ]
    },
    {
      "cell_type": "code",
      "source": [
        "left_array.sum(axis = 0)\n",
        "left_array.sum(axis =1)"
      ],
      "metadata": {
        "colab": {
          "base_uri": "https://localhost:8080/"
        },
        "id": "TIAq6pjXFw43",
        "outputId": "24174ecc-2ffd-4c29-8452-1d21c4685d85"
      },
      "execution_count": null,
      "outputs": [
        {
          "output_type": "execute_result",
          "data": {
            "text/plain": [
              "array([1, 5])"
            ]
          },
          "metadata": {},
          "execution_count": 108
        }
      ]
    },
    {
      "cell_type": "markdown",
      "source": [
        "### Broadcasting Rules"
      ],
      "metadata": {
        "id": "usolExdWGG9e"
      }
    },
    {
      "cell_type": "code",
      "source": [
        "my_2d_array = np.ones(35, dtype = 'int').reshape(7,5) * 3\n",
        "my_2d_array"
      ],
      "metadata": {
        "colab": {
          "base_uri": "https://localhost:8080/"
        },
        "id": "FPqkSVFVGJUO",
        "outputId": "e62fcefd-bb74-4be3-ef30-bc7d521333c1"
      },
      "execution_count": null,
      "outputs": [
        {
          "output_type": "execute_result",
          "data": {
            "text/plain": [
              "array([[3, 3, 3, 3, 3],\n",
              "       [3, 3, 3, 3, 3],\n",
              "       [3, 3, 3, 3, 3],\n",
              "       [3, 3, 3, 3, 3],\n",
              "       [3, 3, 3, 3, 3],\n",
              "       [3, 3, 3, 3, 3],\n",
              "       [3, 3, 3, 3, 3]])"
            ]
          },
          "metadata": {},
          "execution_count": 126
        }
      ]
    },
    {
      "cell_type": "code",
      "source": [
        "my_random_array = np.ones(35).reshape(5,7)\n",
        "my_random_array"
      ],
      "metadata": {
        "colab": {
          "base_uri": "https://localhost:8080/"
        },
        "id": "h4MAiKDnGjBV",
        "outputId": "439d8040-eba3-4cb0-c95e-2731bb3c852f"
      },
      "execution_count": null,
      "outputs": [
        {
          "output_type": "execute_result",
          "data": {
            "text/plain": [
              "array([[1., 1., 1., 1., 1., 1., 1.],\n",
              "       [1., 1., 1., 1., 1., 1., 1.],\n",
              "       [1., 1., 1., 1., 1., 1., 1.],\n",
              "       [1., 1., 1., 1., 1., 1., 1.],\n",
              "       [1., 1., 1., 1., 1., 1., 1.]])"
            ]
          },
          "metadata": {},
          "execution_count": 125
        }
      ]
    },
    {
      "cell_type": "code",
      "source": [
        "np.dot(my_2d_array,my_random_array)"
      ],
      "metadata": {
        "colab": {
          "base_uri": "https://localhost:8080/"
        },
        "id": "eEjC34B6HC0x",
        "outputId": "6edfb88f-e86f-48ea-c47c-557c1de242ff"
      },
      "execution_count": null,
      "outputs": [
        {
          "output_type": "execute_result",
          "data": {
            "text/plain": [
              "array([[15., 15., 15., 15., 15., 15., 15.],\n",
              "       [15., 15., 15., 15., 15., 15., 15.],\n",
              "       [15., 15., 15., 15., 15., 15., 15.],\n",
              "       [15., 15., 15., 15., 15., 15., 15.],\n",
              "       [15., 15., 15., 15., 15., 15., 15.],\n",
              "       [15., 15., 15., 15., 15., 15., 15.],\n",
              "       [15., 15., 15., 15., 15., 15., 15.]])"
            ]
          },
          "metadata": {},
          "execution_count": 127
        }
      ]
    },
    {
      "cell_type": "markdown",
      "source": [
        "### Creating Structured Arrays"
      ],
      "metadata": {
        "id": "UyuYBa2EJFdH"
      }
    },
    {
      "cell_type": "code",
      "source": [
        ""
      ],
      "metadata": {
        "id": "yzIUge-eJJAz"
      },
      "execution_count": null,
      "outputs": []
    }
  ]
}