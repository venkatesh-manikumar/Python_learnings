{
  "nbformat": 4,
  "nbformat_minor": 0,
  "metadata": {
    "colab": {
      "name": "NumPy_learnings_day_1.ipynb",
      "provenance": [],
      "authorship_tag": "ABX9TyNd4nNHIjf/dp8431ezs7Ba",
      "include_colab_link": true
    },
    "kernelspec": {
      "name": "python3",
      "display_name": "Python 3"
    },
    "language_info": {
      "name": "python"
    }
  },
  "cells": [
    {
      "cell_type": "markdown",
      "metadata": {
        "id": "view-in-github",
        "colab_type": "text"
      },
      "source": [
        "<a href=\"https://colab.research.google.com/github/venkatesh-manikumar/Python_learnings/blob/main/NumPy_learnings_day_1.ipynb\" target=\"_parent\"><img src=\"https://colab.research.google.com/assets/colab-badge.svg\" alt=\"Open In Colab\"/></a>"
      ]
    },
    {
      "cell_type": "code",
      "execution_count": 3,
      "metadata": {
        "id": "4Pv-JmbH504b"
      },
      "outputs": [],
      "source": [
        "import numpy as np"
      ]
    },
    {
      "cell_type": "markdown",
      "source": [
        "### One Dimensional array"
      ],
      "metadata": {
        "id": "pLD1bePpDuqk"
      }
    },
    {
      "cell_type": "code",
      "source": [
        "array_1 = np.array([1,2,3,4,5])\n",
        "array_1"
      ],
      "metadata": {
        "colab": {
          "base_uri": "https://localhost:8080/"
        },
        "id": "6poYCtebDz6i",
        "outputId": "924211f2-6136-4b44-c4d8-10c631539fea"
      },
      "execution_count": 26,
      "outputs": [
        {
          "output_type": "execute_result",
          "data": {
            "text/plain": [
              "array([1, 2, 3, 4, 5])"
            ]
          },
          "metadata": {},
          "execution_count": 26
        }
      ]
    },
    {
      "cell_type": "code",
      "source": [
        "array_1.shape"
      ],
      "metadata": {
        "colab": {
          "base_uri": "https://localhost:8080/"
        },
        "id": "UYS7b8gSEELO",
        "outputId": "d550b477-94ea-443c-9b5d-7a104f256666"
      },
      "execution_count": 24,
      "outputs": [
        {
          "output_type": "execute_result",
          "data": {
            "text/plain": [
              "(5,)"
            ]
          },
          "metadata": {},
          "execution_count": 24
        }
      ]
    },
    {
      "cell_type": "code",
      "source": [
        "array_1.ndim"
      ],
      "metadata": {
        "colab": {
          "base_uri": "https://localhost:8080/"
        },
        "id": "YJqCP7SbEK5B",
        "outputId": "d0a40e8d-ded1-4780-8439-7c5240899065"
      },
      "execution_count": 25,
      "outputs": [
        {
          "output_type": "execute_result",
          "data": {
            "text/plain": [
              "1"
            ]
          },
          "metadata": {},
          "execution_count": 25
        }
      ]
    },
    {
      "cell_type": "markdown",
      "source": [
        "### Two Dimensional array"
      ],
      "metadata": {
        "id": "wh86zAirD0-I"
      }
    },
    {
      "cell_type": "code",
      "source": [
        "array = np.array([  [1,2,3,4,5],\n",
        "                    [10,20,30,40,50]  ])\n",
        "array"
      ],
      "metadata": {
        "colab": {
          "base_uri": "https://localhost:8080/"
        },
        "id": "UCsF0wQ7CjfD",
        "outputId": "2a3493d6-3c1d-4a4d-af9d-e8f35350b00a"
      },
      "execution_count": 12,
      "outputs": [
        {
          "output_type": "execute_result",
          "data": {
            "text/plain": [
              "array([[ 1,  2,  3,  4,  5],\n",
              "       [10, 20, 30, 40, 50]])"
            ]
          },
          "metadata": {},
          "execution_count": 12
        }
      ]
    },
    {
      "cell_type": "code",
      "source": [
        "array.shape"
      ],
      "metadata": {
        "colab": {
          "base_uri": "https://localhost:8080/"
        },
        "id": "AGtN0K7mCuxs",
        "outputId": "0876b2e2-7827-463b-a117-f61e8d3a3a25"
      },
      "execution_count": 10,
      "outputs": [
        {
          "output_type": "execute_result",
          "data": {
            "text/plain": [
              "(2, 5)"
            ]
          },
          "metadata": {},
          "execution_count": 10
        }
      ]
    },
    {
      "cell_type": "code",
      "source": [
        "array.ndim"
      ],
      "metadata": {
        "colab": {
          "base_uri": "https://localhost:8080/"
        },
        "id": "OjO71CY4DHi7",
        "outputId": "e63e3014-64a3-48d9-ed16-a37e284d2ba4"
      },
      "execution_count": 11,
      "outputs": [
        {
          "output_type": "execute_result",
          "data": {
            "text/plain": [
              "2"
            ]
          },
          "metadata": {},
          "execution_count": 11
        }
      ]
    },
    {
      "cell_type": "code",
      "source": [
        "print(\"array[0][0] =>\",array[0][0])\n",
        "print(\"array[0][0] =>\",array[0][1])\n",
        "print(\"array[0][0] =>\",array[0][2])"
      ],
      "metadata": {
        "colab": {
          "base_uri": "https://localhost:8080/"
        },
        "id": "KtV5WTB0DUXF",
        "outputId": "0ad0bba7-770d-4615-fff3-e7dfa3f9972d"
      },
      "execution_count": 16,
      "outputs": [
        {
          "output_type": "stream",
          "name": "stdout",
          "text": [
            "array[0][0] => 1\n",
            "array[0][0] => 2\n",
            "array[0][0] => 3\n"
          ]
        }
      ]
    },
    {
      "cell_type": "markdown",
      "source": [
        "### Usage of dtype"
      ],
      "metadata": {
        "id": "eVX58SJNGK-d"
      }
    },
    {
      "cell_type": "code",
      "source": [
        "array_float = np.array([  [1 , 2, 3, 4, 5],\n",
        "                          [10,20,30,40,50]  ], dtype = float)\n",
        "\n",
        "array_float"
      ],
      "metadata": {
        "colab": {
          "base_uri": "https://localhost:8080/"
        },
        "id": "5fjC0yY5EfZI",
        "outputId": "f600407b-b164-4b7a-a3ff-cd4b953e6643"
      },
      "execution_count": 42,
      "outputs": [
        {
          "output_type": "execute_result",
          "data": {
            "text/plain": [
              "array([[ 1.,  2.,  3.,  4.,  5.],\n",
              "       [10., 20., 30., 40., 50.]])"
            ]
          },
          "metadata": {},
          "execution_count": 42
        }
      ]
    },
    {
      "cell_type": "code",
      "source": [
        "reshaped_array = array_float.reshape(5,2)\n",
        "reshaped_array"
      ],
      "metadata": {
        "colab": {
          "base_uri": "https://localhost:8080/"
        },
        "id": "1qGBAVeEFKuo",
        "outputId": "7bdbe8bf-2172-4fca-fa80-bf0e6d782a11"
      },
      "execution_count": 43,
      "outputs": [
        {
          "output_type": "execute_result",
          "data": {
            "text/plain": [
              "array([[ 1.,  2.],\n",
              "       [ 3.,  4.],\n",
              "       [ 5., 10.],\n",
              "       [20., 30.],\n",
              "       [40., 50.]])"
            ]
          },
          "metadata": {},
          "execution_count": 43
        }
      ]
    },
    {
      "cell_type": "code",
      "source": [
        "array_float * array_float"
      ],
      "metadata": {
        "colab": {
          "base_uri": "https://localhost:8080/"
        },
        "id": "AL4IA6UdG-60",
        "outputId": "e4847c85-0811-4efa-b69a-9d3d810fb3ce"
      },
      "execution_count": 44,
      "outputs": [
        {
          "output_type": "execute_result",
          "data": {
            "text/plain": [
              "array([[1.0e+00, 4.0e+00, 9.0e+00, 1.6e+01, 2.5e+01],\n",
              "       [1.0e+02, 4.0e+02, 9.0e+02, 1.6e+03, 2.5e+03]])"
            ]
          },
          "metadata": {},
          "execution_count": 44
        }
      ]
    },
    {
      "cell_type": "code",
      "source": [
        "np.zeros([3,3],dtype=int)\n",
        "np.ones([3,3],dtype=int)"
      ],
      "metadata": {
        "colab": {
          "base_uri": "https://localhost:8080/"
        },
        "id": "WAZCEfzUG4Yc",
        "outputId": "bed1cc80-2b9c-442d-f123-ee4274278636"
      },
      "execution_count": 46,
      "outputs": [
        {
          "output_type": "execute_result",
          "data": {
            "text/plain": [
              "array([[1, 1, 1],\n",
              "       [1, 1, 1],\n",
              "       [1, 1, 1]])"
            ]
          },
          "metadata": {},
          "execution_count": 46
        }
      ]
    },
    {
      "cell_type": "markdown",
      "source": [
        "### Creating array from exsisting daa"
      ],
      "metadata": {
        "id": "XBSHl46GL22P"
      }
    },
    {
      "cell_type": "code",
      "source": [
        "x1 = ([0,0],[1,1],[2,2])\n",
        "a1 = np.asarray(x1,dtype = int) # asarray()\n",
        "type(a1)"
      ],
      "metadata": {
        "colab": {
          "base_uri": "https://localhost:8080/"
        },
        "id": "ScEppYjfLG2F",
        "outputId": "8c265b38-f9a1-41cf-835d-b1bfe60de853"
      },
      "execution_count": 55,
      "outputs": [
        {
          "output_type": "execute_result",
          "data": {
            "text/plain": [
              "numpy.ndarray"
            ]
          },
          "metadata": {},
          "execution_count": 55
        }
      ]
    },
    {
      "cell_type": "code",
      "source": [
        "a2 = np.array(x1,dtype = int) # array()\n",
        "type(a2)"
      ],
      "metadata": {
        "colab": {
          "base_uri": "https://localhost:8080/"
        },
        "id": "05zBfxTWLleh",
        "outputId": "ca71b6b3-ba5c-4e2a-b761-edc1d7d1d68c"
      },
      "execution_count": 54,
      "outputs": [
        {
          "output_type": "execute_result",
          "data": {
            "text/plain": [
              "numpy.ndarray"
            ]
          },
          "metadata": {},
          "execution_count": 54
        }
      ]
    },
    {
      "cell_type": "markdown",
      "source": [
        "### Array from numerical ranges"
      ],
      "metadata": {
        "id": "wcb_mQjML8M2"
      }
    },
    {
      "cell_type": "code",
      "source": [
        "np.arange(0,20,3)"
      ],
      "metadata": {
        "colab": {
          "base_uri": "https://localhost:8080/"
        },
        "id": "FAYOHCN4L0b9",
        "outputId": "bb2d463d-9baa-4c08-fde3-874db16ff83e"
      },
      "execution_count": 56,
      "outputs": [
        {
          "output_type": "execute_result",
          "data": {
            "text/plain": [
              "array([ 0,  3,  6,  9, 12, 15, 18])"
            ]
          },
          "metadata": {},
          "execution_count": 56
        }
      ]
    },
    {
      "cell_type": "code",
      "source": [
        "np.linspace(1,10,4) # Eqaually dividing range by 3rd argument"
      ],
      "metadata": {
        "colab": {
          "base_uri": "https://localhost:8080/"
        },
        "id": "6jJNnve9MTzB",
        "outputId": "65bcfb10-eda5-49e9-ddba-11b241b9daf4"
      },
      "execution_count": 60,
      "outputs": [
        {
          "output_type": "execute_result",
          "data": {
            "text/plain": [
              "array([ 1.,  4.,  7., 10.])"
            ]
          },
          "metadata": {},
          "execution_count": 60
        }
      ]
    },
    {
      "cell_type": "markdown",
      "source": [
        "#### Slicing"
      ],
      "metadata": {
        "id": "QgBpj60eMumx"
      }
    },
    {
      "cell_type": "code",
      "source": [
        "list1= np.arange(10)\n",
        "res = slice(2,9,2)\n",
        "type(res)"
      ],
      "metadata": {
        "colab": {
          "base_uri": "https://localhost:8080/"
        },
        "id": "3WotqXQkMwbs",
        "outputId": "ffceba42-4adb-4113-a155-6c27ce1a2197"
      },
      "execution_count": 64,
      "outputs": [
        {
          "output_type": "execute_result",
          "data": {
            "text/plain": [
              "slice"
            ]
          },
          "metadata": {},
          "execution_count": 64
        }
      ]
    },
    {
      "cell_type": "code",
      "source": [
        "list1\n"
      ],
      "metadata": {
        "colab": {
          "base_uri": "https://localhost:8080/"
        },
        "id": "PoAKJclWN2ik",
        "outputId": "0932a662-3bc4-42ea-dd54-4ab939c22ba0"
      },
      "execution_count": 67,
      "outputs": [
        {
          "output_type": "execute_result",
          "data": {
            "text/plain": [
              "array([0, 1, 2, 3, 4, 5, 6, 7, 8, 9])"
            ]
          },
          "metadata": {},
          "execution_count": 67
        }
      ]
    },
    {
      "cell_type": "code",
      "source": [
        "list1[res]"
      ],
      "metadata": {
        "colab": {
          "base_uri": "https://localhost:8080/"
        },
        "id": "9JsdmhoCNxl3",
        "outputId": "605ef024-f60d-4155-fe8a-47c0fc3b5512"
      },
      "execution_count": 65,
      "outputs": [
        {
          "output_type": "execute_result",
          "data": {
            "text/plain": [
              "array([2, 4, 6, 8])"
            ]
          },
          "metadata": {},
          "execution_count": 65
        }
      ]
    },
    {
      "cell_type": "code",
      "source": [
        "list1[2:9:2] # Similar funcionality like Slicing"
      ],
      "metadata": {
        "colab": {
          "base_uri": "https://localhost:8080/"
        },
        "id": "OBJgDmGoOB7L",
        "outputId": "175e15f9-cfab-472a-df2e-4cd667f81bed"
      },
      "execution_count": 68,
      "outputs": [
        {
          "output_type": "execute_result",
          "data": {
            "text/plain": [
              "array([2, 4, 6, 8])"
            ]
          },
          "metadata": {},
          "execution_count": 68
        }
      ]
    },
    {
      "cell_type": "code",
      "source": [
        "array7 = np.array([ [ [1,2,3,4,5],\n",
        "                      [4,5,6,7,8] ] ,\n",
        "                   \n",
        "                    [ [1,3,5,7,9],\n",
        "                      [4,4,4,4,5] ]  ,\n",
        "                   \n",
        "                    [ [1,3,5,7,9],\n",
        "                      [4,4,4,4,5] ]    ]  )\n",
        "print(array7.shape)\n",
        "print(array7.ndim)\n",
        "print(array7)\n",
        "print(array7[0])\n",
        "print(array7[0][0])\n",
        "len(array7[0][0])\n",
        "print(array7[0][1])\n"
      ],
      "metadata": {
        "colab": {
          "base_uri": "https://localhost:8080/"
        },
        "id": "n75MY8rkPWPJ",
        "outputId": "d297481b-ac9d-4efd-b3cb-aa40316c093c"
      },
      "execution_count": 81,
      "outputs": [
        {
          "output_type": "stream",
          "name": "stdout",
          "text": [
            "(3, 2, 5)\n",
            "3\n",
            "[[[1 2 3 4 5]\n",
            "  [4 5 6 7 8]]\n",
            "\n",
            " [[1 3 5 7 9]\n",
            "  [4 4 4 4 5]]\n",
            "\n",
            " [[1 3 5 7 9]\n",
            "  [4 4 4 4 5]]]\n",
            "[[1 2 3 4 5]\n",
            " [4 5 6 7 8]]\n",
            "[1 2 3 4 5]\n",
            "[4 5 6 7 8]\n"
          ]
        }
      ]
    },
    {
      "cell_type": "markdown",
      "source": [
        "### Integer Indexing"
      ],
      "metadata": {
        "id": "7q5OfpTbZmYq"
      }
    },
    {
      "cell_type": "code",
      "source": [
        "a = np.array([ [1,2] ,[3,4] , [5,6]])\n",
        "b = a [ [0,1,2] , [0,0,0] ] # a [  [rows],[cols]  ]"
      ],
      "metadata": {
        "id": "2IaoF-_iZpF4"
      },
      "execution_count": 89,
      "outputs": []
    },
    {
      "cell_type": "code",
      "source": [
        "a"
      ],
      "metadata": {
        "colab": {
          "base_uri": "https://localhost:8080/"
        },
        "id": "jfc8QJRzabZa",
        "outputId": "d9755b5d-31b2-4e66-9465-0ffb23212a4d"
      },
      "execution_count": 87,
      "outputs": [
        {
          "output_type": "execute_result",
          "data": {
            "text/plain": [
              "array([[1, 2],\n",
              "       [3, 4],\n",
              "       [5, 6]])"
            ]
          },
          "metadata": {},
          "execution_count": 87
        }
      ]
    },
    {
      "cell_type": "code",
      "source": [
        "b"
      ],
      "metadata": {
        "colab": {
          "base_uri": "https://localhost:8080/"
        },
        "id": "GfSCavxIafsU",
        "outputId": "cffcfca5-f396-46d7-dd36-46ef0ab9ac65"
      },
      "execution_count": 90,
      "outputs": [
        {
          "output_type": "execute_result",
          "data": {
            "text/plain": [
              "array([1, 3, 5])"
            ]
          },
          "metadata": {},
          "execution_count": 90
        }
      ]
    },
    {
      "cell_type": "code",
      "source": [
        "b = a [ [0,1] , [0,1] ] # hardcode rows + hardcode cols\n",
        "b"
      ],
      "metadata": {
        "colab": {
          "base_uri": "https://localhost:8080/"
        },
        "id": "gba4cDpGbPgJ",
        "outputId": "6cf786e1-b7c4-4815-fecc-2404a9e9dac0"
      },
      "execution_count": 94,
      "outputs": [
        {
          "output_type": "execute_result",
          "data": {
            "text/plain": [
              "array([1, 4])"
            ]
          },
          "metadata": {},
          "execution_count": 94
        }
      ]
    },
    {
      "cell_type": "code",
      "source": [
        "data = np.array( [ [0,1,2],[3,4,5],[6,7,8],[9,10,11]])\n",
        "data.shape\n",
        "data.ndim\n",
        "\n",
        "data[ 1:4,1:3] # slice + slice"
      ],
      "metadata": {
        "colab": {
          "base_uri": "https://localhost:8080/"
        },
        "id": "iAz_dOCabaVM",
        "outputId": "30ef9cf5-4a02-4956-cd42-79781cb04d13"
      },
      "execution_count": 104,
      "outputs": [
        {
          "output_type": "execute_result",
          "data": {
            "text/plain": [
              "array([[ 4,  5],\n",
              "       [ 7,  8],\n",
              "       [10, 11]])"
            ]
          },
          "metadata": {},
          "execution_count": 104
        }
      ]
    },
    {
      "cell_type": "code",
      "source": [
        "data[1:4 , [1,2]] # slice + hardcode cols"
      ],
      "metadata": {
        "colab": {
          "base_uri": "https://localhost:8080/"
        },
        "id": "N58LbNDUd47m",
        "outputId": "c17e5a7d-c396-41e5-a7bb-eb022d35d074"
      },
      "execution_count": 105,
      "outputs": [
        {
          "output_type": "execute_result",
          "data": {
            "text/plain": [
              "array([[ 4,  5],\n",
              "       [ 7,  8],\n",
              "       [10, 11]])"
            ]
          },
          "metadata": {},
          "execution_count": 105
        }
      ]
    },
    {
      "cell_type": "code",
      "source": [
        "data[~np.isnan(data)] # result will be flattened , if np.nan() is applied"
      ],
      "metadata": {
        "colab": {
          "base_uri": "https://localhost:8080/"
        },
        "id": "un-rzJIkkJKG",
        "outputId": "a3a0566f-b506-4ac8-e8ca-8c7079023d4a"
      },
      "execution_count": 111,
      "outputs": [
        {
          "output_type": "execute_result",
          "data": {
            "text/plain": [
              "array([ 0,  1,  2,  3,  4,  5,  6,  7,  8,  9, 10, 11])"
            ]
          },
          "metadata": {},
          "execution_count": 111
        }
      ]
    }
  ]
}