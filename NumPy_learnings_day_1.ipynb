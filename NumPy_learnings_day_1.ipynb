{
  "nbformat": 4,
  "nbformat_minor": 0,
  "metadata": {
    "colab": {
      "name": "NumPy_learnings_day_1.ipynb",
      "provenance": [],
      "authorship_tag": "ABX9TyMv4Z6NTDI70dtQfTWIe+eh",
      "include_colab_link": true
    },
    "kernelspec": {
      "name": "python3",
      "display_name": "Python 3"
    },
    "language_info": {
      "name": "python"
    }
  },
  "cells": [
    {
      "cell_type": "markdown",
      "metadata": {
        "id": "view-in-github",
        "colab_type": "text"
      },
      "source": [
        "<a href=\"https://colab.research.google.com/github/venkatesh-manikumar/Python_learnings/blob/main/NumPy_learnings_day_1.ipynb\" target=\"_parent\"><img src=\"https://colab.research.google.com/assets/colab-badge.svg\" alt=\"Open In Colab\"/></a>"
      ]
    },
    {
      "cell_type": "code",
      "execution_count": 3,
      "metadata": {
        "id": "4Pv-JmbH504b"
      },
      "outputs": [],
      "source": [
        "import numpy as np"
      ]
    },
    {
      "cell_type": "markdown",
      "source": [
        "### One Dimensional array"
      ],
      "metadata": {
        "id": "pLD1bePpDuqk"
      }
    },
    {
      "cell_type": "code",
      "source": [
        "array_1 = np.array([1,2,3,4,5])\n",
        "array_1"
      ],
      "metadata": {
        "colab": {
          "base_uri": "https://localhost:8080/"
        },
        "id": "6poYCtebDz6i",
        "outputId": "924211f2-6136-4b44-c4d8-10c631539fea"
      },
      "execution_count": null,
      "outputs": [
        {
          "output_type": "execute_result",
          "data": {
            "text/plain": [
              "array([1, 2, 3, 4, 5])"
            ]
          },
          "metadata": {},
          "execution_count": 26
        }
      ]
    },
    {
      "cell_type": "code",
      "source": [
        "array_1.shape"
      ],
      "metadata": {
        "colab": {
          "base_uri": "https://localhost:8080/"
        },
        "id": "UYS7b8gSEELO",
        "outputId": "d550b477-94ea-443c-9b5d-7a104f256666"
      },
      "execution_count": null,
      "outputs": [
        {
          "output_type": "execute_result",
          "data": {
            "text/plain": [
              "(5,)"
            ]
          },
          "metadata": {},
          "execution_count": 24
        }
      ]
    },
    {
      "cell_type": "code",
      "source": [
        "array_1.ndim"
      ],
      "metadata": {
        "colab": {
          "base_uri": "https://localhost:8080/"
        },
        "id": "YJqCP7SbEK5B",
        "outputId": "d0a40e8d-ded1-4780-8439-7c5240899065"
      },
      "execution_count": null,
      "outputs": [
        {
          "output_type": "execute_result",
          "data": {
            "text/plain": [
              "1"
            ]
          },
          "metadata": {},
          "execution_count": 25
        }
      ]
    },
    {
      "cell_type": "markdown",
      "source": [
        "### Two Dimensional array"
      ],
      "metadata": {
        "id": "wh86zAirD0-I"
      }
    },
    {
      "cell_type": "code",
      "source": [
        "array = np.array([  [1,2,3,4,5],\n",
        "                    [10,20,30,40,50]  ])\n",
        "array"
      ],
      "metadata": {
        "colab": {
          "base_uri": "https://localhost:8080/"
        },
        "id": "UCsF0wQ7CjfD",
        "outputId": "2a3493d6-3c1d-4a4d-af9d-e8f35350b00a"
      },
      "execution_count": null,
      "outputs": [
        {
          "output_type": "execute_result",
          "data": {
            "text/plain": [
              "array([[ 1,  2,  3,  4,  5],\n",
              "       [10, 20, 30, 40, 50]])"
            ]
          },
          "metadata": {},
          "execution_count": 12
        }
      ]
    },
    {
      "cell_type": "code",
      "source": [
        "array.shape"
      ],
      "metadata": {
        "colab": {
          "base_uri": "https://localhost:8080/"
        },
        "id": "AGtN0K7mCuxs",
        "outputId": "0876b2e2-7827-463b-a117-f61e8d3a3a25"
      },
      "execution_count": null,
      "outputs": [
        {
          "output_type": "execute_result",
          "data": {
            "text/plain": [
              "(2, 5)"
            ]
          },
          "metadata": {},
          "execution_count": 10
        }
      ]
    },
    {
      "cell_type": "code",
      "source": [
        "array.ndim"
      ],
      "metadata": {
        "colab": {
          "base_uri": "https://localhost:8080/"
        },
        "id": "OjO71CY4DHi7",
        "outputId": "e63e3014-64a3-48d9-ed16-a37e284d2ba4"
      },
      "execution_count": null,
      "outputs": [
        {
          "output_type": "execute_result",
          "data": {
            "text/plain": [
              "2"
            ]
          },
          "metadata": {},
          "execution_count": 11
        }
      ]
    },
    {
      "cell_type": "code",
      "source": [
        "print(\"array[0][0] =>\",array[0][0])\n",
        "print(\"array[0][0] =>\",array[0][1])\n",
        "print(\"array[0][0] =>\",array[0][2])"
      ],
      "metadata": {
        "colab": {
          "base_uri": "https://localhost:8080/"
        },
        "id": "KtV5WTB0DUXF",
        "outputId": "0ad0bba7-770d-4615-fff3-e7dfa3f9972d"
      },
      "execution_count": null,
      "outputs": [
        {
          "output_type": "stream",
          "name": "stdout",
          "text": [
            "array[0][0] => 1\n",
            "array[0][0] => 2\n",
            "array[0][0] => 3\n"
          ]
        }
      ]
    },
    {
      "cell_type": "markdown",
      "source": [
        "### Usage of dtype"
      ],
      "metadata": {
        "id": "eVX58SJNGK-d"
      }
    },
    {
      "cell_type": "code",
      "source": [
        "array_float = np.array([  [1 , 2, 3, 4, 5],\n",
        "                          [10,20,30,40,50]  ], dtype = float)\n",
        "\n",
        "array_float"
      ],
      "metadata": {
        "colab": {
          "base_uri": "https://localhost:8080/"
        },
        "id": "5fjC0yY5EfZI",
        "outputId": "f600407b-b164-4b7a-a3ff-cd4b953e6643"
      },
      "execution_count": null,
      "outputs": [
        {
          "output_type": "execute_result",
          "data": {
            "text/plain": [
              "array([[ 1.,  2.,  3.,  4.,  5.],\n",
              "       [10., 20., 30., 40., 50.]])"
            ]
          },
          "metadata": {},
          "execution_count": 42
        }
      ]
    },
    {
      "cell_type": "code",
      "source": [
        "reshaped_array = array_float.reshape(5,2)\n",
        "reshaped_array"
      ],
      "metadata": {
        "colab": {
          "base_uri": "https://localhost:8080/"
        },
        "id": "1qGBAVeEFKuo",
        "outputId": "7bdbe8bf-2172-4fca-fa80-bf0e6d782a11"
      },
      "execution_count": null,
      "outputs": [
        {
          "output_type": "execute_result",
          "data": {
            "text/plain": [
              "array([[ 1.,  2.],\n",
              "       [ 3.,  4.],\n",
              "       [ 5., 10.],\n",
              "       [20., 30.],\n",
              "       [40., 50.]])"
            ]
          },
          "metadata": {},
          "execution_count": 43
        }
      ]
    },
    {
      "cell_type": "code",
      "source": [
        "array_float * array_float"
      ],
      "metadata": {
        "colab": {
          "base_uri": "https://localhost:8080/"
        },
        "id": "AL4IA6UdG-60",
        "outputId": "e4847c85-0811-4efa-b69a-9d3d810fb3ce"
      },
      "execution_count": null,
      "outputs": [
        {
          "output_type": "execute_result",
          "data": {
            "text/plain": [
              "array([[1.0e+00, 4.0e+00, 9.0e+00, 1.6e+01, 2.5e+01],\n",
              "       [1.0e+02, 4.0e+02, 9.0e+02, 1.6e+03, 2.5e+03]])"
            ]
          },
          "metadata": {},
          "execution_count": 44
        }
      ]
    },
    {
      "cell_type": "code",
      "source": [
        "np.zeros([3,3],dtype=int)\n",
        "np.ones([3,3],dtype=int)"
      ],
      "metadata": {
        "colab": {
          "base_uri": "https://localhost:8080/"
        },
        "id": "WAZCEfzUG4Yc",
        "outputId": "bed1cc80-2b9c-442d-f123-ee4274278636"
      },
      "execution_count": null,
      "outputs": [
        {
          "output_type": "execute_result",
          "data": {
            "text/plain": [
              "array([[1, 1, 1],\n",
              "       [1, 1, 1],\n",
              "       [1, 1, 1]])"
            ]
          },
          "metadata": {},
          "execution_count": 46
        }
      ]
    },
    {
      "cell_type": "markdown",
      "source": [
        "### Creating array from exsisting daa"
      ],
      "metadata": {
        "id": "XBSHl46GL22P"
      }
    },
    {
      "cell_type": "code",
      "source": [
        "x1 = ([0,0],[1,1],[2,2])\n",
        "a1 = np.asarray(x1,dtype = int) # asarray()\n",
        "type(a1)"
      ],
      "metadata": {
        "colab": {
          "base_uri": "https://localhost:8080/"
        },
        "id": "ScEppYjfLG2F",
        "outputId": "8c265b38-f9a1-41cf-835d-b1bfe60de853"
      },
      "execution_count": null,
      "outputs": [
        {
          "output_type": "execute_result",
          "data": {
            "text/plain": [
              "numpy.ndarray"
            ]
          },
          "metadata": {},
          "execution_count": 55
        }
      ]
    },
    {
      "cell_type": "code",
      "source": [
        "a2 = np.array(x1,dtype = int) # array()\n",
        "type(a2)"
      ],
      "metadata": {
        "colab": {
          "base_uri": "https://localhost:8080/"
        },
        "id": "05zBfxTWLleh",
        "outputId": "ca71b6b3-ba5c-4e2a-b761-edc1d7d1d68c"
      },
      "execution_count": null,
      "outputs": [
        {
          "output_type": "execute_result",
          "data": {
            "text/plain": [
              "numpy.ndarray"
            ]
          },
          "metadata": {},
          "execution_count": 54
        }
      ]
    },
    {
      "cell_type": "markdown",
      "source": [
        "### Array from numerical ranges"
      ],
      "metadata": {
        "id": "wcb_mQjML8M2"
      }
    },
    {
      "cell_type": "code",
      "source": [
        "np.arange(0,20,3)"
      ],
      "metadata": {
        "colab": {
          "base_uri": "https://localhost:8080/"
        },
        "id": "FAYOHCN4L0b9",
        "outputId": "bb2d463d-9baa-4c08-fde3-874db16ff83e"
      },
      "execution_count": null,
      "outputs": [
        {
          "output_type": "execute_result",
          "data": {
            "text/plain": [
              "array([ 0,  3,  6,  9, 12, 15, 18])"
            ]
          },
          "metadata": {},
          "execution_count": 56
        }
      ]
    },
    {
      "cell_type": "code",
      "source": [
        "np.linspace(1,10,4) # Eqaually dividing range by 3rd argument"
      ],
      "metadata": {
        "colab": {
          "base_uri": "https://localhost:8080/"
        },
        "id": "6jJNnve9MTzB",
        "outputId": "65bcfb10-eda5-49e9-ddba-11b241b9daf4"
      },
      "execution_count": null,
      "outputs": [
        {
          "output_type": "execute_result",
          "data": {
            "text/plain": [
              "array([ 1.,  4.,  7., 10.])"
            ]
          },
          "metadata": {},
          "execution_count": 60
        }
      ]
    },
    {
      "cell_type": "markdown",
      "source": [
        "#### Slicing"
      ],
      "metadata": {
        "id": "QgBpj60eMumx"
      }
    },
    {
      "cell_type": "code",
      "source": [
        "list1= np.arange(10)\n",
        "res = slice(2,9,2)\n",
        "type(res)"
      ],
      "metadata": {
        "colab": {
          "base_uri": "https://localhost:8080/"
        },
        "id": "3WotqXQkMwbs",
        "outputId": "ffceba42-4adb-4113-a155-6c27ce1a2197"
      },
      "execution_count": null,
      "outputs": [
        {
          "output_type": "execute_result",
          "data": {
            "text/plain": [
              "slice"
            ]
          },
          "metadata": {},
          "execution_count": 64
        }
      ]
    },
    {
      "cell_type": "code",
      "source": [
        "list1\n"
      ],
      "metadata": {
        "colab": {
          "base_uri": "https://localhost:8080/"
        },
        "id": "PoAKJclWN2ik",
        "outputId": "0932a662-3bc4-42ea-dd54-4ab939c22ba0"
      },
      "execution_count": null,
      "outputs": [
        {
          "output_type": "execute_result",
          "data": {
            "text/plain": [
              "array([0, 1, 2, 3, 4, 5, 6, 7, 8, 9])"
            ]
          },
          "metadata": {},
          "execution_count": 67
        }
      ]
    },
    {
      "cell_type": "code",
      "source": [
        "list1[res]"
      ],
      "metadata": {
        "colab": {
          "base_uri": "https://localhost:8080/"
        },
        "id": "9JsdmhoCNxl3",
        "outputId": "605ef024-f60d-4155-fe8a-47c0fc3b5512"
      },
      "execution_count": null,
      "outputs": [
        {
          "output_type": "execute_result",
          "data": {
            "text/plain": [
              "array([2, 4, 6, 8])"
            ]
          },
          "metadata": {},
          "execution_count": 65
        }
      ]
    },
    {
      "cell_type": "code",
      "source": [
        "list1[2:9:2] # Similar funcionality like Slicing"
      ],
      "metadata": {
        "colab": {
          "base_uri": "https://localhost:8080/"
        },
        "id": "OBJgDmGoOB7L",
        "outputId": "175e15f9-cfab-472a-df2e-4cd667f81bed"
      },
      "execution_count": null,
      "outputs": [
        {
          "output_type": "execute_result",
          "data": {
            "text/plain": [
              "array([2, 4, 6, 8])"
            ]
          },
          "metadata": {},
          "execution_count": 68
        }
      ]
    },
    {
      "cell_type": "code",
      "source": [
        "array7 = np.array([ [ [1,2,3,4,5],\n",
        "                      [4,5,6,7,8] ] ,\n",
        "                   \n",
        "                    [ [1,3,5,7,9],\n",
        "                      [4,4,4,4,5] ]  ,\n",
        "                   \n",
        "                    [ [1,3,5,7,9],\n",
        "                      [4,4,4,4,5] ]    ]  )\n",
        "print(array7.shape)\n",
        "print(array7.ndim)\n",
        "print(array7)\n",
        "print(array7[0])\n",
        "print(array7[0][0])\n",
        "len(array7[0][0])\n",
        "print(array7[0][1])\n"
      ],
      "metadata": {
        "colab": {
          "base_uri": "https://localhost:8080/"
        },
        "id": "n75MY8rkPWPJ",
        "outputId": "d297481b-ac9d-4efd-b3cb-aa40316c093c"
      },
      "execution_count": null,
      "outputs": [
        {
          "output_type": "stream",
          "name": "stdout",
          "text": [
            "(3, 2, 5)\n",
            "3\n",
            "[[[1 2 3 4 5]\n",
            "  [4 5 6 7 8]]\n",
            "\n",
            " [[1 3 5 7 9]\n",
            "  [4 4 4 4 5]]\n",
            "\n",
            " [[1 3 5 7 9]\n",
            "  [4 4 4 4 5]]]\n",
            "[[1 2 3 4 5]\n",
            " [4 5 6 7 8]]\n",
            "[1 2 3 4 5]\n",
            "[4 5 6 7 8]\n"
          ]
        }
      ]
    },
    {
      "cell_type": "markdown",
      "source": [
        "### Integer Indexing"
      ],
      "metadata": {
        "id": "7q5OfpTbZmYq"
      }
    },
    {
      "cell_type": "code",
      "source": [
        "a = np.array([ [1,2] ,[3,4] , [5,6]])\n",
        "b = a [ [0,1,2] , [0,0,0] ] # a [  [rows],[cols]  ]"
      ],
      "metadata": {
        "id": "2IaoF-_iZpF4"
      },
      "execution_count": null,
      "outputs": []
    },
    {
      "cell_type": "code",
      "source": [
        "a"
      ],
      "metadata": {
        "colab": {
          "base_uri": "https://localhost:8080/"
        },
        "id": "jfc8QJRzabZa",
        "outputId": "d9755b5d-31b2-4e66-9465-0ffb23212a4d"
      },
      "execution_count": null,
      "outputs": [
        {
          "output_type": "execute_result",
          "data": {
            "text/plain": [
              "array([[1, 2],\n",
              "       [3, 4],\n",
              "       [5, 6]])"
            ]
          },
          "metadata": {},
          "execution_count": 87
        }
      ]
    },
    {
      "cell_type": "code",
      "source": [
        "b"
      ],
      "metadata": {
        "colab": {
          "base_uri": "https://localhost:8080/"
        },
        "id": "GfSCavxIafsU",
        "outputId": "cffcfca5-f396-46d7-dd36-46ef0ab9ac65"
      },
      "execution_count": null,
      "outputs": [
        {
          "output_type": "execute_result",
          "data": {
            "text/plain": [
              "array([1, 3, 5])"
            ]
          },
          "metadata": {},
          "execution_count": 90
        }
      ]
    },
    {
      "cell_type": "code",
      "source": [
        "b = a [ [0,1] , [0,1] ] # hardcode rows + hardcode cols\n",
        "b"
      ],
      "metadata": {
        "colab": {
          "base_uri": "https://localhost:8080/"
        },
        "id": "gba4cDpGbPgJ",
        "outputId": "6cf786e1-b7c4-4815-fecc-2404a9e9dac0"
      },
      "execution_count": null,
      "outputs": [
        {
          "output_type": "execute_result",
          "data": {
            "text/plain": [
              "array([1, 4])"
            ]
          },
          "metadata": {},
          "execution_count": 94
        }
      ]
    },
    {
      "cell_type": "code",
      "source": [
        "data = np.array( [ [0,1,2],[3,4,5],[6,7,8],[9,10,11]])\n",
        "data.shape\n",
        "data.ndim\n",
        "\n",
        "data[ 1:4,1:3] # slice + slice"
      ],
      "metadata": {
        "colab": {
          "base_uri": "https://localhost:8080/"
        },
        "id": "iAz_dOCabaVM",
        "outputId": "30ef9cf5-4a02-4956-cd42-79781cb04d13"
      },
      "execution_count": null,
      "outputs": [
        {
          "output_type": "execute_result",
          "data": {
            "text/plain": [
              "array([[ 4,  5],\n",
              "       [ 7,  8],\n",
              "       [10, 11]])"
            ]
          },
          "metadata": {},
          "execution_count": 104
        }
      ]
    },
    {
      "cell_type": "code",
      "source": [
        "data[1:4 , [1,2]] # slice + hardcode cols"
      ],
      "metadata": {
        "colab": {
          "base_uri": "https://localhost:8080/"
        },
        "id": "N58LbNDUd47m",
        "outputId": "c17e5a7d-c396-41e5-a7bb-eb022d35d074"
      },
      "execution_count": null,
      "outputs": [
        {
          "output_type": "execute_result",
          "data": {
            "text/plain": [
              "array([[ 4,  5],\n",
              "       [ 7,  8],\n",
              "       [10, 11]])"
            ]
          },
          "metadata": {},
          "execution_count": 105
        }
      ]
    },
    {
      "cell_type": "code",
      "source": [
        "data[~np.isnan(data)] # result will be flattened , if np.nan() is applied"
      ],
      "metadata": {
        "colab": {
          "base_uri": "https://localhost:8080/"
        },
        "id": "un-rzJIkkJKG",
        "outputId": "a3a0566f-b506-4ac8-e8ca-8c7079023d4a"
      },
      "execution_count": null,
      "outputs": [
        {
          "output_type": "execute_result",
          "data": {
            "text/plain": [
              "array([ 0,  1,  2,  3,  4,  5,  6,  7,  8,  9, 10, 11])"
            ]
          },
          "metadata": {},
          "execution_count": 111
        }
      ]
    },
    {
      "cell_type": "markdown",
      "source": [
        "## NUMPY Operations"
      ],
      "metadata": {
        "id": "phu7kXHgE9O1"
      }
    },
    {
      "cell_type": "code",
      "source": [
        "x =  np.array ( [[0,1,2] , [3,4,5] , [6,7,8]] )\n",
        "y =  np.array ( [[0,1,2] , [3,4,5] , [6,7,8]] )\n",
        "\n",
        "x+y"
      ],
      "metadata": {
        "colab": {
          "base_uri": "https://localhost:8080/"
        },
        "id": "g8jd3dYJE-o4",
        "outputId": "59d7bda1-1a9f-4d81-8d1f-99476aecdcc4"
      },
      "execution_count": 5,
      "outputs": [
        {
          "output_type": "execute_result",
          "data": {
            "text/plain": [
              "array([[ 0,  2,  4],\n",
              "       [ 6,  8, 10],\n",
              "       [12, 14, 16]])"
            ]
          },
          "metadata": {},
          "execution_count": 5
        }
      ]
    },
    {
      "cell_type": "markdown",
      "source": [
        "## Broadcasting \n",
        "\n",
        "scalar y=5 is added with Numpy array x"
      ],
      "metadata": {
        "id": "Nf7fTMgpFv3V"
      }
    },
    {
      "cell_type": "code",
      "source": [
        "x =  np.array ( [[0,1,2] , [3,4,5] , [6,7,8]] )\n",
        "y=5\n",
        "\n",
        "x + y"
      ],
      "metadata": {
        "colab": {
          "base_uri": "https://localhost:8080/"
        },
        "id": "hKcRmXW8FqAs",
        "outputId": "69fc3e7c-c380-45a1-91bf-f18af817d2fc"
      },
      "execution_count": 6,
      "outputs": [
        {
          "output_type": "execute_result",
          "data": {
            "text/plain": [
              "array([[ 5,  6,  7],\n",
              "       [ 8,  9, 10],\n",
              "       [11, 12, 13]])"
            ]
          },
          "metadata": {},
          "execution_count": 6
        }
      ]
    },
    {
      "cell_type": "code",
      "source": [
        "x * y"
      ],
      "metadata": {
        "colab": {
          "base_uri": "https://localhost:8080/"
        },
        "id": "SqjpGWMYGHqS",
        "outputId": "428686c7-7f7c-421d-bff2-67b0e3517f1c"
      },
      "execution_count": 7,
      "outputs": [
        {
          "output_type": "execute_result",
          "data": {
            "text/plain": [
              "array([[ 0,  5, 10],\n",
              "       [15, 20, 25],\n",
              "       [30, 35, 40]])"
            ]
          },
          "metadata": {},
          "execution_count": 7
        }
      ]
    },
    {
      "cell_type": "code",
      "source": [
        "x - y "
      ],
      "metadata": {
        "colab": {
          "base_uri": "https://localhost:8080/"
        },
        "id": "-H5Sl_x1GMjf",
        "outputId": "816e1406-4a3e-43e6-a46c-470c0c9ac17a"
      },
      "execution_count": 8,
      "outputs": [
        {
          "output_type": "execute_result",
          "data": {
            "text/plain": [
              "array([[-5, -4, -3],\n",
              "       [-2, -1,  0],\n",
              "       [ 1,  2,  3]])"
            ]
          },
          "metadata": {},
          "execution_count": 8
        }
      ]
    },
    {
      "cell_type": "code",
      "source": [
        "a = np.array ( [[10,1,2] , [3,4,5] , [6,7,np.NAN]] )\n",
        "b = np.array ( [[10,1,2] , [3,4,5] , [6,7,8]] )\n",
        "\n",
        "a + b \n",
        "a - b\n",
        "a * b\n",
        "a / b\n",
        "a % b\n",
        "\n",
        "#a[np.nan_to_num]\n",
        "\n"
      ],
      "metadata": {
        "colab": {
          "base_uri": "https://localhost:8080/"
        },
        "id": "VBt3ha3jHze3",
        "outputId": "73ebdb51-2d98-4f17-af81-515075766fbd"
      },
      "execution_count": 55,
      "outputs": [
        {
          "output_type": "stream",
          "name": "stderr",
          "text": [
            "/usr/local/lib/python3.7/dist-packages/ipykernel_launcher.py:8: RuntimeWarning: invalid value encountered in remainder\n",
            "  \n"
          ]
        },
        {
          "output_type": "execute_result",
          "data": {
            "text/plain": [
              "array([[ 0.,  0.,  0.],\n",
              "       [ 0.,  0.,  0.],\n",
              "       [ 0.,  0., nan]])"
            ]
          },
          "metadata": {},
          "execution_count": 55
        }
      ]
    },
    {
      "cell_type": "markdown",
      "source": [
        "## Filtering NAN"
      ],
      "metadata": {
        "id": "yPUP36aVLtV9"
      }
    },
    {
      "cell_type": "code",
      "source": [
        "a[~np.isnan(a)] # flattens the array\n",
        "\n",
        "np.nan_to_num(a,nan = 0) # Does not Flatten , repalce NAN with "
      ],
      "metadata": {
        "colab": {
          "base_uri": "https://localhost:8080/"
        },
        "id": "Y7rH___FLxPw",
        "outputId": "b0ce9db2-827a-48bc-955a-c3ef602476c5"
      },
      "execution_count": 54,
      "outputs": [
        {
          "output_type": "execute_result",
          "data": {
            "text/plain": [
              "array([[10.,  1.,  2.],\n",
              "       [ 3.,  4.,  5.],\n",
              "       [ 6.,  7.,  0.]])"
            ]
          },
          "metadata": {},
          "execution_count": 54
        }
      ]
    },
    {
      "cell_type": "markdown",
      "source": [
        "## Transpose "
      ],
      "metadata": {
        "id": "2wxo5yUlJpC6"
      }
    },
    {
      "cell_type": "code",
      "source": [
        "a.T"
      ],
      "metadata": {
        "colab": {
          "base_uri": "https://localhost:8080/"
        },
        "id": "y1sTuhbzJfDY",
        "outputId": "c095ada9-55e9-42d3-8a15-f95c4426d1f4"
      },
      "execution_count": 32,
      "outputs": [
        {
          "output_type": "execute_result",
          "data": {
            "text/plain": [
              "array([[10,  3,  6],\n",
              "       [ 1,  4,  7],\n",
              "       [ 2,  5,  8]])"
            ]
          },
          "metadata": {},
          "execution_count": 32
        }
      ]
    },
    {
      "cell_type": "markdown",
      "source": [
        "## Flatten\n",
        " Converts 2D to 1D"
      ],
      "metadata": {
        "id": "kf76jN1XJ10V"
      }
    },
    {
      "cell_type": "code",
      "source": [
        "a.flatten()"
      ],
      "metadata": {
        "colab": {
          "base_uri": "https://localhost:8080/"
        },
        "id": "KLn2IcUhJ3L5",
        "outputId": "8a5c2744-1c9b-4cbf-efea-e3665c347e5f"
      },
      "execution_count": 35,
      "outputs": [
        {
          "output_type": "execute_result",
          "data": {
            "text/plain": [
              "array([10,  1,  2,  3,  4,  5,  6,  7,  8])"
            ]
          },
          "metadata": {},
          "execution_count": 35
        }
      ]
    },
    {
      "cell_type": "markdown",
      "source": [
        "## Concatenate"
      ],
      "metadata": {
        "id": "3DO-TlcLJ_7m"
      }
    },
    {
      "cell_type": "code",
      "source": [
        "np.concatenate((a,b),axis=0)"
      ],
      "metadata": {
        "colab": {
          "base_uri": "https://localhost:8080/"
        },
        "id": "ZEijKfMIKB5O",
        "outputId": "a1c07af2-f53b-4dc3-c850-f4e3f1ca6f9a"
      },
      "execution_count": 112,
      "outputs": [
        {
          "output_type": "execute_result",
          "data": {
            "text/plain": [
              "array([[10,  1,  2],\n",
              "       [ 3,  4,  5],\n",
              "       [ 6,  7,  8],\n",
              "       [10,  1,  2],\n",
              "       [ 3,  4,  5],\n",
              "       [ 6,  7,  8]])"
            ]
          },
          "metadata": {},
          "execution_count": 112
        }
      ]
    },
    {
      "cell_type": "code",
      "source": [
        "np.concatenate((a,b),axis=1)"
      ],
      "metadata": {
        "colab": {
          "base_uri": "https://localhost:8080/"
        },
        "id": "S8BV-JsxUKSA",
        "outputId": "1ba80abb-0094-47da-c104-40ca968b0114"
      },
      "execution_count": 105,
      "outputs": [
        {
          "output_type": "execute_result",
          "data": {
            "text/plain": [
              "array([[10,  1,  2, 10,  1,  2],\n",
              "       [ 3,  4,  5,  3,  4,  5],\n",
              "       [ 6,  7,  8,  6,  7,  8]])"
            ]
          },
          "metadata": {},
          "execution_count": 105
        }
      ]
    },
    {
      "cell_type": "markdown",
      "source": [
        "## Stack"
      ],
      "metadata": {
        "id": "vNVaBDujKkGF"
      }
    },
    {
      "cell_type": "code",
      "source": [
        "x =  np.array ([10,1,2])\n",
        "y =  np.array ([10,1,2])\n",
        "z =  np.array ([10,1,2])\n",
        "\n",
        "print(*x)\n",
        "print(*y)\n",
        "\n",
        "print(np.stack((x,y,z),axis =0))\n",
        "print(np.stack((x,y,z),axis =1))"
      ],
      "metadata": {
        "colab": {
          "base_uri": "https://localhost:8080/"
        },
        "id": "EsMCxN85KlT0",
        "outputId": "fbc9a005-0bde-4a6c-9276-73a1ef1f3dc9"
      },
      "execution_count": 108,
      "outputs": [
        {
          "output_type": "stream",
          "name": "stdout",
          "text": [
            "10 1 2\n",
            "10 1 2\n",
            "[[10  1  2]\n",
            " [10  1  2]\n",
            " [10  1  2]]\n",
            "[[10 10 10]\n",
            " [ 1  1  1]\n",
            " [ 2  2  2]]\n"
          ]
        }
      ]
    },
    {
      "cell_type": "code",
      "source": [
        "\n",
        "a = np.array ( [[10,1,2] , [3,4,5] , [6,7,8]] )\n",
        "b = np.array ( [[10,1,2] , [3,4,5] , [6,7,8]] )\n",
        "\n",
        "print(*a)\n",
        "print(*b)\n",
        "\n",
        "print(np.stack((a,b),axis =0))\n",
        "print(np.stack((a,b),axis =1))"
      ],
      "metadata": {
        "colab": {
          "base_uri": "https://localhost:8080/"
        },
        "id": "EELhvaGTUTK_",
        "outputId": "e82c617b-2b2c-4cf1-878a-b9232b6dd550"
      },
      "execution_count": 111,
      "outputs": [
        {
          "output_type": "stream",
          "name": "stdout",
          "text": [
            "[10  1  2] [3 4 5] [6 7 8]\n",
            "[10  1  2] [3 4 5] [6 7 8]\n",
            "[[[10  1  2]\n",
            "  [ 3  4  5]\n",
            "  [ 6  7  8]]\n",
            "\n",
            " [[10  1  2]\n",
            "  [ 3  4  5]\n",
            "  [ 6  7  8]]]\n",
            "[[[10  1  2]\n",
            "  [10  1  2]]\n",
            "\n",
            " [[ 3  4  5]\n",
            "  [ 3  4  5]]\n",
            "\n",
            " [[ 6  7  8]\n",
            "  [ 6  7  8]]]\n"
          ]
        }
      ]
    },
    {
      "cell_type": "code",
      "source": [
        "np.stack((a,b),axis =0)"
      ],
      "metadata": {
        "colab": {
          "base_uri": "https://localhost:8080/"
        },
        "id": "2zLk0kjtO0ga",
        "outputId": "428cbf75-aab8-46f9-b059-e56a775c6596"
      },
      "execution_count": 68,
      "outputs": [
        {
          "output_type": "execute_result",
          "data": {
            "text/plain": [
              "array([[[10,  1,  2],\n",
              "        [ 3,  4,  5],\n",
              "        [ 6,  7,  8]],\n",
              "\n",
              "       [[10,  1,  2],\n",
              "        [ 3,  4,  5],\n",
              "        [ 6,  7,  8]]])"
            ]
          },
          "metadata": {},
          "execution_count": 68
        }
      ]
    },
    {
      "cell_type": "code",
      "source": [
        "np.vstack((x,y))"
      ],
      "metadata": {
        "colab": {
          "base_uri": "https://localhost:8080/"
        },
        "id": "gEAfY9zaQPQj",
        "outputId": "00672b15-bc4a-463c-f351-f581cbef3952"
      },
      "execution_count": 101,
      "outputs": [
        {
          "output_type": "execute_result",
          "data": {
            "text/plain": [
              "array([[10,  1,  2],\n",
              "       [10,  1,  2]])"
            ]
          },
          "metadata": {},
          "execution_count": 101
        }
      ]
    },
    {
      "cell_type": "code",
      "source": [
        "np.hstack((x,y)) # Flattens array"
      ],
      "metadata": {
        "colab": {
          "base_uri": "https://localhost:8080/"
        },
        "id": "u_EdjWb5QlYV",
        "outputId": "0b16ec83-bb54-488a-c3ed-14fcf07c3bfd"
      },
      "execution_count": 102,
      "outputs": [
        {
          "output_type": "execute_result",
          "data": {
            "text/plain": [
              "array([10,  1,  2, 10,  1,  2])"
            ]
          },
          "metadata": {},
          "execution_count": 102
        }
      ]
    },
    {
      "cell_type": "code",
      "source": [
        "m = np.arange(10)\n",
        "print(np.split(m,2))\n"
      ],
      "metadata": {
        "colab": {
          "base_uri": "https://localhost:8080/"
        },
        "id": "usfERNMQRMZs",
        "outputId": "b9223540-efcf-4ebe-db53-9d29d0cc9ad6"
      },
      "execution_count": 89,
      "outputs": [
        {
          "output_type": "stream",
          "name": "stdout",
          "text": [
            "[array([0, 1, 2, 3, 4]), array([5, 6, 7, 8, 9])]\n"
          ]
        }
      ]
    },
    {
      "cell_type": "code",
      "source": [
        "np.append(m, [1,2,3],axis =0)\n",
        "np.append(a , [[1,2,3],[4,5,6],[7,8,9]],axis =0)\n",
        "np.append(a , [[1,2,3],[4,5,6],[7,8,9]],axis =1)"
      ],
      "metadata": {
        "colab": {
          "base_uri": "https://localhost:8080/"
        },
        "id": "9CHvBToJRmiA",
        "outputId": "07d7eb15-504c-4f5e-9235-4829af291136"
      },
      "execution_count": 100,
      "outputs": [
        {
          "output_type": "execute_result",
          "data": {
            "text/plain": [
              "array([[10,  1,  2,  1,  2,  3],\n",
              "       [ 3,  4,  5,  4,  5,  6],\n",
              "       [ 6,  7,  8,  7,  8,  9]])"
            ]
          },
          "metadata": {},
          "execution_count": 100
        }
      ]
    },
    {
      "cell_type": "code",
      "source": [
        "z = np.array([[10,1,2] , [3,4,5] , [6,7,8]])\n",
        "z"
      ],
      "metadata": {
        "colab": {
          "base_uri": "https://localhost:8080/"
        },
        "id": "6Gz4EZhhSIfy",
        "outputId": "60f9f90b-6505-4e88-89d8-f965c8fb7c98"
      },
      "execution_count": 141,
      "outputs": [
        {
          "output_type": "execute_result",
          "data": {
            "text/plain": [
              "array([[10,  1,  2],\n",
              "       [ 3,  4,  5],\n",
              "       [ 6,  7,  8]])"
            ]
          },
          "metadata": {},
          "execution_count": 141
        }
      ]
    },
    {
      "cell_type": "code",
      "source": [
        "np.insert(z,0,[22,22,22],axis=1)"
      ],
      "metadata": {
        "colab": {
          "base_uri": "https://localhost:8080/"
        },
        "id": "V4zG3qvAaqVW",
        "outputId": "ae366675-4a96-4913-f977-25da1c46cff3"
      },
      "execution_count": 142,
      "outputs": [
        {
          "output_type": "execute_result",
          "data": {
            "text/plain": [
              "array([[22, 10,  1,  2],\n",
              "       [22,  3,  4,  5],\n",
              "       [22,  6,  7,  8]])"
            ]
          },
          "metadata": {},
          "execution_count": 142
        }
      ]
    },
    {
      "cell_type": "code",
      "source": [
        "z"
      ],
      "metadata": {
        "colab": {
          "base_uri": "https://localhost:8080/"
        },
        "id": "S37KSKEGbwTj",
        "outputId": "5f47859f-38ee-4e39-d32f-75fab42aa4a8"
      },
      "execution_count": 145,
      "outputs": [
        {
          "output_type": "execute_result",
          "data": {
            "text/plain": [
              "array([[10,  1,  2],\n",
              "       [ 3,  4,  5],\n",
              "       [ 6,  7,  8]])"
            ]
          },
          "metadata": {},
          "execution_count": 145
        }
      ]
    },
    {
      "cell_type": "code",
      "source": [
        "np.delete(z,1,axis=1)"
      ],
      "metadata": {
        "colab": {
          "base_uri": "https://localhost:8080/"
        },
        "id": "IpTzG-qAbZPk",
        "outputId": "8d86d11c-8908-4693-c72f-70c9dacd4f9f"
      },
      "execution_count": 146,
      "outputs": [
        {
          "output_type": "execute_result",
          "data": {
            "text/plain": [
              "array([[10,  2],\n",
              "       [ 3,  5],\n",
              "       [ 6,  8]])"
            ]
          },
          "metadata": {},
          "execution_count": 146
        }
      ]
    },
    {
      "cell_type": "code",
      "source": [
        "array = [1,1,1,1,2,2]\n",
        "np.unique(array)"
      ],
      "metadata": {
        "colab": {
          "base_uri": "https://localhost:8080/"
        },
        "id": "9a_LdocFeHfs",
        "outputId": "a97a32f8-a247-492a-a76e-f26bf6b181ba"
      },
      "execution_count": 147,
      "outputs": [
        {
          "output_type": "execute_result",
          "data": {
            "text/plain": [
              "array([1, 2])"
            ]
          },
          "metadata": {},
          "execution_count": 147
        }
      ]
    },
    {
      "cell_type": "code",
      "source": [
        "x1 = np.arange(9).reshape((3, 3))\n",
        "x2 = np.arange(3)\n",
        "print(*x1)\n",
        "print(*x2)\n",
        "x1 + x2"
      ],
      "metadata": {
        "colab": {
          "base_uri": "https://localhost:8080/"
        },
        "id": "ARD3PEIkeZ4C",
        "outputId": "d0325b72-5d26-4086-8ba5-93d7b85b3ae7"
      },
      "execution_count": 160,
      "outputs": [
        {
          "output_type": "stream",
          "name": "stdout",
          "text": [
            "[0 1 2] [3 4 5] [6 7 8]\n",
            "0 1 2\n"
          ]
        },
        {
          "output_type": "execute_result",
          "data": {
            "text/plain": [
              "array([[ 0,  2,  4],\n",
              "       [ 3,  5,  7],\n",
              "       [ 6,  8, 10]])"
            ]
          },
          "metadata": {},
          "execution_count": 160
        }
      ]
    },
    {
      "cell_type": "code",
      "source": [
        "np.add(x1,x2)"
      ],
      "metadata": {
        "colab": {
          "base_uri": "https://localhost:8080/"
        },
        "id": "0egWdYRLe2Po",
        "outputId": "bc5e0787-8fb5-42b2-ca40-fce9240b9717"
      },
      "execution_count": 153,
      "outputs": [
        {
          "output_type": "execute_result",
          "data": {
            "text/plain": [
              "array([[ 0.,  2.,  4.],\n",
              "       [ 3.,  5.,  7.],\n",
              "       [ 6.,  8., 10.]])"
            ]
          },
          "metadata": {},
          "execution_count": 153
        }
      ]
    },
    {
      "cell_type": "code",
      "source": [
        "np.subtract(x1,x2)"
      ],
      "metadata": {
        "colab": {
          "base_uri": "https://localhost:8080/"
        },
        "id": "2UUBTM9zeckC",
        "outputId": "8b056537-4c5a-4308-9010-776bcb05bc08"
      },
      "execution_count": 155,
      "outputs": [
        {
          "output_type": "execute_result",
          "data": {
            "text/plain": [
              "array([[0., 0., 0.],\n",
              "       [3., 3., 3.],\n",
              "       [6., 6., 6.]])"
            ]
          },
          "metadata": {},
          "execution_count": 155
        }
      ]
    },
    {
      "cell_type": "code",
      "source": [
        "np.multiply(x1,x2)"
      ],
      "metadata": {
        "colab": {
          "base_uri": "https://localhost:8080/"
        },
        "id": "7eDAmbqdfESq",
        "outputId": "4bb6046c-0b54-45d2-c4a6-ac5f02a6adae"
      },
      "execution_count": 156,
      "outputs": [
        {
          "output_type": "execute_result",
          "data": {
            "text/plain": [
              "array([[ 0.,  1.,  4.],\n",
              "       [ 0.,  4., 10.],\n",
              "       [ 0.,  7., 16.]])"
            ]
          },
          "metadata": {},
          "execution_count": 156
        }
      ]
    },
    {
      "cell_type": "code",
      "source": [
        "np.divide(x1,x2)"
      ],
      "metadata": {
        "colab": {
          "base_uri": "https://localhost:8080/"
        },
        "id": "a_NeI0ZIfIhz",
        "outputId": "7ad0a81c-787c-49b8-c167-cb384432a7f7"
      },
      "execution_count": 161,
      "outputs": [
        {
          "output_type": "stream",
          "name": "stderr",
          "text": [
            "/usr/local/lib/python3.7/dist-packages/ipykernel_launcher.py:1: RuntimeWarning: divide by zero encountered in true_divide\n",
            "  \"\"\"Entry point for launching an IPython kernel.\n",
            "/usr/local/lib/python3.7/dist-packages/ipykernel_launcher.py:1: RuntimeWarning: invalid value encountered in true_divide\n",
            "  \"\"\"Entry point for launching an IPython kernel.\n"
          ]
        },
        {
          "output_type": "execute_result",
          "data": {
            "text/plain": [
              "array([[nan, 1. , 1. ],\n",
              "       [inf, 4. , 2.5],\n",
              "       [inf, 7. , 4. ]])"
            ]
          },
          "metadata": {},
          "execution_count": 161
        }
      ]
    },
    {
      "cell_type": "code",
      "source": [
        "np.power(x1,2)"
      ],
      "metadata": {
        "colab": {
          "base_uri": "https://localhost:8080/"
        },
        "id": "G6HnhCQ0fkl2",
        "outputId": "0110d00a-44da-4a86-e535-6c6cdbc4c4c8"
      },
      "execution_count": 162,
      "outputs": [
        {
          "output_type": "execute_result",
          "data": {
            "text/plain": [
              "array([[ 0,  1,  4],\n",
              "       [ 9, 16, 25],\n",
              "       [36, 49, 64]])"
            ]
          },
          "metadata": {},
          "execution_count": 162
        }
      ]
    },
    {
      "cell_type": "code",
      "source": [
        "x1 = np.arange(16).reshape((4,4))\n",
        "x1"
      ],
      "metadata": {
        "colab": {
          "base_uri": "https://localhost:8080/"
        },
        "id": "oR0c-BqxgMyP",
        "outputId": "899a32e3-bed0-45be-c321-2e385d3806af"
      },
      "execution_count": 169,
      "outputs": [
        {
          "output_type": "execute_result",
          "data": {
            "text/plain": [
              "array([[ 0,  1,  2,  3],\n",
              "       [ 4,  5,  6,  7],\n",
              "       [ 8,  9, 10, 11],\n",
              "       [12, 13, 14, 15]])"
            ]
          },
          "metadata": {},
          "execution_count": 169
        }
      ]
    },
    {
      "cell_type": "code",
      "source": [
        "np.percentile(x1,50,axis=0)"
      ],
      "metadata": {
        "colab": {
          "base_uri": "https://localhost:8080/"
        },
        "id": "g9rRYRIIf-6W",
        "outputId": "b84f1f5e-2ede-416c-a601-4fe5b3819d04"
      },
      "execution_count": 170,
      "outputs": [
        {
          "output_type": "execute_result",
          "data": {
            "text/plain": [
              "array([6., 7., 8., 9.])"
            ]
          },
          "metadata": {},
          "execution_count": 170
        }
      ]
    },
    {
      "cell_type": "code",
      "source": [
        "np.percentile(x1,50,axis=1)"
      ],
      "metadata": {
        "colab": {
          "base_uri": "https://localhost:8080/"
        },
        "id": "KVhKPR2qgJPy",
        "outputId": "e615ac85-801f-4e26-d28c-bde26ed06004"
      },
      "execution_count": 171,
      "outputs": [
        {
          "output_type": "execute_result",
          "data": {
            "text/plain": [
              "array([ 1.5,  5.5,  9.5, 13.5])"
            ]
          },
          "metadata": {},
          "execution_count": 171
        }
      ]
    },
    {
      "cell_type": "code",
      "source": [
        "np.mean(x1,axis=0)"
      ],
      "metadata": {
        "colab": {
          "base_uri": "https://localhost:8080/"
        },
        "id": "OZ3MFroRh18Z",
        "outputId": "82bdf83e-48a0-42aa-d668-d1c9deb35dc4"
      },
      "execution_count": 175,
      "outputs": [
        {
          "output_type": "execute_result",
          "data": {
            "text/plain": [
              "array([6., 7., 8., 9.])"
            ]
          },
          "metadata": {},
          "execution_count": 175
        }
      ]
    },
    {
      "cell_type": "code",
      "source": [
        "np.median(x1,axis=0)"
      ],
      "metadata": {
        "colab": {
          "base_uri": "https://localhost:8080/"
        },
        "id": "3bTaYzjoh57e",
        "outputId": "735f8be2-8893-4b8f-add2-66d0f212e6e0"
      },
      "execution_count": 176,
      "outputs": [
        {
          "output_type": "execute_result",
          "data": {
            "text/plain": [
              "array([6., 7., 8., 9.])"
            ]
          },
          "metadata": {},
          "execution_count": 176
        }
      ]
    },
    {
      "cell_type": "code",
      "source": [
        "np.std(x1)"
      ],
      "metadata": {
        "colab": {
          "base_uri": "https://localhost:8080/"
        },
        "id": "VZdoKsd_h90k",
        "outputId": "cf85f06b-68ba-49c4-fdf3-a1aefb76f405"
      },
      "execution_count": 174,
      "outputs": [
        {
          "output_type": "execute_result",
          "data": {
            "text/plain": [
              "4.6097722286464435"
            ]
          },
          "metadata": {},
          "execution_count": 174
        }
      ]
    },
    {
      "cell_type": "markdown",
      "source": [
        "## Pandas"
      ],
      "metadata": {
        "id": "9ZmTVe4EjIRt"
      }
    },
    {
      "cell_type": "code",
      "source": [
        "import pandas as pd"
      ],
      "metadata": {
        "id": "ussHcHmrjJxe"
      },
      "execution_count": 177,
      "outputs": []
    },
    {
      "cell_type": "code",
      "source": [
        "a = np.array([1,2,3,4,5])\n",
        "\n",
        "s = pd.Series(a)\n",
        "\n",
        "type(s)"
      ],
      "metadata": {
        "colab": {
          "base_uri": "https://localhost:8080/"
        },
        "id": "jj_MhiQDki1v",
        "outputId": "5542ea2d-a8e5-485e-f506-c4edae3bfbc7"
      },
      "execution_count": 205,
      "outputs": [
        {
          "output_type": "execute_result",
          "data": {
            "text/plain": [
              "pandas.core.series.Series"
            ]
          },
          "metadata": {},
          "execution_count": 205
        }
      ]
    },
    {
      "cell_type": "code",
      "source": [
        "s"
      ],
      "metadata": {
        "colab": {
          "base_uri": "https://localhost:8080/"
        },
        "id": "3rpYWc0Bkvt7",
        "outputId": "49ff6fa9-d50d-48f1-dbf7-df49178bf98a"
      },
      "execution_count": 188,
      "outputs": [
        {
          "output_type": "execute_result",
          "data": {
            "text/plain": [
              "0    1\n",
              "1    2\n",
              "2    3\n",
              "3    4\n",
              "4    5\n",
              "dtype: int64"
            ]
          },
          "metadata": {},
          "execution_count": 188
        }
      ]
    },
    {
      "cell_type": "code",
      "source": [
        "len(s)"
      ],
      "metadata": {
        "colab": {
          "base_uri": "https://localhost:8080/"
        },
        "id": "7_3pRDENl1rv",
        "outputId": "7c13af9d-2105-4ac8-b34f-6608704f7488"
      },
      "execution_count": 206,
      "outputs": [
        {
          "output_type": "execute_result",
          "data": {
            "text/plain": [
              "5"
            ]
          },
          "metadata": {},
          "execution_count": 206
        }
      ]
    },
    {
      "cell_type": "code",
      "source": [
        "dict_data = {1:'value1',2:'value2',3:'value3'}\n",
        "s = pd.Series(dict_data)\n",
        "s"
      ],
      "metadata": {
        "colab": {
          "base_uri": "https://localhost:8080/"
        },
        "id": "qB4-BDPJl7IH",
        "outputId": "5c7e10bb-684d-45de-9292-70dcfa3d9e2a"
      },
      "execution_count": 211,
      "outputs": [
        {
          "output_type": "execute_result",
          "data": {
            "text/plain": [
              "1    value1\n",
              "2    value2\n",
              "3    value3\n",
              "dtype: object"
            ]
          },
          "metadata": {},
          "execution_count": 211
        }
      ]
    },
    {
      "cell_type": "code",
      "source": [
        "s1 = pd.Series(dict_data,index=[3,2,1])  # Ordering gets changed using index\n",
        "s1"
      ],
      "metadata": {
        "colab": {
          "base_uri": "https://localhost:8080/"
        },
        "id": "2f_U60J0mfdk",
        "outputId": "e4bc0580-4221-4c3f-fb60-f6cccb652390"
      },
      "execution_count": 213,
      "outputs": [
        {
          "output_type": "execute_result",
          "data": {
            "text/plain": [
              "3    value3\n",
              "2    value2\n",
              "1    value1\n",
              "dtype: object"
            ]
          },
          "metadata": {},
          "execution_count": 213
        }
      ]
    },
    {
      "cell_type": "code",
      "source": [
        "print(s[:3])\n",
        "print(s[:2])"
      ],
      "metadata": {
        "colab": {
          "base_uri": "https://localhost:8080/"
        },
        "id": "AC8IAj4fopYa",
        "outputId": "eb012fac-d976-4f64-b805-54cc038dd84e"
      },
      "execution_count": 215,
      "outputs": [
        {
          "output_type": "stream",
          "name": "stdout",
          "text": [
            "1    value1\n",
            "2    value2\n",
            "3    value3\n",
            "dtype: object\n",
            "1    value1\n",
            "2    value2\n",
            "dtype: object\n"
          ]
        }
      ]
    }
  ]
}