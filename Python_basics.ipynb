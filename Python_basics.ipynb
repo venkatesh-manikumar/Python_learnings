{
  "nbformat": 4,
  "nbformat_minor": 0,
  "metadata": {
    "colab": {
      "name": "Python_basics.ipynb",
      "provenance": [],
      "collapsed_sections": []
    },
    "kernelspec": {
      "name": "python3",
      "display_name": "Python 3"
    },
    "language_info": {
      "name": "python"
    }
  },
  "cells": [
    {
      "cell_type": "markdown",
      "source": [
        ""
      ],
      "metadata": {
        "id": "BfZjAF2U_WlK"
      }
    },
    {
      "cell_type": "code",
      "source": [
        "import os\n",
        "current_cwd=os.getcwd()\n",
        "project_dir='/Assignments/Python/'\n",
        "\n",
        "if os.path.isdir(project_dir):\n",
        "  os.chdir(project_dir)\n",
        "  print(os.getcwd())\n",
        "else:\n",
        "  os.makedirs(project_dir)\n",
        "  os.chdir(project_dir)\n",
        "  print(os.getcwd())\n",
        "\n"
      ],
      "metadata": {
        "id": "XNh8k-s0MQp3",
        "colab": {
          "base_uri": "https://localhost:8080/"
        },
        "outputId": "95d68992-72eb-4c57-e76d-40086ed8668c"
      },
      "execution_count": null,
      "outputs": [
        {
          "output_type": "stream",
          "name": "stdout",
          "text": [
            "/Assignments/Python\n"
          ]
        }
      ]
    },
    {
      "cell_type": "markdown",
      "source": [
        ""
      ],
      "metadata": {
        "id": "vkSSbNad6LEp"
      }
    },
    {
      "cell_type": "code",
      "source": [
        "a=100;\n",
        "b=200.10;\n",
        "c='STRING';"
      ],
      "metadata": {
        "id": "DcTDNbjRVj5b"
      },
      "execution_count": null,
      "outputs": []
    },
    {
      "cell_type": "code",
      "source": [
        "del a,b,c;"
      ],
      "metadata": {
        "id": "lFT_DAgxVvPO"
      },
      "execution_count": null,
      "outputs": []
    },
    {
      "cell_type": "code",
      "source": [
        "True=1;"
      ],
      "metadata": {
        "colab": {
          "base_uri": "https://localhost:8080/",
          "height": 130
        },
        "id": "bjiO1WzDV_cC",
        "outputId": "aed5a3cd-f700-42f8-942c-1b4d0c7eb2f7"
      },
      "execution_count": null,
      "outputs": [
        {
          "output_type": "error",
          "ename": "SyntaxError",
          "evalue": "ignored",
          "traceback": [
            "\u001b[0;36m  File \u001b[0;32m\"<ipython-input-109-0284fee5e505>\"\u001b[0;36m, line \u001b[0;32m1\u001b[0m\n\u001b[0;31m    True=1;\u001b[0m\n\u001b[0m           ^\u001b[0m\n\u001b[0;31mSyntaxError\u001b[0m\u001b[0;31m:\u001b[0m can't assign to keyword\n"
          ]
        }
      ]
    },
    {
      "cell_type": "code",
      "source": [
        "comments=\"\"\" Multi line \n",
        "comments example \"\"\";\n",
        "comments"
      ],
      "metadata": {
        "colab": {
          "base_uri": "https://localhost:8080/",
          "height": 35
        },
        "id": "K8G66EjuWU5j",
        "outputId": "0da2eef3-df27-4d0c-b660-e85e0b942245"
      },
      "execution_count": null,
      "outputs": [
        {
          "output_type": "execute_result",
          "data": {
            "application/vnd.google.colaboratory.intrinsic+json": {
              "type": "string"
            },
            "text/plain": [
              "' Multi line \\ncomments example '"
            ]
          },
          "metadata": {},
          "execution_count": 126
        }
      ]
    },
    {
      "cell_type": "code",
      "source": [
        "for i in range(100,999,100):print(i)"
      ],
      "metadata": {
        "id": "9xdrABKDWqdq"
      },
      "execution_count": null,
      "outputs": []
    },
    {
      "cell_type": "code",
      "source": [
        "def function(n):\n",
        "  '''Takes in a number n, breaks when iteration raeaches n/2'''\n",
        "  for i in range(n):\n",
        "    print(i);\n",
        "    if i==(n/2):\n",
        "      break;\n",
        "\n",
        "function(10)"
      ],
      "metadata": {
        "colab": {
          "base_uri": "https://localhost:8080/"
        },
        "id": "-UEq_6OHW9-b",
        "outputId": "d8c89d66-f1bc-4db9-dbd2-d607970d19e3"
      },
      "execution_count": null,
      "outputs": [
        {
          "output_type": "stream",
          "name": "stdout",
          "text": [
            "0\n",
            "1\n",
            "2\n",
            "3\n",
            "4\n",
            "5\n"
          ]
        }
      ]
    },
    {
      "cell_type": "code",
      "source": [
        "print(function.__doc__)"
      ],
      "metadata": {
        "colab": {
          "base_uri": "https://localhost:8080/"
        },
        "id": "TTTr-s6VXbtQ",
        "outputId": "ef60ac85-e16d-4592-a3d7-fb559ab02535"
      },
      "execution_count": null,
      "outputs": [
        {
          "output_type": "stream",
          "name": "stdout",
          "text": [
            "Takes in a number n, breaks when iteration raeaches n/2\n"
          ]
        }
      ]
    },
    {
      "cell_type": "code",
      "source": [
        "import package as p\n",
        "print(package.__file__)\n",
        "s=(p.a+p.b+p.c)/2;\n",
        "area=(s*(s-p.a) * (s-p.b) * (s-p.c)) ** 0.5 \n",
        "print(s,area)\n",
        "\n"
      ],
      "metadata": {
        "colab": {
          "base_uri": "https://localhost:8080/"
        },
        "id": "bgDp-JPWoWSI",
        "outputId": "cd0d176d-814d-40a2-f28d-be9868f94f54"
      },
      "execution_count": null,
      "outputs": [
        {
          "output_type": "stream",
          "name": "stdout",
          "text": [
            "/usr/lib/python3.7/package.py\n",
            "22.5 72.61843774138907\n"
          ]
        }
      ]
    },
    {
      "cell_type": "code",
      "source": [
        "result_list=[i for i in range(10) if i%2==1]\n",
        "result_list"
      ],
      "metadata": {
        "colab": {
          "base_uri": "https://localhost:8080/"
        },
        "id": "b9hVVldXqHM5",
        "outputId": "bf4f09cd-f18d-4275-ea50-ea2b11212c7f"
      },
      "execution_count": null,
      "outputs": [
        {
          "output_type": "execute_result",
          "data": {
            "text/plain": [
              "[1, 3, 5, 7, 9]"
            ]
          },
          "metadata": {},
          "execution_count": 176
        }
      ]
    },
    {
      "cell_type": "code",
      "source": [
        "name='venkatesh'\n",
        "vowels=['a','e','i','o','u']\n",
        "\n",
        "def search(i):\n",
        "  if i in vowels:\n",
        "    return True\n",
        "\n",
        "result=[i for i in name if search(i)!=True]\n",
        "\n",
        "result"
      ],
      "metadata": {
        "colab": {
          "base_uri": "https://localhost:8080/"
        },
        "id": "KWCqd7BHv5Wu",
        "outputId": "cd4806ec-c606-46a1-a6d3-4b996196fdec"
      },
      "execution_count": null,
      "outputs": [
        {
          "output_type": "execute_result",
          "data": {
            "text/plain": [
              "['v', 'n', 'k', 't', 's', 'h']"
            ]
          },
          "metadata": {},
          "execution_count": 172
        }
      ]
    }
  ]
}