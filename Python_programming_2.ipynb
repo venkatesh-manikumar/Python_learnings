{
  "nbformat": 4,
  "nbformat_minor": 0,
  "metadata": {
    "colab": {
      "name": "Python_programming_2.ipynb",
      "provenance": [],
      "authorship_tag": "ABX9TyMPJidC46LBjfAKEH2pbozo",
      "include_colab_link": true
    },
    "kernelspec": {
      "name": "python3",
      "display_name": "Python 3"
    },
    "language_info": {
      "name": "python"
    }
  },
  "cells": [
    {
      "cell_type": "markdown",
      "metadata": {
        "id": "view-in-github",
        "colab_type": "text"
      },
      "source": [
        "<a href=\"https://colab.research.google.com/github/venkatesh-manikumar/Python_learnings/blob/main/Python_programming_2.ipynb\" target=\"_parent\"><img src=\"https://colab.research.google.com/assets/colab-badge.svg\" alt=\"Open In Colab\"/></a>"
      ]
    },
    {
      "cell_type": "code",
      "execution_count": 1,
      "metadata": {
        "id": "2N0pPteJxnbI"
      },
      "outputs": [],
      "source": [
        "import os "
      ]
    },
    {
      "cell_type": "markdown",
      "source": [
        "### DATATYPE CONVERSION\n"
      ],
      "metadata": {
        "id": "Kf7jgBygzCSR"
      }
    },
    {
      "cell_type": "code",
      "source": [
        "float(25)\n",
        "int(30.25)\n",
        "a='10.5'\n",
        "a"
      ],
      "metadata": {
        "colab": {
          "base_uri": "https://localhost:8080/",
          "height": 35
        },
        "id": "1Z43FqXnzLDx",
        "outputId": "bc319f25-f2c3-4212-c8d2-81dcfe31e5b6"
      },
      "execution_count": 5,
      "outputs": [
        {
          "output_type": "execute_result",
          "data": {
            "application/vnd.google.colaboratory.intrinsic+json": {
              "type": "string"
            },
            "text/plain": [
              "'10.5'"
            ]
          },
          "metadata": {},
          "execution_count": 5
        }
      ]
    },
    {
      "cell_type": "code",
      "source": [
        "str(20)"
      ],
      "metadata": {
        "colab": {
          "base_uri": "https://localhost:8080/",
          "height": 35
        },
        "id": "jXcUoUyJzaRV",
        "outputId": "4f7cfd6a-f240-498a-fdd6-69afad7f3f34"
      },
      "execution_count": 6,
      "outputs": [
        {
          "output_type": "execute_result",
          "data": {
            "application/vnd.google.colaboratory.intrinsic+json": {
              "type": "string"
            },
            "text/plain": [
              "'20'"
            ]
          },
          "metadata": {},
          "execution_count": 6
        }
      ]
    },
    {
      "cell_type": "markdown",
      "source": [
        "### LIST TO SET CONVERSION\n",
        "\n",
        "List is Mutable"
      ],
      "metadata": {
        "id": "dmr8HZsX0Snt"
      }
    },
    {
      "cell_type": "code",
      "source": [
        "num_list=[1,2,3,4,5,6,6,7,7]\n",
        "num_set=set(num_list)\n",
        "num_set\n",
        "num_list[1]=44 # Reassignment is possible in LIST\n",
        "\n",
        "num_list"
      ],
      "metadata": {
        "colab": {
          "base_uri": "https://localhost:8080/"
        },
        "id": "awJrFB430FUV",
        "outputId": "351c9ae7-db9b-4316-98b9-df001f6e29c5"
      },
      "execution_count": 62,
      "outputs": [
        {
          "output_type": "execute_result",
          "data": {
            "text/plain": [
              "[1, 44, 3, 4, 5, 6, 6, 7, 7]"
            ]
          },
          "metadata": {},
          "execution_count": 62
        }
      ]
    },
    {
      "cell_type": "markdown",
      "source": [
        "#### SET TO TUPLE CONVERSION"
      ],
      "metadata": {
        "id": "tB6OkfEl0YMv"
      }
    },
    {
      "cell_type": "code",
      "source": [
        "num_tuple=tuple(num_set)\n",
        "num_tuple"
      ],
      "metadata": {
        "colab": {
          "base_uri": "https://localhost:8080/"
        },
        "id": "1t9eCczn0cax",
        "outputId": "a5a37e67-866b-4d9a-95b8-a23c95b6dc77"
      },
      "execution_count": 25,
      "outputs": [
        {
          "output_type": "execute_result",
          "data": {
            "text/plain": [
              "(1, 2, 3, 4, 5, 6, 7)"
            ]
          },
          "metadata": {},
          "execution_count": 25
        }
      ]
    },
    {
      "cell_type": "markdown",
      "source": [
        "Tuple is Immutable"
      ],
      "metadata": {
        "id": "IQNNEaqB3b_2"
      }
    },
    {
      "cell_type": "code",
      "source": [
        "num_tuple=(1,1,2,2,3,3,0)\n",
        "num_tuple=(1,1,2,2,3,3,0,10)\n",
        "num_tuple[1]=100 # Reassignment is not possible in TUPLE\n",
        "num_tuple"
      ],
      "metadata": {
        "colab": {
          "base_uri": "https://localhost:8080/",
          "height": 217
        },
        "id": "NoO-wI9e1EsQ",
        "outputId": "ad89b6dd-9cdb-4a51-a5ae-99d0e453b5a4"
      },
      "execution_count": 35,
      "outputs": [
        {
          "output_type": "error",
          "ename": "TypeError",
          "evalue": "ignored",
          "traceback": [
            "\u001b[0;31m---------------------------------------------------------------------------\u001b[0m",
            "\u001b[0;31mTypeError\u001b[0m                                 Traceback (most recent call last)",
            "\u001b[0;32m<ipython-input-35-9c5a22059e45>\u001b[0m in \u001b[0;36m<module>\u001b[0;34m()\u001b[0m\n\u001b[1;32m      1\u001b[0m \u001b[0mnum_tuple\u001b[0m\u001b[0;34m=\u001b[0m\u001b[0;34m(\u001b[0m\u001b[0;36m1\u001b[0m\u001b[0;34m,\u001b[0m\u001b[0;36m1\u001b[0m\u001b[0;34m,\u001b[0m\u001b[0;36m2\u001b[0m\u001b[0;34m,\u001b[0m\u001b[0;36m2\u001b[0m\u001b[0;34m,\u001b[0m\u001b[0;36m3\u001b[0m\u001b[0;34m,\u001b[0m\u001b[0;36m3\u001b[0m\u001b[0;34m,\u001b[0m\u001b[0;36m0\u001b[0m\u001b[0;34m)\u001b[0m\u001b[0;34m\u001b[0m\u001b[0;34m\u001b[0m\u001b[0m\n\u001b[1;32m      2\u001b[0m \u001b[0mnum_tuple\u001b[0m\u001b[0;34m=\u001b[0m\u001b[0;34m(\u001b[0m\u001b[0;36m1\u001b[0m\u001b[0;34m,\u001b[0m\u001b[0;36m1\u001b[0m\u001b[0;34m,\u001b[0m\u001b[0;36m2\u001b[0m\u001b[0;34m,\u001b[0m\u001b[0;36m2\u001b[0m\u001b[0;34m,\u001b[0m\u001b[0;36m3\u001b[0m\u001b[0;34m,\u001b[0m\u001b[0;36m3\u001b[0m\u001b[0;34m,\u001b[0m\u001b[0;36m0\u001b[0m\u001b[0;34m,\u001b[0m\u001b[0;36m10\u001b[0m\u001b[0;34m)\u001b[0m\u001b[0;34m\u001b[0m\u001b[0;34m\u001b[0m\u001b[0m\n\u001b[0;32m----> 3\u001b[0;31m \u001b[0mnum_tuple\u001b[0m\u001b[0;34m[\u001b[0m\u001b[0;36m1\u001b[0m\u001b[0;34m]\u001b[0m\u001b[0;34m=\u001b[0m\u001b[0;36m100\u001b[0m\u001b[0;34m\u001b[0m\u001b[0;34m\u001b[0m\u001b[0m\n\u001b[0m\u001b[1;32m      4\u001b[0m \u001b[0mnum_tuple\u001b[0m\u001b[0;34m\u001b[0m\u001b[0;34m\u001b[0m\u001b[0m\n",
            "\u001b[0;31mTypeError\u001b[0m: 'tuple' object does not support item assignment"
          ]
        }
      ]
    },
    {
      "cell_type": "code",
      "source": [
        "list('RAM')"
      ],
      "metadata": {
        "colab": {
          "base_uri": "https://localhost:8080/"
        },
        "id": "37IAznxR170R",
        "outputId": "03394286-ad79-48ea-83d4-adaabc0ba363"
      },
      "execution_count": 24,
      "outputs": [
        {
          "output_type": "execute_result",
          "data": {
            "text/plain": [
              "['R', 'A', 'M']"
            ]
          },
          "metadata": {},
          "execution_count": 24
        }
      ]
    },
    {
      "cell_type": "code",
      "source": [
        "print(dict([[\"name\",\"Roll\"],[10,20]]))"
      ],
      "metadata": {
        "colab": {
          "base_uri": "https://localhost:8080/"
        },
        "id": "VJKdtTSM2MAN",
        "outputId": "ceb30c5c-6880-49c1-acea-3c4350ae79ec"
      },
      "execution_count": 61,
      "outputs": [
        {
          "output_type": "stream",
          "name": "stdout",
          "text": [
            "{'name': 'Roll', 10: 20}\n"
          ]
        }
      ]
    },
    {
      "cell_type": "markdown",
      "source": [
        "### TYPE CONVERSION\n",
        "\n",
        "1.   Implicit Conversion\n",
        "2.   Explicit Conversion\n",
        "\n",
        "\n"
      ],
      "metadata": {
        "id": "Fdphh7N24d3_"
      }
    },
    {
      "cell_type": "code",
      "source": [
        "int_var=100\n",
        "float_var=200.56\n",
        "\n",
        "result=int_var+float_var\n",
        "\n",
        "print('Implicit conversion',result,type(result))"
      ],
      "metadata": {
        "colab": {
          "base_uri": "https://localhost:8080/"
        },
        "id": "a_vhMnwE4f9t",
        "outputId": "65dd7311-fbd2-42bb-b1a8-3227dbe6675f"
      },
      "execution_count": 50,
      "outputs": [
        {
          "output_type": "stream",
          "name": "stdout",
          "text": [
            "Implicit conversion 300.56 <class 'float'>\n"
          ]
        }
      ]
    },
    {
      "cell_type": "code",
      "source": [
        "int_var=100\n",
        "string_var=\"200.56\"\n",
        "\n",
        "result=int_var+float(string_var)\n",
        "\n",
        "print('Implicit conversion',result,type(result))"
      ],
      "metadata": {
        "colab": {
          "base_uri": "https://localhost:8080/"
        },
        "id": "Me03BpZw5bRD",
        "outputId": "67145598-7d6b-4926-940a-66f805eca4fb"
      },
      "execution_count": 51,
      "outputs": [
        {
          "output_type": "stream",
          "name": "stdout",
          "text": [
            "Implicit conversion 300.56 <class 'float'>\n"
          ]
        }
      ]
    },
    {
      "cell_type": "markdown",
      "source": [
        "### Input"
      ],
      "metadata": {
        "id": "9tD73ro975wy"
      }
    },
    {
      "cell_type": "code",
      "source": [
        "num_1=int(input(\"Enter the number_1 : \"))\n",
        "num_2=int(input(\"Enter the number_2 : \"))\n",
        "\n",
        "print(num_1+num_2)"
      ],
      "metadata": {
        "colab": {
          "base_uri": "https://localhost:8080/"
        },
        "id": "l1GMcAcS77gM",
        "outputId": "48d82f26-ae75-4f81-93d1-89498d4ca2d4"
      },
      "execution_count": 69,
      "outputs": [
        {
          "output_type": "stream",
          "name": "stdout",
          "text": [
            "Enter the number_1 : 10\n",
            "Enter the number_2 : 20\n",
            "30\n"
          ]
        }
      ]
    },
    {
      "cell_type": "code",
      "source": [
        "int_input=100\n",
        "str_input=\" ABC \"\n",
        "\n",
        "str(int_input) + str_input"
      ],
      "metadata": {
        "colab": {
          "base_uri": "https://localhost:8080/",
          "height": 35
        },
        "id": "pFMqyROT-Vrf",
        "outputId": "72f70324-a3b9-4a7d-e9fc-a8f2b08347c8"
      },
      "execution_count": 79,
      "outputs": [
        {
          "output_type": "execute_result",
          "data": {
            "application/vnd.google.colaboratory.intrinsic+json": {
              "type": "string"
            },
            "text/plain": [
              "'100 ABC '"
            ]
          },
          "metadata": {},
          "execution_count": 79
        }
      ]
    },
    {
      "cell_type": "code",
      "source": [
        "a= eval('str(int_input) + str_input')\n",
        "a"
      ],
      "metadata": {
        "colab": {
          "base_uri": "https://localhost:8080/",
          "height": 35
        },
        "id": "OXHPWyeA_VBX",
        "outputId": "f4a0858e-2fa1-4ceb-9521-37caecdb0baf"
      },
      "execution_count": 80,
      "outputs": [
        {
          "output_type": "execute_result",
          "data": {
            "application/vnd.google.colaboratory.intrinsic+json": {
              "type": "string"
            },
            "text/plain": [
              "'100 ABC '"
            ]
          },
          "metadata": {},
          "execution_count": 80
        }
      ]
    },
    {
      "cell_type": "markdown",
      "source": [
        "### OPERATORS"
      ],
      "metadata": {
        "id": "bAz1NxjdAPgJ"
      }
    },
    {
      "cell_type": "code",
      "source": [
        "x = 201\n",
        "y = 4.0\n",
        "\n",
        "print( x + y)\n",
        "print( x - y)\n",
        "print( x * y)\n",
        "print( x / y)\n",
        "print( x // y)\n",
        "print( x % y)\n",
        "print( x ** y)\n",
        "print(round(y))\n"
      ],
      "metadata": {
        "colab": {
          "base_uri": "https://localhost:8080/"
        },
        "id": "aH6ZDZn_ARm2",
        "outputId": "ca20e7b1-599b-4b93-909b-965fcf777e75"
      },
      "execution_count": 91,
      "outputs": [
        {
          "output_type": "stream",
          "name": "stdout",
          "text": [
            "205.0\n",
            "197.0\n",
            "804.0\n",
            "50.25\n",
            "50.0\n",
            "1.0\n",
            "1632240801.0\n",
            "4\n"
          ]
        }
      ]
    },
    {
      "cell_type": "code",
      "source": [
        "a = True\n",
        "b = False\n",
        "\n",
        "print(a and b)\n",
        "print(a or b)\n",
        "print( not a)"
      ],
      "metadata": {
        "colab": {
          "base_uri": "https://localhost:8080/"
        },
        "id": "UuKaOWMtCG9A",
        "outputId": "4cb7e520-0f57-4eb5-db6f-1b622d55deb7"
      },
      "execution_count": 92,
      "outputs": [
        {
          "output_type": "stream",
          "name": "stdout",
          "text": [
            "False\n",
            "True\n",
            "False\n"
          ]
        }
      ]
    },
    {
      "cell_type": "markdown",
      "source": [
        "### IS OPERATOR"
      ],
      "metadata": {
        "id": "hc5pr7R1G85u"
      }
    },
    {
      "cell_type": "code",
      "source": [
        "x1= 5\n",
        "y1= 5\n",
        "\n",
        "print(x1 is y1 , id(x1),id(y1))"
      ],
      "metadata": {
        "colab": {
          "base_uri": "https://localhost:8080/"
        },
        "id": "8vhmxow1GRTO",
        "outputId": "b41f3002-f7c7-421c-e82a-9e94df390785"
      },
      "execution_count": 93,
      "outputs": [
        {
          "output_type": "stream",
          "name": "stdout",
          "text": [
            "True 93866057476736 93866057476736\n"
          ]
        }
      ]
    },
    {
      "cell_type": "code",
      "source": [
        "x2= \"STR\"\n",
        "y2= \"STR\"\n",
        "\n",
        "print(x2 is y2 , id(x2),id(y2))"
      ],
      "metadata": {
        "colab": {
          "base_uri": "https://localhost:8080/"
        },
        "id": "I79hikpkGbVf",
        "outputId": "6359197b-875f-482b-dbe9-3b8f85c7b309"
      },
      "execution_count": 96,
      "outputs": [
        {
          "output_type": "stream",
          "name": "stdout",
          "text": [
            "True 140202835166192 140202835166192\n"
          ]
        }
      ]
    },
    {
      "cell_type": "code",
      "source": [
        "x3= [1,2,3]\n",
        "y3= [1,2,3]\n",
        "\n",
        "print(x3 is y3 , id(x3),id(y3))\n",
        "\n",
        "\n",
        "\n",
        "print(x3[0] is y3[0] ,id(x3[0]),id(y3[0])) "
      ],
      "metadata": {
        "colab": {
          "base_uri": "https://localhost:8080/"
        },
        "id": "3HuYwSx2GmHe",
        "outputId": "1133d94a-10bb-41f2-f57e-23b6b27c7178"
      },
      "execution_count": 101,
      "outputs": [
        {
          "output_type": "stream",
          "name": "stdout",
          "text": [
            "False 140202835014512 140202834913952\n",
            "True 93866057476608 93866057476608\n"
          ]
        }
      ]
    },
    {
      "cell_type": "markdown",
      "source": [
        "### MEMBERSHIP OPERATORS"
      ],
      "metadata": {
        "id": "f0jsIWl1P3nK"
      }
    },
    {
      "cell_type": "code",
      "source": [
        "y = {10:\"A\",20:\"B\",30:\"C\"}\n",
        "\n",
        "print( 10 in y)\n",
        "print( 20 in y.keys())\n",
        "print( \"A\" in y.values())"
      ],
      "metadata": {
        "colab": {
          "base_uri": "https://localhost:8080/"
        },
        "id": "N23_XnjtP6GS",
        "outputId": "bf52470c-01d6-42ad-d78b-e7e4ec673991"
      },
      "execution_count": 109,
      "outputs": [
        {
          "output_type": "stream",
          "name": "stdout",
          "text": [
            "True\n",
            "True\n",
            "True\n"
          ]
        }
      ]
    },
    {
      "cell_type": "markdown",
      "source": [
        "### IF STATEMETNS"
      ],
      "metadata": {
        "id": "o9lcfoKiQrEJ"
      }
    },
    {
      "cell_type": "code",
      "source": [
        "num = int(input(\"ENTER THE VALUE : \"))\n",
        "\n",
        "if  num > 0:\n",
        "  if num == 0:\n",
        "      print('Neutral')\n",
        "  print('Positive')\n",
        "else:\n",
        "  print('Negative')"
      ],
      "metadata": {
        "colab": {
          "base_uri": "https://localhost:8080/"
        },
        "id": "D79DLjJxQtla",
        "outputId": "883aae81-860b-4177-b67b-535fff473490"
      },
      "execution_count": 114,
      "outputs": [
        {
          "output_type": "stream",
          "name": "stdout",
          "text": [
            "ENTER THE VALUE : 20\n",
            "Positive\n"
          ]
        }
      ]
    },
    {
      "cell_type": "markdown",
      "source": [
        "### LOOPS"
      ],
      "metadata": {
        "id": "TjuYa7dKTRso"
      }
    },
    {
      "cell_type": "code",
      "source": [
        "list([1,2,3])\n",
        "\n",
        "result_list=list({1,1,2,2,3})\n",
        "result_list=list({10:'value1',20:'value2'})\n",
        "\n",
        "result_list\n"
      ],
      "metadata": {
        "colab": {
          "base_uri": "https://localhost:8080/"
        },
        "id": "CHSGBYoWTWn9",
        "outputId": "09cb70c7-3923-4226-c9b1-20cebf24a872"
      },
      "execution_count": 6,
      "outputs": [
        {
          "output_type": "execute_result",
          "data": {
            "text/plain": [
              "[10, 20]"
            ]
          },
          "metadata": {},
          "execution_count": 6
        }
      ]
    },
    {
      "cell_type": "markdown",
      "source": [
        "## TypeError: 'list' object is not callable\n",
        "\n",
        "list=[8,9,10] # NOT RECOMMENDED AS IT IMPACTS BELOW NORMAL CALL , AS 'list' is considered as variable\n",
        "\n",
        "result_list=list({1,1,2,2,3})"
      ],
      "metadata": {
        "id": "I1S0CSSpXyIJ"
      }
    },
    {
      "cell_type": "code",
      "source": [
        "## TypeError: 'list' object is not callable\n",
        "\n",
        "list=[8,9,10] # NOT RECOMMENDED AS IT IMPACTS BELOW NORMAL CALL , AS 'list' is considered as variable\n",
        "list\n",
        "\n",
        "result_list=list({1,1,2,2,3})"
      ],
      "metadata": {
        "colab": {
          "base_uri": "https://localhost:8080/",
          "height": 200
        },
        "id": "s2gqnIskXS0t",
        "outputId": "8fac88d7-0691-4090-ad22-6f74bcc4645c"
      },
      "execution_count": 9,
      "outputs": [
        {
          "output_type": "error",
          "ename": "TypeError",
          "evalue": "ignored",
          "traceback": [
            "\u001b[0;31m---------------------------------------------------------------------------\u001b[0m",
            "\u001b[0;31mTypeError\u001b[0m                                 Traceback (most recent call last)",
            "\u001b[0;32m<ipython-input-9-85effad57104>\u001b[0m in \u001b[0;36m<module>\u001b[0;34m()\u001b[0m\n\u001b[1;32m      4\u001b[0m \u001b[0mlist\u001b[0m\u001b[0;34m\u001b[0m\u001b[0;34m\u001b[0m\u001b[0m\n\u001b[1;32m      5\u001b[0m \u001b[0;34m\u001b[0m\u001b[0m\n\u001b[0;32m----> 6\u001b[0;31m \u001b[0mresult_list\u001b[0m\u001b[0;34m=\u001b[0m\u001b[0mlist\u001b[0m\u001b[0;34m(\u001b[0m\u001b[0;34m{\u001b[0m\u001b[0;36m1\u001b[0m\u001b[0;34m,\u001b[0m\u001b[0;36m1\u001b[0m\u001b[0;34m,\u001b[0m\u001b[0;36m2\u001b[0m\u001b[0;34m,\u001b[0m\u001b[0;36m2\u001b[0m\u001b[0;34m,\u001b[0m\u001b[0;36m3\u001b[0m\u001b[0;34m}\u001b[0m\u001b[0;34m)\u001b[0m\u001b[0;34m\u001b[0m\u001b[0;34m\u001b[0m\u001b[0m\n\u001b[0m",
            "\u001b[0;31mTypeError\u001b[0m: 'list' object is not callable"
          ]
        }
      ]
    }
  ]
}