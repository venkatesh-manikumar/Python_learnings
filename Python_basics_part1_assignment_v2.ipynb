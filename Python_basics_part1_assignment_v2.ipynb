{
  "nbformat": 4,
  "nbformat_minor": 0,
  "metadata": {
    "colab": {
      "name": "Python_basics_part1_assignment_v2.ipynb",
      "provenance": [],
      "collapsed_sections": [],
      "authorship_tag": "ABX9TyOvWNrgVOxIxI/j6YNlobDu",
      "include_colab_link": true
    },
    "kernelspec": {
      "name": "python3",
      "display_name": "Python 3"
    },
    "language_info": {
      "name": "python"
    }
  },
  "cells": [
    {
      "cell_type": "markdown",
      "metadata": {
        "id": "view-in-github",
        "colab_type": "text"
      },
      "source": [
        "<a href=\"https://colab.research.google.com/github/venkatesh-manikumar/Python_learnings/blob/main/Python_basics_part1_assignment_v2.ipynb\" target=\"_parent\"><img src=\"https://colab.research.google.com/assets/colab-badge.svg\" alt=\"Open In Colab\"/></a>"
      ]
    },
    {
      "cell_type": "markdown",
      "source": [
        "1.\tCreate a file calc.py which has following functions\n",
        "    a.\tFunction to find the factorial of a number\n",
        "    b.\tFunction to convert degree to Fahrenheit\n",
        "\n",
        "Write a new program in file “maths.py” such that you import functions of the file calc.py to your new program. Use from <module> import <functions> statement to import the functions from the calc module"
      ],
      "metadata": {
        "id": "mH4luqpaqkId"
      }
    },
    {
      "cell_type": "code",
      "source": [
        "\n",
        "def factorial(n):\n",
        "  if n==1:\n",
        "    return 1\n",
        "  return n* factorial(n-1)\n",
        "\n",
        "def conversion(t):return t*(9/5)+32\n",
        "\n",
        "print(factorial(6))\n",
        "print(\"{0:.2f}\".format(conversion(6)))\n"
      ],
      "metadata": {
        "colab": {
          "base_uri": "https://localhost:8080/"
        },
        "id": "JUHXRoSVqmhq",
        "outputId": "d6e8626d-3150-43ab-c367-153eb161a186"
      },
      "execution_count": 100,
      "outputs": [
        {
          "output_type": "stream",
          "name": "stdout",
          "text": [
            "720\n",
            "42.80\n",
            "15511210043330985984000000\n",
            "\n"
          ]
        }
      ]
    },
    {
      "cell_type": "markdown",
      "source": [
        "2.\tImplement a simple generator for Fibonacci series"
      ],
      "metadata": {
        "id": "HWFhWbc2xHLG"
      }
    },
    {
      "cell_type": "code",
      "source": [
        "def fibonocci_generator(n):\n",
        "  a,b=0,1\n",
        "  for i in range(0,n):\n",
        "      yield(a)\n",
        "      a,b=b,a+b"
      ],
      "metadata": {
        "id": "2IGJaHgFrBSb"
      },
      "execution_count": 201,
      "outputs": []
    },
    {
      "cell_type": "code",
      "source": [
        "for i in fibonocci_generator(10):\n",
        "  print(i)"
      ],
      "metadata": {
        "colab": {
          "base_uri": "https://localhost:8080/"
        },
        "id": "UGT630pHuDAc",
        "outputId": "ab2a33fd-2a2d-4bff-a66b-fcda22fd1d69"
      },
      "execution_count": 206,
      "outputs": [
        {
          "output_type": "stream",
          "name": "stdout",
          "text": [
            "0\n",
            "1\n",
            "1\n",
            "2\n",
            "3\n",
            "5\n",
            "8\n",
            "13\n",
            "21\n",
            "34\n"
          ]
        }
      ]
    },
    {
      "cell_type": "markdown",
      "source": [
        "3.\tWrite an iterator class to iterate over a sequence of values in the reverse direction"
      ],
      "metadata": {
        "id": "6at3F-KdQNEP"
      }
    },
    {
      "cell_type": "code",
      "source": [
        "class reverse_iterator:\n",
        "\n",
        "  def __init__(self, seq):\n",
        "        self.seq = seq\n",
        "  \n",
        "  def __iter__(self):\n",
        "    self.length = len(self.seq)-1\n",
        "    return self\n",
        "        \n",
        "  def __next__(self):\n",
        "    # Current value\n",
        "    l = self.length\n",
        "\n",
        "    # Stop iteration if limit is reached\n",
        "    if l<=-1:\n",
        "        raise StopIteration\n",
        " \n",
        "    # Else increment and return old value\n",
        "    self.length = self.length - 1\n",
        "    return self.seq[l]\n"
      ],
      "metadata": {
        "id": "gc_pmsckQRle"
      },
      "execution_count": 32,
      "outputs": []
    },
    {
      "cell_type": "code",
      "source": [
        "data= \"DATA SCIENCE\"\n",
        "for i in reverse_iterator(data):\n",
        "  print(i)"
      ],
      "metadata": {
        "colab": {
          "base_uri": "https://localhost:8080/"
        },
        "id": "MS1NtXXYU8MT",
        "outputId": "77d0f53b-70e2-4605-9ec1-ab21c8960fce"
      },
      "execution_count": 34,
      "outputs": [
        {
          "output_type": "stream",
          "name": "stdout",
          "text": [
            "E\n",
            "C\n",
            "N\n",
            "E\n",
            "I\n",
            "C\n",
            "S\n",
            " \n",
            "A\n",
            "T\n",
            "A\n",
            "D\n"
          ]
        }
      ]
    },
    {
      "cell_type": "markdown",
      "source": [
        "4.\tWrite a function “salary” that takes in base pay, HRA and special allowance as arguments and returns the sum of all the 3 salary elements. Then create a decorator function to add an additional element “Tax” (30% of base pay) and assign it back to base pay variable, and return the function (i.e., the final calculation of salary also includes tax)"
      ],
      "metadata": {
        "id": "nMBehLWMw74L"
      }
    },
    {
      "cell_type": "code",
      "source": [
        "def decorating_func(f): \n",
        "  def nested(bp,hra,sa):\n",
        "    tax = (bp * 30)/100\n",
        "    bp=bp+tax\n",
        "    return f(bp,hra,sa)\n",
        "\n",
        "  return nested\n",
        "\n",
        "@decorating_func\n",
        "def salary(bp,hra,sa):\n",
        "  return bp+hra+sa\n",
        "\n",
        "salary(1000,50,50)\n"
      ],
      "metadata": {
        "colab": {
          "base_uri": "https://localhost:8080/"
        },
        "id": "DO6tkKdhw8mG",
        "outputId": "f9e12d3e-19bd-460e-eacb-7d4b2ef79bf4"
      },
      "execution_count": 39,
      "outputs": [
        {
          "output_type": "execute_result",
          "data": {
            "text/plain": [
              "1400.0"
            ]
          },
          "metadata": {},
          "execution_count": 39
        }
      ]
    },
    {
      "cell_type": "markdown",
      "source": [
        "5.\tWrite 3 examples on possible methods to changing a tuple"
      ],
      "metadata": {
        "id": "BrjsOgLUzli9"
      }
    },
    {
      "cell_type": "markdown",
      "source": [
        "### Reassigment is made as possible in Tuple , by having tuple(list[ ])\n",
        "\n",
        "METHOD 1"
      ],
      "metadata": {
        "id": "Rp7JKsCl01HJ"
      }
    },
    {
      "cell_type": "code",
      "source": [
        "tuple_data = ([10,20,30],[40,50,60])\n",
        "print(type(tuple_data))"
      ],
      "metadata": {
        "colab": {
          "base_uri": "https://localhost:8080/"
        },
        "id": "_-w7iADuzmTx",
        "outputId": "6f8f85c6-e414-4c3b-e7c3-76ba0b73de83"
      },
      "execution_count": 40,
      "outputs": [
        {
          "output_type": "stream",
          "name": "stdout",
          "text": [
            "<class 'tuple'>\n"
          ]
        }
      ]
    },
    {
      "cell_type": "code",
      "source": [
        "tuple_data[0][1] = 1000\n",
        "tuple_data"
      ],
      "metadata": {
        "colab": {
          "base_uri": "https://localhost:8080/"
        },
        "id": "dA3I-t7XzyLz",
        "outputId": "36246892-34f2-457c-c51e-2412646e8f54"
      },
      "execution_count": 46,
      "outputs": [
        {
          "output_type": "execute_result",
          "data": {
            "text/plain": [
              "([10, 1000, 30], [40, 50, 60])"
            ]
          },
          "metadata": {},
          "execution_count": 46
        }
      ]
    },
    {
      "cell_type": "markdown",
      "source": [
        "METHOD 2"
      ],
      "metadata": {
        "id": "rjlW3gzD1vy6"
      }
    },
    {
      "cell_type": "code",
      "source": [
        "tuple_data = (10,20,30,40,50,60)\n",
        "list_data = list(tuple_data)\n",
        "list_data.remove(10)\n",
        "print(list_data)"
      ],
      "metadata": {
        "colab": {
          "base_uri": "https://localhost:8080/"
        },
        "id": "sz6dLePu1xtL",
        "outputId": "bb8d0b36-6d07-4eb4-fa81-3c565966ab33"
      },
      "execution_count": 53,
      "outputs": [
        {
          "output_type": "stream",
          "name": "stdout",
          "text": [
            "[20, 30, 40, 50, 60]\n"
          ]
        }
      ]
    },
    {
      "cell_type": "markdown",
      "source": [
        "METHOD 3"
      ],
      "metadata": {
        "id": "ECZCknXR2hkI"
      }
    },
    {
      "cell_type": "code",
      "source": [
        "tuple_data = (10,20,30,40,50,60)\n",
        "list_data = list(tuple_data)\n",
        "list_data.append(333)\n",
        "print(list_data)"
      ],
      "metadata": {
        "colab": {
          "base_uri": "https://localhost:8080/"
        },
        "id": "BreMd8B-2is1",
        "outputId": "f95e86a1-316e-42f3-937f-4677cb37d5f9"
      },
      "execution_count": 55,
      "outputs": [
        {
          "output_type": "stream",
          "name": "stdout",
          "text": [
            "[10, 20, 30, 40, 50, 60, 333]\n"
          ]
        }
      ]
    }
  ]
}